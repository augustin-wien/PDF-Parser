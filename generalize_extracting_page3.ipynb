{
 "cells": [
  {
   "cell_type": "code",
   "execution_count": 77,
   "metadata": {},
   "outputs": [],
   "source": [
    "# Import necessary libraries\n",
    "import base64\n",
    "import json\n",
    "\n",
    "import os\n",
    "import fitz\n",
    "import requests"
   ]
  },
  {
   "attachments": {},
   "cell_type": "markdown",
   "metadata": {},
   "source": [
    "## Save page 3 with clean contents"
   ]
  },
  {
   "cell_type": "code",
   "execution_count": 78,
   "metadata": {},
   "outputs": [
    {
     "name": "stdout",
     "output_type": "stream",
     "text": [
      "Rect(27.194091796875, 61.0030517578125, 601.9796142578125, 444.04248046875) 5 (92, 0, 799, 532, 8, 'ICCBased', '', 'Im5', 'DCTDecode', 94)\n"
     ]
    }
   ],
   "source": [
    "src = fitz.open(\"../PyMuPDF_playground/576_augustin_fertig_kontrolle.pdf\")\n",
    "new_doc = fitz.open()  # empty output PDF\n",
    "\n",
    "page = src.load_page(1)\n",
    "r = page.rect\n",
    "d = fitz.Rect(\n",
    "    # CropBox displacement if being set\n",
    "    page.cropbox_position,\n",
    "    page.cropbox_position,\n",
    ")  # starting at (0, 0)\n",
    "\n",
    "r1 = r\n",
    "r1.x1 = r1.x1 / 2  # left side of double page\n",
    "r2 = r1 + (r1.width, 0, r1.width, 0)  # right side of double page\n",
    "\n",
    "r2 += d  # add the CropBox displacement\n",
    "new_page = new_doc.new_page(-1, width=r2.width, height=r2.height)\n",
    "new_page.show_pdf_page(\n",
    "    new_page.rect,\n",
    "    src,\n",
    "    page.number,\n",
    "    clip=r2,\n",
    ")\n",
    "\n",
    "img_list = new_page.get_images(full=True)\n",
    "\n",
    "for i, img in enumerate(img_list):\n",
    "    rect = new_page.get_image_bbox(img)\n",
    "    if rect[0] > 0 and rect[1] > 0 and rect[2] > 0 and rect[3] > 0:\n",
    "        wanted_xref = img[0]\n",
    "        print(rect, i, img)"
   ]
  },
  {
   "attachments": {},
   "cell_type": "markdown",
   "metadata": {},
   "source": [
    "After finding out where the single image is, let's extract it."
   ]
  },
  {
   "cell_type": "code",
   "execution_count": 79,
   "metadata": {},
   "outputs": [],
   "source": [
    "if not wanted_xref is None:\n",
    "    image = new_doc.extract_image(wanted_xref)\n",
    "    # write extracted image to file\n",
    "    image_title = src.name.split('.')[2].split('/')[2]+\"_image_\"+str(wanted_xref)\n",
    "    image_path = os.path.join(\n",
    "        '/home/funny/Documents/Projects/230701-Parsing-Tool/augustin-plugin/sample_data/',\n",
    "        image_title+\".\"+image['ext']\n",
    "        )\n",
    "    with open(\n",
    "        (image_path),\n",
    "        \"wb\",\n",
    "    ) as imgout:\n",
    "        imgout.write(image[\"image\"])\n",
    "    \n",
    "else:\n",
    "    print(\"No image found\")"
   ]
  },
  {
   "attachments": {},
   "cell_type": "markdown",
   "metadata": {},
   "source": [
    "## Extract text"
   ]
  },
  {
   "cell_type": "code",
   "execution_count": 80,
   "metadata": {},
   "outputs": [
    {
     "data": {
      "text/plain": [
       "Rect(0.0, 566.9293212890625, 637.7949829101562, 850.3939819335938)"
      ]
     },
     "execution_count": 80,
     "metadata": {},
     "output_type": "execute_result"
    }
   ],
   "source": [
    "r = new_page.rect\n",
    "r.y0 = (r.y1 * 2) / 3  # two third of page height\n",
    "r"
   ]
  },
  {
   "cell_type": "code",
   "execution_count": 81,
   "metadata": {},
   "outputs": [
    {
     "data": {
      "text/plain": [
       "'I\\nch verkaufe den Augustin im fünften  Bezirk \\nvor einem Hofer. Den Verkaufsplatz  finde \\nich okay, denn die Menschen dort sind sehr \\nfreundlich und es gibt keine Aggressivität. \\nIch habe drei Jahre auf einen Augustin-Aus-\\nweis gewartet (es gibt eine Warteliste, Anm.). \\nDavor habe ich die Straßenzeitung MO verkauft, \\naber mit dem Augustin läuft es  besser. Ich bin \\n2017 mit meiner Frau und meinen beiden Kin-\\ndern hergekommen. Die Eltern meiner Frau \\nsind schon seit 2000 in Wien, also haben sie \\nmir  dabei geholfen, hier Fuß zu fassen.\\nIch bin in Wien, weil ich hier Geld verdienen \\nkann. In Rumänien gibt es fast keine Arbeit. Dort \\nhabe ich im Holzlager meiner Eltern gearbeitet, \\naber man verdient mit dem Job fast gar nichts. In \\nBezug auf Jobs habe ich keine hohen Ansprüche. \\nIch arbeite das, was man von mir verlangt. Nur \\nist es schwer für mich zu kommunizieren, weil \\nich die Sprache nicht verstehe. Ich habe auch \\nbei Uber gearbeitet und bei einem Gemüsehänd-\\nler. Das war leichter, weil diese auch  Rumänisch \\n gesprochen haben. Zwei Jahre lang habe ich beim \\nPaketdienst GLS gearbeitet, aber \\nbin wieder zum Straßenzeitungs-\\nverkauf zurück. Ich musste immer \\nwieder nach Rumänien zur Familie, \\nund als ich wieder zurückkam, wa-\\nren die Stellen schon neu besetzt.\\nNatürlich habe ich irgendwann \\ndas Bedürfnis, meine Familie zu \\nsehen. Für mich ist es Pflicht, alle \\nsechs Monate hinzufahren.  Meine \\nEltern und meine Geschwister leben im Süden \\nvon Rumänien. Mit dem Auto braucht man elf \\nStunden. In Wien fühle ich mich mehr zu Hause, \\nweil ich hier die meiste Zeit verbringe. Eine Wo-\\nche in Rumänien – das reicht gerade, um mich \\nwieder von meinen Eltern zu verabschieden. Ich \\nhabe mich daran gewöhnt.\\nIn meiner Freizeit gehe ich mit  meinen \\nGlaubensbrüdern in die  Kirche. Wir sind alle \\nChristen und sprechen ein paar  Worte an Gott \\naus. Wir  haben beim Westbahn-\\nhof eine  Kirche gemietet und \\nzahlen die  Miete gemeinsam. \\nIm Moment  besuche ich  einen \\nDeutschkurs vom AMS, aber da \\nich keinen Dolmetscher habe, \\nfällt mir die Kommunikation im \\nKurs sehr schwer. Auch beim \\nVerkauf ist die Kommunikati-\\non sehr gering. Die Kund:innen \\nschauen nur auf die Zeitung,  geben das Geld, \\nnehmen die Zeitung und gehen wieder. Mein \\nWunsch ist, mehr Geld zu verdienen, um die \\nFamilie zu erhalten, damit sie eine bessere Zu-\\nkunft hat, als ich sie habe. Am wichtigsten ist \\nmir die Gesundheit für mich und meine Fami-\\nlie.  \\n■\\nIch habe  \\nmich daran \\ngewöhnt'"
      ]
     },
     "execution_count": 81,
     "metadata": {},
     "output_type": "execute_result"
    }
   ],
   "source": [
    "new_page.get_textbox(r)"
   ]
  },
  {
   "cell_type": "code",
   "execution_count": 94,
   "metadata": {},
   "outputs": [
    {
     "data": {
      "text/plain": [
       "Rect(0.0, 425.1969909667969, 637.7949829101562, 563.9293212890625)"
      ]
     },
     "execution_count": 94,
     "metadata": {},
     "output_type": "execute_result"
    }
   ],
   "source": [
    "r2 = new_page.rect\n",
    "r2.y0 = r2.y1 / 2  # half of page height\n",
    "r2.y1 = r2.y1 * 2 / 3  - 3# two third of page height -3 so it is not overlapping\n",
    "r2"
   ]
  },
  {
   "cell_type": "code",
   "execution_count": 96,
   "metadata": {},
   "outputs": [
    {
     "data": {
      "text/plain": [
       "['Cosmin',\n",
       " 'Eine bessere Zukunft',\n",
       " 'PRotoKoLL: syLviA gALosi',\n",
       " 'ÜBeRsetZUng: RoXAnA tiPLeA',\n",
       " 'Foto: MARio LAng']"
      ]
     },
     "execution_count": 96,
     "metadata": {},
     "output_type": "execute_result"
    }
   ],
   "source": [
    "string = new_page.get_textbox(r2)\n",
    "array = string.splitlines()\n",
    "array"
   ]
  },
  {
   "cell_type": "code",
   "execution_count": null,
   "metadata": {},
   "outputs": [],
   "source": []
  }
 ],
 "metadata": {
  "kernelspec": {
   "display_name": "base",
   "language": "python",
   "name": "python3"
  },
  "language_info": {
   "codemirror_mode": {
    "name": "ipython",
    "version": 3
   },
   "file_extension": ".py",
   "mimetype": "text/x-python",
   "name": "python",
   "nbconvert_exporter": "python",
   "pygments_lexer": "ipython3",
   "version": "3.10.12"
  },
  "orig_nbformat": 4
 },
 "nbformat": 4,
 "nbformat_minor": 2
}
