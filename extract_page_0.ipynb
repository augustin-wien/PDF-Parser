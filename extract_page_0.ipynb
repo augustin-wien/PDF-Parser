{
 "cells": [
  {
   "cell_type": "code",
   "execution_count": 27,
   "metadata": {},
   "outputs": [],
   "source": [
    "# Import necessary libraries\n",
    "import base64\n",
    "import json\n",
    "\n",
    "import os\n",
    "import fitz\n",
    "import requests\n",
    "import re\n",
    "from fitz import Document, Page, Rect"
   ]
  },
  {
   "cell_type": "markdown",
   "metadata": {},
   "source": [
    "## Save page 0 as an image"
   ]
  },
  {
   "cell_type": "markdown",
   "metadata": {},
   "source": [
    "[Source](https://pymupdf.readthedocs.io/en/latest/recipes-images.html#how-to-make-images-from-document-pages)"
   ]
  },
  {
   "cell_type": "code",
   "execution_count": 28,
   "metadata": {},
   "outputs": [],
   "source": [
    "directory = \"../PyMuPDF_playground/576_augustin_fertig_kontrolle.pdf\"\n",
    "src = fitz.open(directory)\n",
    "\n",
    "page = src.load_page(0)\n",
    "pix = page.get_pixmap()  # render page to an image\n",
    "number_in_dir = [int(s) for s in re.findall(r'\\d+', directory)]\n",
    "if len(number_in_dir) != 1:\n",
    "    raise ValueError('No number found in directory name')\n",
    "\n",
    "pix.save(\"sample_data/page-%i-Version-%i.png\" % (page.number, number_in_dir[0]))  # store image as a PNG"
   ]
  },
  {
   "cell_type": "markdown",
   "metadata": {},
   "source": [
    "## Extract color code from top right corner"
   ]
  },
  {
   "cell_type": "markdown",
   "metadata": {},
   "source": [
    "[Source](https://pymupdf.readthedocs.io/en/latest/recipes-text.html#how-to-analyze-font-characteristics)"
   ]
  },
  {
   "cell_type": "code",
   "execution_count": 31,
   "metadata": {},
   "outputs": [
    {
     "name": "stdout",
     "output_type": "stream",
     "text": [
      "#ffc44b\n"
     ]
    }
   ],
   "source": [
    "directory = \"../PyMuPDF_playground/576_augustin_fertig_kontrolle.pdf\"\n",
    "src = fitz.open(directory)\n",
    "page = src[0]\n",
    "\n",
    "# read page text as a dictionary, suppressing extra spaces in CJK fonts\n",
    "blocks = page.get_text(\"dict\", flags=11)[\"blocks\"]\n",
    "for b in blocks:  # iterate through the text blocks\n",
    "    for l in b[\"lines\"]:  # iterate through the text lines\n",
    "        for s in l[\"spans\"]:  # iterate through the text spans\n",
    "            font_properties = \"Size %g, color #%06x\" % (\n",
    "                s[\"size\"],  # font size\n",
    "                s[\"color\"],  # font color\n",
    "            )\n",
    "            if s[\"text\"] == \"Registrierte \":\n",
    "                colorCode = s[\"color\"]\n",
    "            if s[\"text\"] == \"tragen\" and colorCode == s[\"color\"]:\n",
    "                print(\"#%06x\" % colorCode)\n",
    "                hexColorCode = \"#%06x\" % colorCode\n",
    "                hexColorCode\n",
    "\n"
   ]
  },
  {
   "cell_type": "code",
   "execution_count": null,
   "metadata": {},
   "outputs": [],
   "source": []
  }
 ],
 "metadata": {
  "kernelspec": {
   "display_name": "base",
   "language": "python",
   "name": "python3"
  },
  "language_info": {
   "codemirror_mode": {
    "name": "ipython",
    "version": 3
   },
   "file_extension": ".py",
   "mimetype": "text/x-python",
   "name": "python",
   "nbconvert_exporter": "python",
   "pygments_lexer": "ipython3",
   "version": "3.10.12"
  },
  "orig_nbformat": 4
 },
 "nbformat": 4,
 "nbformat_minor": 2
}
