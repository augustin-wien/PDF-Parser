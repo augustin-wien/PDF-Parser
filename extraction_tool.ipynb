{
 "cells": [
  {
   "cell_type": "code",
   "execution_count": 2,
   "metadata": {},
   "outputs": [],
   "source": [
    "# Import necessary libraries\n",
    "import base64\n",
    "import json\n",
    "\n",
    "import os\n",
    "import fitz\n",
    "import requests"
   ]
  },
  {
   "cell_type": "code",
   "execution_count": 4,
   "metadata": {},
   "outputs": [
    {
     "data": {
      "text/plain": [
       "107"
      ]
     },
     "execution_count": 4,
     "metadata": {},
     "output_type": "execute_result"
    }
   ],
   "source": [
    "src = fitz.open(\"../PyMuPDF_playground/570_augustin_fertig_kontrolle.pdf\")\n",
    "new_doc = fitz.open()  # empty output PDF\n",
    "\n",
    "page = src.load_page(1)\n",
    "r = page.rect\n",
    "d = fitz.Rect(\n",
    "    # CropBox displacement if being set\n",
    "    page.cropbox_position,\n",
    "    page.cropbox_position,\n",
    ")  # starting at (0, 0)\n",
    "\n",
    "r1 = r\n",
    "r1.x1 = r1.x1 / 2  # left side of double page\n",
    "r2 = r1 + (r1.width, 0, r1.width, 0)  # right side of double page\n",
    "# r2 = r + (r.width / 2, 0, 0, 0)  # right side of double page\n",
    "\n",
    "r2 += d  # add the CropBox displacement\n",
    "new_page = new_doc.new_page(-1, width=r2.width, height=r2.height)\n",
    "new_page.show_pdf_page(\n",
    "    new_page.rect,\n",
    "    src,\n",
    "    page.number,\n",
    "    clip=r2,\n",
    ")"
   ]
  },
  {
   "cell_type": "code",
   "execution_count": 11,
   "metadata": {},
   "outputs": [
    {
     "name": "stdout",
     "output_type": "stream",
     "text": [
      "570_augustin_fertig_kontrolle_image_105\n",
      "570_augustin_fertig_kontrolle_image_105.jpeg\n"
     ]
    }
   ],
   "source": [
    "# Get image from PDF\n",
    "images = new_page.get_images()\n",
    "\n",
    "# TODO delete manual xref definition\n",
    "# get specific xref we want\n",
    "xref = images[-1][0]\n",
    "image = new_doc.extract_image(xref)\n",
    "\n",
    "# TODO delete manual path definition\n",
    "# write extracted image to file\n",
    "image_title = src.name.split('.')[2].split('/')[2]+\"_image_\"+str(xref)\n",
    "print(image_title)\n",
    "image_path = os.path.join(\n",
    "    '/home/funny/Documents/Projects/230701-Parsing-Tool/augustin-plugin/sample_data/',\n",
    "    image_title+\".\"+image['ext']\n",
    "    )\n",
    "print(image_title+\".\"+image['ext'])\n",
    "with open(\n",
    "    (image_path),\n",
    "    \"wb\",\n",
    ") as imgout:\n",
    "    imgout.write(image[\"image\"])\n"
   ]
  },
  {
   "cell_type": "code",
   "execution_count": 13,
   "metadata": {},
   "outputs": [],
   "source": [
    "# Upload image \n",
    "url = \"http://localhost:10004/wp-json/wp/v2/media\"\n",
    "\n",
    "user = \"lebe\"\n",
    "password = \"gUwM J4pU sngD VHpk Cub7 quS2\"\n",
    "\n",
    "credentials = user + ':' + password\n",
    "\n",
    "token = base64.b64encode(credentials.encode())\n",
    "\n",
    "header = {'Authorization': 'Basic ' + token.decode('utf-8')}\n",
    "\n",
    "media = {'file': open(image_path,'rb'), 'caption': image_title}\n",
    "\n",
    "response = requests.post(url, headers=header,  files=media)\n",
    "\n",
    "image_id = json.loads(response.content)['id']"
   ]
  },
  {
   "cell_type": "code",
   "execution_count": 14,
   "metadata": {},
   "outputs": [],
   "source": [
    "text = new_page.get_text(\"text\") \n",
    "# to have a list containing each line I save the whole text\n",
    "with open(\"sample_data/page3.txt\", \"w\") as f:\n",
    "    f.write(text)"
   ]
  },
  {
   "cell_type": "code",
   "execution_count": 15,
   "metadata": {},
   "outputs": [],
   "source": [
    "# next I open it again\n",
    "with open('sample_data/page3.txt') as f:     \n",
    "\tlines = f.readlines()"
   ]
  },
  {
   "cell_type": "code",
   "execution_count": 16,
   "metadata": {},
   "outputs": [],
   "source": [
    "# to get all the metadata I focus on the word \"PROTOKOLL:\"\n",
    "# Sample output of print(lines) looking like this\n",
    "# ['570\\n', '3\\n', 'augustiner:in\\n', 'Bernd Pegritz \\n', '«Rätsel» lösen mit Bildern\\n', 'PROTOKOLL: SÓNIA MELO \\n', 'FOTO: MARIO LANG\\n',  'A\\n',...]\n",
    "return_values = []\n",
    "for i, line in enumerate(lines):\n",
    "\tif \"PROTOKOLL:\" in line:\n",
    "\t\tprotocol = lines[i]\n",
    "\t\tphotograph = lines[i+1]\n",
    "\t\ttitle = lines[i-1]\n",
    "\t\tauthor = lines[i-2]\n",
    "\t\t# this is where the article begins\n",
    "\t\treturn_values.append(i+2)\n",
    "\tif '■\\n' in line:\n",
    "\t\t# searching for the ending dot to get the end of the article\n",
    "\t\treturn_values.append(i)"
   ]
  },
  {
   "cell_type": "code",
   "execution_count": 17,
   "metadata": {},
   "outputs": [],
   "source": [
    "# this gives me the whole part of the article in single letters\n",
    "article = []\n",
    "for index in range(return_values[0], return_values[1]):\n",
    "\tarticle += lines[index]\n"
   ]
  },
  {
   "cell_type": "code",
   "execution_count": 18,
   "metadata": {},
   "outputs": [
    {
     "name": "stdout",
     "output_type": "stream",
     "text": [
      "A\n",
      "nstatt die Hausaufgaben zu machen, \n",
      "habe ich als Kind mal das Logo von \n",
      "Mozilla Firefox nachgezeichnet. \n",
      " Irgendwann habe ich aufgeschnappt, \n",
      "dass es Leute gibt, die dafür bezahlt werden. Die \n",
      "Entscheidung Grafikdesigner zu werden, fiel \n",
      "früh, lange bevor ich wusste, was das genau ist.\n",
      "In Tirol geboren und aufgewachsen, zog ich \n",
      "für das Masterstudium in Kommunikations-\n",
      "design nach Saarbrücken in Deutschland. Im \n",
      "Studium habe ich immer mehr  Illustration ein-\n",
      "gebaut. Nun geht die Entwicklung weiter mit \n",
      "Animation, weil ich es spannend finde, wenn \n",
      "die Zeichnungen zum Leben erwachen und \n",
      "man in einer ganz anderen Erzähl-Struktur \n",
      "denken muss.\n",
      "Ich bin wie ein «Rätsellöser», dabei sind \n",
      "meine Antworten keine Wörter, sondern Bilder. \n",
      "Diese Aufgabe, einen Inhalt auf den Punkt zu \n",
      "bringen und in einem oder in wenigen Bildern \n",
      "eine zusätzliche Ebene zu schaffen, das mag \n",
      "ich am liebsten. Ich beginne mit ganz kleinen \n",
      "Skizzen, nicht größer als Briefmarken. Sie wer-\n",
      "den immer größer, bis die Idee ganz abgebil-\n",
      "det ist. So perfektionistisch wie ich bin, ist \n",
      "das ein gutes Tool, um mich nicht \n",
      "schon anfangs in Details zu verlie-\n",
      "ren. Meistens sind meine Arbeiten \n",
      "halb analog, halb digital gezeich-\n",
      "net – mehr Spaß macht’s auf Papier, \n",
      "es fühlt sich richtiger an. \n",
      "2020 in Wien angekommen, \n",
      "habe ich mich dem Augustin als Illustrator \n",
      "angeboten, denn für mich ist der Augustin ein \n",
      "wichtiger Bestandteil dieser Stadt!\n",
      "So gerne ich in Wien lebe, brauche ich doch \n",
      "regelmäßig Natur.  Einmal im Jahr kann ich \n",
      "im «Isolation Camp» auftanken: Für ein paar \n",
      "Tage kommen Kreativschaffende zusammen, \n",
      "ziehen sich in der Natur zurück, meistens auf \n",
      "einer Berghütte, weg von der Zivilisation, ohne \n",
      "Tagesablauf, Erwartungen oder Regeln. Jede:r \n",
      "bringt ihre:seine Materialien mit. Zeichnen, \n",
      "Malen, Musik, Fotografie, Goldschmieden, \n",
      " Kochen – alles dabei. Das mache ich  extrem \n",
      "gerne, mit Gleichgesinnten der \n",
      "Kreativität freien Lauf lassen – \n",
      "ohne Alltagsablenkungen, mit viel \n",
      "Zeit. Am Ende des Camps fließen \n",
      "die Ergebnisse in eine Ausstellung \n",
      "oder in eine Platte.\n",
      "In der Stadt brauche ich einen \n",
      "Ort, an dem ich mich der Arbeit widme. Im Stu-\n",
      "dio Hyrtl in Ottakring habe ich ihn gefunden. \n",
      "Skizzen mache ich aber auch in Kaffeehäusern \n",
      "oder unterwegs, denn am Schreibtisch ist der \n",
      "Blick immer gleich, gerade für die Ideenfindung \n",
      "brauche ich Abwechslung. Beim Radfahren fal-\n",
      "len mir oft Lösungen für die «Rätsel» ein, wenn \n",
      "die Gedanken in Bewegung sind. \n",
      "\n"
     ]
    }
   ],
   "source": [
    "str = ''\n",
    "for i in article:\n",
    "    str += i\n",
    "\n",
    "print(str)"
   ]
  },
  {
   "cell_type": "code",
   "execution_count": 19,
   "metadata": {},
   "outputs": [
    {
     "name": "stdout",
     "output_type": "stream",
     "text": [
      "supposed to break a new line \n",
      "\n",
      "supposed to break a new line \n",
      "\n",
      "supposed to break a new line \n",
      "\n",
      "supposed to break a new line \n",
      "\n"
     ]
    }
   ],
   "source": [
    "# print(article) gives me something like\n",
    "# ['A', '\\n', 'n', 's', 't', 'a', 't', 't', ' ', 'd', 'i', 'e', ' '...]\n",
    "# As shown, newlines have to be removed correctly i.e. not if a dot is before\n",
    "article_edit = article\n",
    "for index, letter in enumerate(article):\n",
    "\t# deletes newlines that are made up because of articles structure\n",
    "\tif '\\n' in letter:\n",
    "\t\tif '.' in article[index-1] or '!' in article[index-1] or '?' in article[index-1] or ':' in article[index-1]:\n",
    "\t\t\tprint(\"supposed to break a new line\", letter)\n",
    "\t\telif '-' in article[index-1]:\n",
    "\t\t\tif ' ' in article[index-1] and ' ' in article[index+1]:\n",
    "\t\t\t\t# this hyphen has been set on purpose and stays\n",
    "\t\t\t\tprint(\"hyphen has been set on purpose\")\n",
    "\t\t\telse:\n",
    "\t\t\t\t# deletes hyphen on the index and the extra space before it\n",
    "\t\t\t\tdel article_edit[index]\n",
    "\t\t\t\tdel article_edit[index-1]\n",
    "\t\telse:\n",
    "\t\t\tdel article_edit[index]\n",
    "\t# deletes double spaces\n",
    "\tif ' ' in letter and ' ' in article[index-1]:\n",
    "\t\t\tdel article_edit[index]\n"
   ]
  },
  {
   "cell_type": "code",
   "execution_count": 20,
   "metadata": {},
   "outputs": [
    {
     "name": "stdout",
     "output_type": "stream",
     "text": [
      "Anstatt die Hausaufgaben zu machen, habe ich als Kind mal das Logo von Mozilla Firefox nachgezeichnet.  Irgendwann habe ich aufgeschnappt, dass es Leute gibt, die dafür bezahlt werden. Die Entscheidung Grafikdesigner zu werden, fiel früh, lange bevor ich wusste, was das genau ist.\n",
      "In Tirol geboren und aufgewachsen, zog ich für das Masterstudium in Kommunikationsdesign nach Saarbrücken in Deutschland. Im Studium habe ich immer mehr Illustration eingebaut. Nun geht die Entwicklung weiter mit Animation, weil ich es spannend finde, wenn die Zeichnungen zum Leben erwachen und man in einer ganz anderen Erzähl-Struktur denken muss.\n",
      "Ich bin wie ein «Rätsellöser», dabei sind meine Antworten keine Wörter, sondern Bilder. Diese Aufgabe, einen Inhalt auf den Punkt zu bringen und in einem oder in wenigen Bildern eine zusätzliche Ebene zu schaffen, das mag ich am liebsten. Ich beginne mit ganz kleinen Skizzen, nicht größer als Briefmarken. Sie werden immer größer, bis die Idee ganz abgebildet ist. So perfektionistisch wie ich bin, ist das ein gutes Tool, um mich nicht schon anfangs in Details zu verlieren. Meistens sind meine Arbeiten halb analog, halb digital gezeichnet – mehr Spaß macht’s auf Papier, es fühlt sich richtiger an. 2020 in Wien angekommen, habe ich mich dem Augustin als Illustrator angeboten, denn für mich ist der Augustin ein wichtiger Bestandteil dieser Stadt!\n",
      "So gerne ich in Wien lebe, brauche ich doch regelmäßig Natur. Einmal im Jahr kann ich im «Isolation Camp» auftanken: Für ein paar Tage kommen Kreativschaffende zusammen, ziehen sich in der Natur zurück, meistens auf einer Berghütte, weg von der Zivilisation, ohne Tagesablauf, Erwartungen oder Regeln. Jede:r bringt ihre:seine Materialien mit. Zeichnen, Malen, Musik, Fotografie, Goldschmieden,  Kochen – alles dabei. Das mache ich extrem gerne, mit Gleichgesinnten der Kreativität freien Lauf lassen – ohne Alltagsablenkungen, mit viel Zeit. Am Ende des Camps fließen die Ergebnisse in eine Ausstellung oder in eine Platte.\n",
      "In der Stadt brauche ich einen Ort, an dem ich mich der Arbeit widme. Im Studio Hyrtl in Ottakring habe ich ihn gefunden. Skizzen mache ich aber auch in Kaffeehäusern oder unterwegs, denn am Schreibtisch ist der Blick immer gleich, gerade für die Ideenfindung brauche ich Abwechslung. Beim Radfahren fallen mir oft Lösungen für die «Rätsel» ein, wenn die Gedanken in Bewegung sind. \n"
     ]
    }
   ],
   "source": [
    "# to create a readable text for the article\n",
    "readable_text = ''\n",
    "for letter in article_edit:\n",
    "    readable_text += letter\n",
    "    \n",
    "print(readable_text)"
   ]
  },
  {
   "cell_type": "code",
   "execution_count": 21,
   "metadata": {},
   "outputs": [],
   "source": [
    "# Extract images"
   ]
  },
  {
   "cell_type": "code",
   "execution_count": 25,
   "metadata": {},
   "outputs": [
    {
     "name": "stdout",
     "output_type": "stream",
     "text": [
      "response b'{\"id\":15,\"date\":\"2023-06-28T13:20:06\",\"date_gmt\":\"2023-06-28T13:20:06\",\"guid\":{\"rendered\":\"http:\\\\/\\\\/localhost:10004\\\\/ratsel-losen-mit-bildern\\\\/\",\"raw\":\"http:\\\\/\\\\/localhost:10004\\\\/ratsel-losen-mit-bildern\\\\/\"},\"modified\":\"2023-06-28T13:20:06\",\"modified_gmt\":\"2023-06-28T13:20:06\",\"password\":\"\",\"slug\":\"ratsel-losen-mit-bildern\",\"status\":\"publish\",\"type\":\"post\",\"link\":\"http:\\\\/\\\\/localhost:10004\\\\/ratsel-losen-mit-bildern\\\\/\",\"title\":{\"raw\":\"\\\\u00abR\\\\u00e4tsel\\\\u00bb l\\\\u00f6sen mit Bildern\",\"rendered\":\"\\\\u00abR\\\\u00e4tsel\\\\u00bb l\\\\u00f6sen mit Bildern\"},\"content\":{\"raw\":\"Anstatt die Hausaufgaben zu machen, habe ich als Kind mal das Logo von Mozilla Firefox nachgezeichnet.  Irgendwann habe ich aufgeschnappt, dass es Leute gibt, die daf\\\\u00fcr bezahlt werden. Die Entscheidung Grafikdesigner zu werden, fiel fr\\\\u00fch, lange bevor ich wusste, was das genau ist.\\\\nIn Tirol geboren und aufgewachsen, zog ich f\\\\u00fcr das Masterstudium in Kommunikationsdesign nach Saarbr\\\\u00fccken in Deutschland. Im Studium habe ich immer mehr Illustration eingebaut. Nun geht die Entwicklung weiter mit Animation, weil ich es spannend finde, wenn die Zeichnungen zum Leben erwachen und man in einer ganz anderen Erz\\\\u00e4hl-Struktur denken muss.\\\\nIch bin wie ein \\\\u00abR\\\\u00e4tsell\\\\u00f6ser\\\\u00bb, dabei sind meine Antworten keine W\\\\u00f6rter, sondern Bilder. Diese Aufgabe, einen Inhalt auf den Punkt zu bringen und in einem oder in wenigen Bildern eine zus\\\\u00e4tzliche Ebene zu schaffen, das mag ich am liebsten. Ich beginne mit ganz kleinen Skizzen, nicht gr\\\\u00f6\\\\u00dfer als Briefmarken. Sie werden immer gr\\\\u00f6\\\\u00dfer, bis die Idee ganz abgebildet ist. So perfektionistisch wie ich bin, ist das ein gutes Tool, um mich nicht schon anfangs in Details zu verlieren. Meistens sind meine Arbeiten halb analog, halb digital gezeichnet\\\\u00a0\\\\u2013 mehr Spa\\\\u00df macht\\\\u2019s auf Papier, es f\\\\u00fchlt sich richtiger an. 2020 in Wien angekommen, habe ich mich dem Augustin als Illustrator angeboten, denn f\\\\u00fcr mich ist der Augustin ein wichtiger Bestandteil dieser Stadt!\\\\nSo gerne ich in Wien lebe, brauche ich doch regelm\\\\u00e4\\\\u00dfig Natur. Einmal im Jahr kann ich im \\\\u00abIsolation Camp\\\\u00bb auftanken: F\\\\u00fcr ein paar Tage kommen Kreativschaffende zusammen, ziehen sich in der Natur zur\\\\u00fcck, meistens auf einer Bergh\\\\u00fctte, weg von der Zivilisation, ohne Tagesablauf, Erwartungen oder Regeln. Jede:r bringt ihre:seine Materialien mit. Zeichnen, Malen, Musik, Fotografie, Goldschmieden,  Kochen \\\\u2013 alles dabei. Das mache ich extrem gerne, mit Gleichgesinnten der Kreativit\\\\u00e4t freien Lauf lassen \\\\u2013 ohne Alltagsablenkungen, mit viel Zeit. Am Ende des Camps flie\\\\u00dfen die Ergebnisse in eine Ausstellung oder in eine Platte.\\\\nIn der Stadt brauche ich einen Ort, an dem ich mich der Arbeit widme. Im Studio Hyrtl in Ottakring habe ich ihn gefunden. Skizzen mache ich aber auch in Kaffeeh\\\\u00e4usern oder unterwegs, denn am Schreibtisch ist der Blick immer gleich, gerade f\\\\u00fcr die Ideenfindung brauche ich Abwechslung. Beim Radfahren fallen mir oft L\\\\u00f6sungen f\\\\u00fcr die \\\\u00abR\\\\u00e4tsel\\\\u00bb ein, wenn die Gedanken in Bewegung sind. \",\"rendered\":\"<p>Anstatt die Hausaufgaben zu machen, habe ich als Kind mal das Logo von Mozilla Firefox nachgezeichnet.  Irgendwann habe ich aufgeschnappt, dass es Leute gibt, die daf\\\\u00fcr bezahlt werden. Die Entscheidung Grafikdesigner zu werden, fiel fr\\\\u00fch, lange bevor ich wusste, was das genau ist.<br \\\\/>\\\\nIn Tirol geboren und aufgewachsen, zog ich f\\\\u00fcr das Masterstudium in Kommunikationsdesign nach Saarbr\\\\u00fccken in Deutschland. Im Studium habe ich immer mehr Illustration eingebaut. Nun geht die Entwicklung weiter mit Animation, weil ich es spannend finde, wenn die Zeichnungen zum Leben erwachen und man in einer ganz anderen Erz\\\\u00e4hl-Struktur denken muss.<br \\\\/>\\\\nIch bin wie ein \\\\u00abR\\\\u00e4tsell\\\\u00f6ser\\\\u00bb, dabei sind meine Antworten keine W\\\\u00f6rter, sondern Bilder. Diese Aufgabe, einen Inhalt auf den Punkt zu bringen und in einem oder in wenigen Bildern eine zus\\\\u00e4tzliche Ebene zu schaffen, das mag ich am liebsten. Ich beginne mit ganz kleinen Skizzen, nicht gr\\\\u00f6\\\\u00dfer als Briefmarken. Sie werden immer gr\\\\u00f6\\\\u00dfer, bis die Idee ganz abgebildet ist. So perfektionistisch wie ich bin, ist das ein gutes Tool, um mich nicht schon anfangs in Details zu verlieren. Meistens sind meine Arbeiten halb analog, halb digital gezeichnet\\\\u00a0\\\\u2013 mehr Spa\\\\u00df macht\\\\u2019s auf Papier, es f\\\\u00fchlt sich richtiger an. 2020 in Wien angekommen, habe ich mich dem Augustin als Illustrator angeboten, denn f\\\\u00fcr mich ist der Augustin ein wichtiger Bestandteil dieser Stadt!<br \\\\/>\\\\nSo gerne ich in Wien lebe, brauche ich doch regelm\\\\u00e4\\\\u00dfig Natur. Einmal im Jahr kann ich im \\\\u00abIsolation Camp\\\\u00bb auftanken: F\\\\u00fcr ein paar Tage kommen Kreativschaffende zusammen, ziehen sich in der Natur zur\\\\u00fcck, meistens auf einer Bergh\\\\u00fctte, weg von der Zivilisation, ohne Tagesablauf, Erwartungen oder Regeln. Jede:r bringt ihre:seine Materialien mit. Zeichnen, Malen, Musik, Fotografie, Goldschmieden,  Kochen \\\\u2013 alles dabei. Das mache ich extrem gerne, mit Gleichgesinnten der Kreativit\\\\u00e4t freien Lauf lassen \\\\u2013 ohne Alltagsablenkungen, mit viel Zeit. Am Ende des Camps flie\\\\u00dfen die Ergebnisse in eine Ausstellung oder in eine Platte.<br \\\\/>\\\\nIn der Stadt brauche ich einen Ort, an dem ich mich der Arbeit widme. Im Studio Hyrtl in Ottakring habe ich ihn gefunden. Skizzen mache ich aber auch in Kaffeeh\\\\u00e4usern oder unterwegs, denn am Schreibtisch ist der Blick immer gleich, gerade f\\\\u00fcr die Ideenfindung brauche ich Abwechslung. Beim Radfahren fallen mir oft L\\\\u00f6sungen f\\\\u00fcr die \\\\u00abR\\\\u00e4tsel\\\\u00bb ein, wenn die Gedanken in Bewegung sind. <\\\\/p>\\\\n\",\"protected\":false,\"block_version\":0},\"excerpt\":{\"raw\":\"Bernd Pegritz \\\\n FOTO: MARIO LANG\\\\n PROTOKOLL: S\\\\u00d3NIA MELO \\\\n\",\"rendered\":\"<p>Bernd Pegritz<br \\\\/>\\\\n FOTO: MARIO LANG<br \\\\/>\\\\n PROTOKOLL: S\\\\u00d3NIA MELO <\\\\/p>\\\\n\",\"protected\":false},\"author\":1,\"featured_media\":10,\"comment_status\":\"open\",\"ping_status\":\"open\",\"sticky\":false,\"template\":\"\",\"format\":\"standard\",\"meta\":[],\"categories\":[1],\"tags\":[],\"permalink_template\":\"http:\\\\/\\\\/localhost:10004\\\\/%postname%\\\\/\",\"generated_slug\":\"ratsel-losen-mit-bildern\",\"_links\":{\"self\":[{\"href\":\"http:\\\\/\\\\/localhost:10004\\\\/wp-json\\\\/wp\\\\/v2\\\\/posts\\\\/15\"}],\"collection\":[{\"href\":\"http:\\\\/\\\\/localhost:10004\\\\/wp-json\\\\/wp\\\\/v2\\\\/posts\"}],\"about\":[{\"href\":\"http:\\\\/\\\\/localhost:10004\\\\/wp-json\\\\/wp\\\\/v2\\\\/types\\\\/post\"}],\"author\":[{\"embeddable\":true,\"href\":\"http:\\\\/\\\\/localhost:10004\\\\/wp-json\\\\/wp\\\\/v2\\\\/users\\\\/1\"}],\"replies\":[{\"embeddable\":true,\"href\":\"http:\\\\/\\\\/localhost:10004\\\\/wp-json\\\\/wp\\\\/v2\\\\/comments?post=15\"}],\"version-history\":[{\"count\":0,\"href\":\"http:\\\\/\\\\/localhost:10004\\\\/wp-json\\\\/wp\\\\/v2\\\\/posts\\\\/15\\\\/revisions\"}],\"wp:featuredmedia\":[{\"embeddable\":true,\"href\":\"http:\\\\/\\\\/localhost:10004\\\\/wp-json\\\\/wp\\\\/v2\\\\/media\\\\/10\"}],\"wp:attachment\":[{\"href\":\"http:\\\\/\\\\/localhost:10004\\\\/wp-json\\\\/wp\\\\/v2\\\\/media?parent=15\"}],\"wp:term\":[{\"taxonomy\":\"category\",\"embeddable\":true,\"href\":\"http:\\\\/\\\\/localhost:10004\\\\/wp-json\\\\/wp\\\\/v2\\\\/categories?post=15\"},{\"taxonomy\":\"post_tag\",\"embeddable\":true,\"href\":\"http:\\\\/\\\\/localhost:10004\\\\/wp-json\\\\/wp\\\\/v2\\\\/tags?post=15\"}],\"wp:action-publish\":[{\"href\":\"http:\\\\/\\\\/localhost:10004\\\\/wp-json\\\\/wp\\\\/v2\\\\/posts\\\\/15\"}],\"wp:action-unfiltered-html\":[{\"href\":\"http:\\\\/\\\\/localhost:10004\\\\/wp-json\\\\/wp\\\\/v2\\\\/posts\\\\/15\"}],\"wp:action-sticky\":[{\"href\":\"http:\\\\/\\\\/localhost:10004\\\\/wp-json\\\\/wp\\\\/v2\\\\/posts\\\\/15\"}],\"wp:action-assign-author\":[{\"href\":\"http:\\\\/\\\\/localhost:10004\\\\/wp-json\\\\/wp\\\\/v2\\\\/posts\\\\/15\"}],\"wp:action-create-categories\":[{\"href\":\"http:\\\\/\\\\/localhost:10004\\\\/wp-json\\\\/wp\\\\/v2\\\\/posts\\\\/15\"}],\"wp:action-assign-categories\":[{\"href\":\"http:\\\\/\\\\/localhost:10004\\\\/wp-json\\\\/wp\\\\/v2\\\\/posts\\\\/15\"}],\"wp:action-create-tags\":[{\"href\":\"http:\\\\/\\\\/localhost:10004\\\\/wp-json\\\\/wp\\\\/v2\\\\/posts\\\\/15\"}],\"wp:action-assign-tags\":[{\"href\":\"http:\\\\/\\\\/localhost:10004\\\\/wp-json\\\\/wp\\\\/v2\\\\/posts\\\\/15\"}],\"curies\":[{\"name\":\"wp\",\"href\":\"https:\\\\/\\\\/api.w.org\\\\/{rel}\",\"templated\":true}]}}'\n"
     ]
    }
   ],
   "source": [
    "### POST REQUEST ###\n",
    "\n",
    "url = \"http://localhost:10004/wp-json/wp/v2/posts\"\n",
    "\n",
    "user = \"lebe\"\n",
    "password = \"gUwM J4pU sngD VHpk Cub7 quS2\"\n",
    "\n",
    "credentials = user + \":\" + password\n",
    "\n",
    "token = base64.b64encode(credentials.encode())\n",
    "\n",
    "header = {\"Authorization\": \"Basic \" + token.decode(\"utf-8\")}\n",
    "\n",
    "post2 = {\n",
    "        \"title\": title,\n",
    "        \"status\": \"publish\",\n",
    "        \"content\": readable_text,\n",
    "        \"excerpt\": author + \" \" + photograph + \" \" + protocol,\n",
    "        \"post_type\": \"post\",\n",
    "        \"featured_media\": image_id,\n",
    "    }\n",
    "\n",
    "response = requests.post(url, headers=header, json=post2)\n",
    "\n",
    "print(\"response\", response.content)"
   ]
  },
  {
   "cell_type": "code",
   "execution_count": null,
   "metadata": {},
   "outputs": [],
   "source": []
  },
  {
   "cell_type": "code",
   "execution_count": null,
   "metadata": {},
   "outputs": [],
   "source": []
  }
 ],
 "metadata": {
  "kernelspec": {
   "display_name": "Python 3",
   "language": "python",
   "name": "python3"
  },
  "language_info": {
   "codemirror_mode": {
    "name": "ipython",
    "version": 3
   },
   "file_extension": ".py",
   "mimetype": "text/x-python",
   "name": "python",
   "nbconvert_exporter": "python",
   "pygments_lexer": "ipython3",
   "version": "3.10.12"
  },
  "orig_nbformat": 4
 },
 "nbformat": 4,
 "nbformat_minor": 2
}
