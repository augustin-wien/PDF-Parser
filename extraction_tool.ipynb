{
 "cells": [
  {
   "cell_type": "code",
   "execution_count": 3,
   "metadata": {},
   "outputs": [],
   "source": [
    "import fitz"
   ]
  },
  {
   "cell_type": "code",
   "execution_count": 4,
   "metadata": {},
   "outputs": [
    {
     "data": {
      "text/plain": [
       "107"
      ]
     },
     "execution_count": 4,
     "metadata": {},
     "output_type": "execute_result"
    }
   ],
   "source": [
    "src = fitz.open(\"../PyMuPDF/570_augustin_fertig_kontrolle.pdf\")\n",
    "new_doc = fitz.open()  # empty output PDF\n",
    "\n",
    "page = src.load_page(1)\n",
    "r = page.rect\n",
    "d = fitz.Rect(\n",
    "    # CropBox displacement if being set\n",
    "    page.cropbox_position,\n",
    "    page.cropbox_position,\n",
    ")  # starting at (0, 0)\n",
    "\n",
    "r1 = r\n",
    "r1.x1 = r1.x1 / 2  # left side of double page\n",
    "r2 = r1 + (r1.width, 0, r1.width, 0)  # right side of double page\n",
    "# r2 = r + (r.width / 2, 0, 0, 0)  # right side of double page\n",
    "\n",
    "r2 += d  # add the CropBox displacement\n",
    "new_page = new_doc.new_page(-1, width=r2.width, height=r2.height)\n",
    "new_page.show_pdf_page(\n",
    "    new_page.rect,\n",
    "    src,\n",
    "    page.number,\n",
    "    clip=r2,\n",
    ")"
   ]
  },
  {
   "cell_type": "code",
   "execution_count": 5,
   "metadata": {},
   "outputs": [
    {
     "data": {
      "text/plain": [
       "'570\\n3\\naugustiner:in\\nBernd Pegritz \\n«Rätsel» lösen mit Bildern\\nPROTOKOLL: SÓNIA MELO \\nFOTO: MARIO LANG\\nA\\nnstatt die Hausaufgaben zu machen, \\nhabe ich als Kind mal das Logo von \\nMozilla Firefox nachgezeichnet. \\n Irgendwann habe ich aufgeschnappt, \\ndass es Leute gibt, die dafür bezahlt werden. Die \\nEntscheidung Grafikdesigner zu werden, fiel \\nfrüh, lange bevor ich wusste, was das genau ist.\\nIn Tirol geboren und aufgewachsen, zog ich \\nfür das Masterstudium in Kommunikations-\\ndesign nach Saarbrücken in Deutschland. Im \\nStudium habe ich immer mehr  Illustration ein-\\ngebaut. Nun geht die Entwicklung weiter mit \\nAnimation, weil ich es spannend finde, wenn \\ndie Zeichnungen zum Leben erwachen und \\nman in einer ganz anderen Erzähl-Struktur \\ndenken muss.\\nIch bin wie ein «Rätsellöser», dabei sind \\nmeine Antworten keine Wörter, sondern Bilder. \\nDiese Aufgabe, einen Inhalt auf den Punkt zu \\nbringen und in einem oder in wenigen Bildern \\neine zusätzliche Ebene zu schaffen, das mag \\nich am liebsten. Ich beginne mit ganz kleinen \\nSkizzen, nicht größer als Briefmarken. Sie wer-\\nden immer größer, bis die Idee ganz abgebil-\\ndet ist. So perfektionistisch wie ich bin, ist \\ndas ein gutes Tool, um mich nicht \\nschon anfangs in Details zu verlie-\\nren. Meistens sind meine Arbeiten \\nhalb analog, halb digital gezeich-\\nnet\\xa0– mehr Spaß macht’s auf Papier, \\nes fühlt sich richtiger an. \\n2020 in Wien angekommen, \\nhabe ich mich dem Augustin als Illustrator \\nangeboten, denn für mich ist der Augustin ein \\nwichtiger Bestandteil dieser Stadt!\\nSo gerne ich in Wien lebe, brauche ich doch \\nregelmäßig Natur.  Einmal im Jahr kann ich \\nim «Isolation Camp» auftanken: Für ein paar \\nTage kommen Kreativschaffende zusammen, \\nziehen sich in der Natur zurück, meistens auf \\neiner Berghütte, weg von der Zivilisation, ohne \\nTagesablauf, Erwartungen oder Regeln. Jede:r \\nbringt ihre:seine Materialien mit. Zeichnen, \\nMalen, Musik, Fotografie, Goldschmieden, \\n Kochen – alles dabei. Das mache ich  extrem \\ngerne, mit Gleichgesinnten der \\nKreativität freien Lauf lassen – \\nohne Alltagsablenkungen, mit viel \\nZeit. Am Ende des Camps fließen \\ndie Ergebnisse in eine Ausstellung \\noder in eine Platte.\\nIn der Stadt brauche ich einen \\nOrt, an dem ich mich der Arbeit widme. Im Stu-\\ndio Hyrtl in Ottakring habe ich ihn gefunden. \\nSkizzen mache ich aber auch in Kaffeehäusern \\noder unterwegs, denn am Schreibtisch ist der \\nBlick immer gleich, gerade für die Ideenfindung \\nbrauche ich Abwechslung. Beim Radfahren fal-\\nlen mir oft Lösungen für die «Rätsel» ein, wenn \\ndie Gedanken in Bewegung sind. \\n■\\nMehr Spaß \\nmacht’s auf \\nPapier\\n'"
      ]
     },
     "execution_count": 5,
     "metadata": {},
     "output_type": "execute_result"
    }
   ],
   "source": [
    "new_page.get_text(\"text\")"
   ]
  },
  {
   "cell_type": "code",
   "execution_count": null,
   "metadata": {},
   "outputs": [],
   "source": []
  }
 ],
 "metadata": {
  "kernelspec": {
   "display_name": "Python 3",
   "language": "python",
   "name": "python3"
  },
  "language_info": {
   "codemirror_mode": {
    "name": "ipython",
    "version": 3
   },
   "file_extension": ".py",
   "mimetype": "text/x-python",
   "name": "python",
   "nbconvert_exporter": "python",
   "pygments_lexer": "ipython3",
   "version": "3.9.12"
  },
  "orig_nbformat": 4
 },
 "nbformat": 4,
 "nbformat_minor": 2
}
