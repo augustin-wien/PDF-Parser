{
 "cells": [
  {
   "cell_type": "code",
   "execution_count": 1,
   "metadata": {},
   "outputs": [],
   "source": [
    "# Import necessary libraries\n",
    "import base64\n",
    "import json\n",
    "\n",
    "import os\n",
    "import fitz\n",
    "import requests"
   ]
  },
  {
   "cell_type": "code",
   "execution_count": 2,
   "metadata": {},
   "outputs": [
    {
     "data": {
      "text/plain": [
       "94"
      ]
     },
     "execution_count": 2,
     "metadata": {},
     "output_type": "execute_result"
    }
   ],
   "source": [
    "src = fitz.open(\"../PyMuPDF_playground/574_augustin_fertig_kontrolle.pdf\")\n",
    "new_doc = fitz.open()  # empty output PDF\n",
    "\n",
    "page = src.load_page(1)\n",
    "r = page.rect\n",
    "d = fitz.Rect(\n",
    "    # CropBox displacement if being set\n",
    "    page.cropbox_position,\n",
    "    page.cropbox_position,\n",
    ")  # starting at (0, 0)\n",
    "\n",
    "r1 = r\n",
    "r1.x1 = r1.x1 / 2  # left side of double page\n",
    "r2 = r1 + (r1.width, 0, r1.width, 0)  # right side of double page\n",
    "# r2 = r + (r.width / 2, 0, 0, 0)  # right side of double page\n",
    "\n",
    "r2 += d  # add the CropBox displacement\n",
    "new_page = new_doc.new_page(-1, width=r2.width, height=r2.height)\n",
    "new_page.show_pdf_page(\n",
    "    new_page.rect,\n",
    "    src,\n",
    "    page.number,\n",
    "    clip=r2,\n",
    ")"
   ]
  },
  {
   "cell_type": "code",
   "execution_count": 3,
   "metadata": {},
   "outputs": [
    {
     "name": "stdout",
     "output_type": "stream",
     "text": [
      "574_augustin_fertig_kontrolle_image_92\n",
      "574_augustin_fertig_kontrolle_image_92.jpeg\n"
     ]
    }
   ],
   "source": [
    "# Get image from PDF\n",
    "img_list = new_page.get_images(full=True)\n",
    "\n",
    "for img in img_list:\n",
    "    rect = new_page.get_image_bbox(img)\n",
    "    if rect[0] > 0 and rect[1] > 0 and rect[2] > 0 and rect[3] > 0:\n",
    "        xref = img[0] # get specific xref we want\n",
    "image = new_doc.extract_image(xref)\n",
    "\n",
    "# TODO delete manual path definition\n",
    "# write extracted image to file\n",
    "image_title = src.name.split('.')[2].split('/')[2]+\"_image_\"+str(xref)\n",
    "print(image_title)\n",
    "image_path = os.path.join(\n",
    "    '/home/funny/Documents/Projects/230701-Parsing-Tool/augustin-plugin/sample_data/',\n",
    "    image_title+\".\"+image['ext']\n",
    "    )\n",
    "print(image_title+\".\"+image['ext'])\n",
    "with open(\n",
    "    (image_path),\n",
    "    \"wb\",\n",
    ") as imgout:\n",
    "    imgout.write(image[\"image\"])\n"
   ]
  },
  {
   "cell_type": "code",
   "execution_count": 4,
   "metadata": {},
   "outputs": [],
   "source": [
    "# Upload image \n",
    "url = \"http://localhost:10004/wp-json/wp/v2/media\"\n",
    "\n",
    "user = \"lebe\"\n",
    "password = \"gUwM J4pU sngD VHpk Cub7 quS2\"\n",
    "\n",
    "credentials = user + ':' + password\n",
    "\n",
    "token = base64.b64encode(credentials.encode())\n",
    "\n",
    "header = {'Authorization': 'Basic ' + token.decode('utf-8')}\n",
    "\n",
    "media = {'file': open(image_path,'rb'), 'caption': image_title}\n",
    "\n",
    "response = requests.post(url, headers=header,  files=media)\n",
    "\n",
    "image_id = json.loads(response.content)['id']"
   ]
  },
  {
   "attachments": {},
   "cell_type": "markdown",
   "metadata": {},
   "source": [
    "## Extract text"
   ]
  },
  {
   "cell_type": "code",
   "execution_count": 17,
   "metadata": {},
   "outputs": [],
   "source": [
    "# First, create rect for article text which is on the bottom third of page\n",
    "r = new_page.rect\n",
    "r.y0 = (r.y1 * 2) / 3  # two third of page height\n",
    "article = new_page.get_textbox(r)"
   ]
  },
  {
   "cell_type": "code",
   "execution_count": 18,
   "metadata": {},
   "outputs": [
    {
     "data": {
      "text/plain": [
       "['Loveth Klinger',\n",
       " 'Vom Glück, eine Arbeit zu haben',\n",
       " 'PRoToKoll: SÓnia melo',\n",
       " 'FoTo: maRio lanG']"
      ]
     },
     "execution_count": 18,
     "metadata": {},
     "output_type": "execute_result"
    }
   ],
   "source": [
    "# Second, create rect for article title which is in between half and third bottom of page\n",
    "r2 = new_page.rect\n",
    "r2.y0 = r2.y1 / 2  # half of page height\n",
    "r2.y1 = r2.y1 * 2 / 3  - 3 # two third of page height -3 so it is not overlapping\n",
    "meta_string = new_page.get_textbox(r2)\n",
    "meta_array = meta_string.splitlines()\n",
    "meta_array\n"
   ]
  },
  {
   "cell_type": "code",
   "execution_count": 40,
   "metadata": {},
   "outputs": [],
   "source": [
    "# Assign meta data to variables\n",
    "for i, line in enumerate(meta_array):\n",
    "\tif \"protokoll:\" in line.lower():\n",
    "\t\tprotocol = meta_array[i].lower().title()\n",
    "\t\tphotograph = meta_array[i+1].lower().title()\n",
    "\t\ttitle = meta_array[i-1]\n",
    "\t\tauthor = \"Autor*in: \"+meta_array[i-2].lower().title()"
   ]
  },
  {
   "cell_type": "code",
   "execution_count": 41,
   "metadata": {},
   "outputs": [],
   "source": [
    "# this gives me the whole part of the article in single letters\n",
    "# article = []\n",
    "# return_values\n",
    "# for index in range(return_values[0], return_values[1]):\n",
    "# \tarticle += lines[index]\n"
   ]
  },
  {
   "cell_type": "code",
   "execution_count": 42,
   "metadata": {},
   "outputs": [],
   "source": [
    "# str = ''\n",
    "# for i in article:\n",
    "#     str += i\n",
    "\n",
    "# print(str)"
   ]
  },
  {
   "cell_type": "code",
   "execution_count": 43,
   "metadata": {},
   "outputs": [
    {
     "name": "stdout",
     "output_type": "stream",
     "text": [
      "supposed to break a new line \n",
      "\n",
      "supposed to break a new line \n",
      "\n",
      "supposed to break a new line \n",
      "\n"
     ]
    }
   ],
   "source": [
    "# print(article) gives me something like\n",
    "# ['A', '\\n', 'n', 's', 't', 'a', 't', 't', ' ', 'd', 'i', 'e', ' '...]\n",
    "# As shown, newlines have to be removed correctly i.e. not if a dot is before\n",
    "article = list(article)\n",
    "article_edit = article\n",
    "for index, letter in enumerate(article):\n",
    "\t# deletes newlines that are made up because of articles structure\n",
    "\tif '\\n' in letter:\n",
    "\t\tif '.' in article[index-1] or '!' in article[index-1] or '?' in article[index-1] or ':' in article[index-1]:\n",
    "\t\t\tprint(\"supposed to break a new line\", letter)\n",
    "\t\telif '-' in article[index-1]:\n",
    "\t\t\tif ' ' in article[index-1] and ' ' in article[index+1]:\n",
    "\t\t\t\t# this hyphen has been set on purpose and stays\n",
    "\t\t\t\tprint(\"hyphen has been set on purpose\")\n",
    "\t\t\telse:\n",
    "\t\t\t\t# deletes hyphen on the index and the extra space before it\n",
    "\t\t\t\tdel article_edit[index]\n",
    "\t\t\t\tdel article_edit[index-1]\n",
    "\t\telse:\n",
    "\t\t\tdel article_edit[index]\n",
    "\t# deletes double spaces\n",
    "\tif ' ' in letter and ' ' in article[index+1]:\n",
    "\t\t\tdel article_edit[index]\n"
   ]
  },
  {
   "cell_type": "code",
   "execution_count": 44,
   "metadata": {},
   "outputs": [
    {
     "name": "stdout",
     "output_type": "stream",
     "text": [
      "Vor zweieinhalb Jahren hatte ich eine schwierige Phase, da lief es nicht so gut für mich, ich war arbeitslos und wegen der Corona- Pandemie konnte ich lange keine Arbeit finden. Bis mir Bekannte von der Möglichkeit erzählten, den Augustin zu verkaufen und so ein bisschen Geld zu verdienen. Dann habe ich eine Einschulung besucht und einen Augustin-Ausweis bekommen, seitdem verkaufe ich die Zeitung, früher am Karlsplatz. Dort war es aber im Winter so kalt! Nun bin ich abwechselnd vor einem Supermarkt bei der U6- Station Währinger Straße und am Südtiroler Platz. Ein fixer Verkaufsplatz hat den Vorteil, dadurch Stammkund:innen gewinnen zu können, wenn es aber einer ist, der im Winter kalt ist, werde ich oft krank und kann nicht arbeiten. Ich möchte nicht betteln, mit dem Verkauf vom Augustin habe ich die Möglichkeit, einer Tätigkeit nachzugehen, anstatt um Almosen bitten zu müssen.\n",
      "Geboren und aufgewachsen bin ich in Benin City, einer Drei-Millionen-Stadt im Süden Nigerias. Ich bin 41 Jahre alt und lebe seit 21 Jahren in Wien, habe also bereits über die Hälfte meines Lebens hier verbracht. Ich bin damit zufrieden, Österreich ist ein gutes Land, ich mag Wien und lebe gern hier. Derzeit wohne ich im zweiten Bezirk mit meinen Kindern und mit meinem Freund, die Gegend gefällt mir sehr gut. In meiner Freizeit flaniere ich gern mit ihnen durch die Stadt. Meine Kinder sind 14 und 12 Jahre alt. Manchmal gehen wir ins Kino.\n",
      "Ich bin auf der Suche nach einer Arbeit als Küchenhilfe in einem Restaurant, diese Arbeit habe ich in den letzten Jahren immer wieder gemacht. Ich arbeite so gerne, es geht mir gut – besser –, wenn ich eine Arbeit habe. Mein Traumjob ist aber ein anderer, ich hätte gern ein kleines Geschäft für afrikanische Mode. Ich war in Nigeria Modedesignerin und Schneiderin, das würde ich so gern hier machen, als Selbstständige, aber mir fehlt das Startkapital für den eigenen Laden.\n",
      "Hohe Ansprüche habe ich nicht, mir genügt eine Arbeit zu haben und ein glückliches Leben mit meinen Kindern, gern möchte ich wieder mit ihnen auf Urlaub fahren. Sie waren nur ein Mal in Nigeria, als sie sehr klein waren. Wir möchten nochmals hin. Auf Urlaub, nicht zum Bleiben, denn das Leben ist hier besser. ■Hier kann ich einer Tätigkeit nachgehen, anstatt um Almosen bitten zu müssen\n"
     ]
    }
   ],
   "source": [
    "# to create a readable text for the article\n",
    "readable_text = ''\n",
    "for letter in article_edit:\n",
    "    readable_text += letter\n",
    "    \n",
    "print(readable_text)"
   ]
  },
  {
   "cell_type": "code",
   "execution_count": 45,
   "metadata": {},
   "outputs": [
    {
     "name": "stdout",
     "output_type": "stream",
     "text": [
      "response b'{\"id\":26,\"date\":\"2023-06-29T14:37:02\",\"date_gmt\":\"2023-06-29T14:37:02\",\"guid\":{\"rendered\":\"http:\\\\/\\\\/localhost:10004\\\\/vom-gluck-eine-arbeit-zu-haben-2\\\\/\",\"raw\":\"http:\\\\/\\\\/localhost:10004\\\\/vom-gluck-eine-arbeit-zu-haben-2\\\\/\"},\"modified\":\"2023-06-29T14:37:02\",\"modified_gmt\":\"2023-06-29T14:37:02\",\"password\":\"\",\"slug\":\"vom-gluck-eine-arbeit-zu-haben-2\",\"status\":\"publish\",\"type\":\"post\",\"link\":\"http:\\\\/\\\\/localhost:10004\\\\/vom-gluck-eine-arbeit-zu-haben-2\\\\/\",\"title\":{\"raw\":\"Vom Gl\\\\u00fcck, eine Arbeit zu haben\",\"rendered\":\"Vom Gl\\\\u00fcck, eine Arbeit zu haben\"},\"content\":{\"raw\":\"Vor zweieinhalb Jahren hatte ich eine schwierige Phase, da lief es nicht so gut f\\\\u00fcr mich, ich war arbeitslos und wegen der Corona- Pandemie konnte ich lange keine Arbeit finden. Bis mir Bekannte von der M\\\\u00f6glichkeit erz\\\\u00e4hlten, den Augustin zu verkaufen und so ein bisschen Geld zu verdienen. Dann habe ich eine Einschulung besucht und einen Augustin-Ausweis bekommen, seitdem verkaufe ich die Zeitung, fr\\\\u00fcher am Karlsplatz. Dort war es aber im Winter so kalt! Nun bin ich abwechselnd vor einem Supermarkt bei der U6- Station W\\\\u00e4hringer Stra\\\\u00dfe und am S\\\\u00fcdtiroler Platz. Ein fixer Verkaufsplatz hat den Vorteil, dadurch Stammkund:innen gewinnen zu k\\\\u00f6nnen, wenn es aber einer ist, der im Winter kalt ist, werde ich oft krank und kann nicht arbeiten. Ich m\\\\u00f6chte nicht betteln, mit dem Verkauf vom Augustin habe ich die M\\\\u00f6glichkeit, einer T\\\\u00e4tigkeit nachzugehen, anstatt um Almosen bitten zu m\\\\u00fcssen.\\\\nGeboren und aufgewachsen bin ich in Benin City, einer Drei-Millionen-Stadt im S\\\\u00fcden Nigerias. Ich bin 41 Jahre alt und lebe seit 21 Jahren in Wien, habe also bereits \\\\u00fcber die H\\\\u00e4lfte meines Lebens hier verbracht. Ich bin damit zufrieden, \\\\u00d6sterreich ist ein gutes Land, ich mag Wien und lebe gern hier. Derzeit wohne ich im zweiten Bezirk mit meinen Kindern und mit meinem Freund, die Gegend gef\\\\u00e4llt mir sehr gut. In meiner Freizeit flaniere ich gern mit ihnen durch die Stadt. Meine Kinder sind 14 und 12 Jahre alt. Manchmal gehen wir ins Kino.\\\\nIch bin auf der Suche nach einer Arbeit als K\\\\u00fcchenhilfe in einem Restaurant, diese Arbeit habe ich in den letzten Jahren immer wieder gemacht. Ich arbeite so gerne, es geht mir gut \\\\u2013 besser \\\\u2013, wenn ich eine Arbeit habe. Mein Traumjob ist aber ein anderer, ich h\\\\u00e4tte gern ein kleines Gesch\\\\u00e4ft f\\\\u00fcr afrikanische Mode. Ich war in Nigeria Modedesignerin und Schneiderin, das w\\\\u00fcrde ich so gern hier machen, als Selbstst\\\\u00e4ndige, aber mir fehlt das Startkapital f\\\\u00fcr den eigenen Laden.\\\\nHohe Anspr\\\\u00fcche habe ich nicht, mir gen\\\\u00fcgt eine Arbeit zu haben und ein gl\\\\u00fcckliches Leben mit meinen Kindern, gern m\\\\u00f6chte ich wieder mit ihnen auf Urlaub fahren. Sie waren nur ein Mal in Nigeria, als sie sehr klein waren. Wir m\\\\u00f6chten nochmals hin. Auf Urlaub, nicht zum Bleiben, denn das Leben ist hier besser. \\\\u25a0Hier kann ich einer T\\\\u00e4tigkeit nachgehen, anstatt um Almosen bitten zu m\\\\u00fcssen\",\"rendered\":\"<p>Vor zweieinhalb Jahren hatte ich eine schwierige Phase, da lief es nicht so gut f\\\\u00fcr mich, ich war arbeitslos und wegen der Corona- Pandemie konnte ich lange keine Arbeit finden. Bis mir Bekannte von der M\\\\u00f6glichkeit erz\\\\u00e4hlten, den Augustin zu verkaufen und so ein bisschen Geld zu verdienen. Dann habe ich eine Einschulung besucht und einen Augustin-Ausweis bekommen, seitdem verkaufe ich die Zeitung, fr\\\\u00fcher am Karlsplatz. Dort war es aber im Winter so kalt! Nun bin ich abwechselnd vor einem Supermarkt bei der U6- Station W\\\\u00e4hringer Stra\\\\u00dfe und am S\\\\u00fcdtiroler Platz. Ein fixer Verkaufsplatz hat den Vorteil, dadurch Stammkund:innen gewinnen zu k\\\\u00f6nnen, wenn es aber einer ist, der im Winter kalt ist, werde ich oft krank und kann nicht arbeiten. Ich m\\\\u00f6chte nicht betteln, mit dem Verkauf vom Augustin habe ich die M\\\\u00f6glichkeit, einer T\\\\u00e4tigkeit nachzugehen, anstatt um Almosen bitten zu m\\\\u00fcssen.<br \\\\/>\\\\nGeboren und aufgewachsen bin ich in Benin City, einer Drei-Millionen-Stadt im S\\\\u00fcden Nigerias. Ich bin 41 Jahre alt und lebe seit 21 Jahren in Wien, habe also bereits \\\\u00fcber die H\\\\u00e4lfte meines Lebens hier verbracht. Ich bin damit zufrieden, \\\\u00d6sterreich ist ein gutes Land, ich mag Wien und lebe gern hier. Derzeit wohne ich im zweiten Bezirk mit meinen Kindern und mit meinem Freund, die Gegend gef\\\\u00e4llt mir sehr gut. In meiner Freizeit flaniere ich gern mit ihnen durch die Stadt. Meine Kinder sind 14 und 12 Jahre alt. Manchmal gehen wir ins Kino.<br \\\\/>\\\\nIch bin auf der Suche nach einer Arbeit als K\\\\u00fcchenhilfe in einem Restaurant, diese Arbeit habe ich in den letzten Jahren immer wieder gemacht. Ich arbeite so gerne, es geht mir gut \\\\u2013 besser \\\\u2013, wenn ich eine Arbeit habe. Mein Traumjob ist aber ein anderer, ich h\\\\u00e4tte gern ein kleines Gesch\\\\u00e4ft f\\\\u00fcr afrikanische Mode. Ich war in Nigeria Modedesignerin und Schneiderin, das w\\\\u00fcrde ich so gern hier machen, als Selbstst\\\\u00e4ndige, aber mir fehlt das Startkapital f\\\\u00fcr den eigenen Laden.<br \\\\/>\\\\nHohe Anspr\\\\u00fcche habe ich nicht, mir gen\\\\u00fcgt eine Arbeit zu haben und ein gl\\\\u00fcckliches Leben mit meinen Kindern, gern m\\\\u00f6chte ich wieder mit ihnen auf Urlaub fahren. Sie waren nur ein Mal in Nigeria, als sie sehr klein waren. Wir m\\\\u00f6chten nochmals hin. Auf Urlaub, nicht zum Bleiben, denn das Leben ist hier besser. \\\\u25a0Hier kann ich einer T\\\\u00e4tigkeit nachgehen, anstatt um Almosen bitten zu m\\\\u00fcssen<\\\\/p>\\\\n\",\"protected\":false,\"block_version\":0},\"excerpt\":{\"raw\":\"Author: Loveth Klinger, Foto: Mario Lang, Protokoll: S\\\\u00f3nia Melo\",\"rendered\":\"<p>Author: Loveth Klinger, Foto: Mario Lang, Protokoll: S\\\\u00f3nia Melo<\\\\/p>\\\\n\",\"protected\":false},\"author\":1,\"featured_media\":24,\"comment_status\":\"open\",\"ping_status\":\"open\",\"sticky\":false,\"template\":\"\",\"format\":\"standard\",\"meta\":[],\"categories\":[1],\"tags\":[],\"permalink_template\":\"http:\\\\/\\\\/localhost:10004\\\\/%postname%\\\\/\",\"generated_slug\":\"vom-gluck-eine-arbeit-zu-haben-2\",\"_links\":{\"self\":[{\"href\":\"http:\\\\/\\\\/localhost:10004\\\\/wp-json\\\\/wp\\\\/v2\\\\/posts\\\\/26\"}],\"collection\":[{\"href\":\"http:\\\\/\\\\/localhost:10004\\\\/wp-json\\\\/wp\\\\/v2\\\\/posts\"}],\"about\":[{\"href\":\"http:\\\\/\\\\/localhost:10004\\\\/wp-json\\\\/wp\\\\/v2\\\\/types\\\\/post\"}],\"author\":[{\"embeddable\":true,\"href\":\"http:\\\\/\\\\/localhost:10004\\\\/wp-json\\\\/wp\\\\/v2\\\\/users\\\\/1\"}],\"replies\":[{\"embeddable\":true,\"href\":\"http:\\\\/\\\\/localhost:10004\\\\/wp-json\\\\/wp\\\\/v2\\\\/comments?post=26\"}],\"version-history\":[{\"count\":0,\"href\":\"http:\\\\/\\\\/localhost:10004\\\\/wp-json\\\\/wp\\\\/v2\\\\/posts\\\\/26\\\\/revisions\"}],\"wp:featuredmedia\":[{\"embeddable\":true,\"href\":\"http:\\\\/\\\\/localhost:10004\\\\/wp-json\\\\/wp\\\\/v2\\\\/media\\\\/24\"}],\"wp:attachment\":[{\"href\":\"http:\\\\/\\\\/localhost:10004\\\\/wp-json\\\\/wp\\\\/v2\\\\/media?parent=26\"}],\"wp:term\":[{\"taxonomy\":\"category\",\"embeddable\":true,\"href\":\"http:\\\\/\\\\/localhost:10004\\\\/wp-json\\\\/wp\\\\/v2\\\\/categories?post=26\"},{\"taxonomy\":\"post_tag\",\"embeddable\":true,\"href\":\"http:\\\\/\\\\/localhost:10004\\\\/wp-json\\\\/wp\\\\/v2\\\\/tags?post=26\"}],\"wp:action-publish\":[{\"href\":\"http:\\\\/\\\\/localhost:10004\\\\/wp-json\\\\/wp\\\\/v2\\\\/posts\\\\/26\"}],\"wp:action-unfiltered-html\":[{\"href\":\"http:\\\\/\\\\/localhost:10004\\\\/wp-json\\\\/wp\\\\/v2\\\\/posts\\\\/26\"}],\"wp:action-sticky\":[{\"href\":\"http:\\\\/\\\\/localhost:10004\\\\/wp-json\\\\/wp\\\\/v2\\\\/posts\\\\/26\"}],\"wp:action-assign-author\":[{\"href\":\"http:\\\\/\\\\/localhost:10004\\\\/wp-json\\\\/wp\\\\/v2\\\\/posts\\\\/26\"}],\"wp:action-create-categories\":[{\"href\":\"http:\\\\/\\\\/localhost:10004\\\\/wp-json\\\\/wp\\\\/v2\\\\/posts\\\\/26\"}],\"wp:action-assign-categories\":[{\"href\":\"http:\\\\/\\\\/localhost:10004\\\\/wp-json\\\\/wp\\\\/v2\\\\/posts\\\\/26\"}],\"wp:action-create-tags\":[{\"href\":\"http:\\\\/\\\\/localhost:10004\\\\/wp-json\\\\/wp\\\\/v2\\\\/posts\\\\/26\"}],\"wp:action-assign-tags\":[{\"href\":\"http:\\\\/\\\\/localhost:10004\\\\/wp-json\\\\/wp\\\\/v2\\\\/posts\\\\/26\"}],\"curies\":[{\"name\":\"wp\",\"href\":\"https:\\\\/\\\\/api.w.org\\\\/{rel}\",\"templated\":true}]}}'\n"
     ]
    }
   ],
   "source": [
    "### POST REQUEST ###\n",
    "\n",
    "url = \"http://localhost:10004/wp-json/wp/v2/posts\"\n",
    "\n",
    "user = \"lebe\"\n",
    "password = \"gUwM J4pU sngD VHpk Cub7 quS2\"\n",
    "\n",
    "credentials = user + \":\" + password\n",
    "\n",
    "token = base64.b64encode(credentials.encode())\n",
    "\n",
    "header = {\"Authorization\": \"Basic \" + token.decode(\"utf-8\")}\n",
    "\n",
    "post2 = {\n",
    "        \"title\": title,\n",
    "        \"status\": \"publish\",\n",
    "        \"content\": readable_text,\n",
    "        \"excerpt\": author + \", \" + photograph + \", \" + protocol,\n",
    "        \"post_type\": \"post\",\n",
    "        \"featured_media\": image_id,\n",
    "    }\n",
    "\n",
    "response = requests.post(url, headers=header, json=post2)\n",
    "\n",
    "print(\"response\", response.content)"
   ]
  },
  {
   "cell_type": "code",
   "execution_count": null,
   "metadata": {},
   "outputs": [],
   "source": []
  },
  {
   "cell_type": "code",
   "execution_count": null,
   "metadata": {},
   "outputs": [],
   "source": []
  }
 ],
 "metadata": {
  "kernelspec": {
   "display_name": "Python 3",
   "language": "python",
   "name": "python3"
  },
  "language_info": {
   "codemirror_mode": {
    "name": "ipython",
    "version": 3
   },
   "file_extension": ".py",
   "mimetype": "text/x-python",
   "name": "python",
   "nbconvert_exporter": "python",
   "pygments_lexer": "ipython3",
   "version": "3.10.12"
  },
  "orig_nbformat": 4
 },
 "nbformat": 4,
 "nbformat_minor": 2
}
