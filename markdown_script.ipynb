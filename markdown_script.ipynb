{
 "cells": [
  {
   "cell_type": "code",
   "execution_count": 1,
   "metadata": {},
   "outputs": [],
   "source": [
    "# Import necessary libraries\n",
    "import base64\n",
    "import json\n",
    "import sys \n",
    "import os\n",
    "import fitz\n",
    "import requests\n",
    "import re\n",
    "from fitz import Document, Page, Rect"
   ]
  },
  {
   "cell_type": "markdown",
   "metadata": {},
   "source": [
    "# Load double page"
   ]
  },
  {
   "cell_type": "code",
   "execution_count": 11,
   "metadata": {},
   "outputs": [
    {
     "name": "stdout",
     "output_type": "stream",
     "text": [
      "574\n",
      "magazin\n",
      "21\n",
      "art.ist.in\n",
      "20\n",
      "art.ist.in\n",
      "VERSCHIEDENE INTERPRET:INNEN\n",
      "Schnitzelbeat Vol. 3 – Ready For Take Off (CD, vinyl)\n",
      "(Konkord/Digatone)\n",
      "www.konkord.org\n",
      "Der Perlenfischer al Bird Sputnik hat wiederholt seine ohren \n",
      "gespitzt. Für seine Trash Rock archives spürt er nach den Wur-\n",
      "zeln der heimischen Populärmusik, um sie zuerst einmal wieder \n",
      "auszugraben und sie dann aus ihrer vergessenheit zu  befreien. \n",
      "Unter dem Decknamen Schnitzelbeat präsentiert er in der drit-\n",
      "ten ausgabe die Jahre 1967–1973: Psychedelic, Flower Power \n",
      "und Proto-Punk. Die klingende Wundertüte vergessener Kuri-\n",
      "ositäten eröffnen die Punk-vorläufer der novaks Kapelle mit \n",
      "«Garbage man», der fast 55 Jahre verschollenen «müllmann»-\n",
      "aufnahme. Hinter der Charles Riders Corporation versteckt sich \n",
      "wiederum der spätere Jazz-Gitarren-Gigant Karl Ratzer, der den \n",
      "Wiener Hendrix aus sich herauskratzt. Hide & Seek aus Graz, \n",
      "jene Band, in der auch Rockviech Wilfried Scheutz später seine \n",
      "Stimme ausprobierte, verschrieben sich für kurze drei erfolgrei-\n",
      "che Jahre dem Psychedelischen Rock. insgesamt 20 musikali-\n",
      "sche leckerbissen erklingen nach über 50 Jahren in veränder-\n",
      "ter Strahlkraft, von bizarr bis extraordinär. Zu ersterem Typus \n",
      "zählt die Schlussnummer «Blumen im Haar» von der Casting-\n",
      "band The Wallflowers. Genauso erhellend wie die  musikbeiträge \n",
      "ist das vielseitige wie detailreiche Booklet. Kein Will- sondern \n",
      "ein musshaben!\n",
      "Aufg’legt\n",
      "Sofia Andruchowytsch:  \n",
      "Die Geschichte von Romana\n",
      "Residenz 2023\n",
      "304 Seiten, 25 Euro\n",
      "Gerhard Ruiss:\n",
      "Kanzlerreste.  \n",
      "Das Kanzlerneueste\n",
      "Kanzlergedichte 2018–2023\n",
      "Edition Aramo 2023 \n",
      "189 Seiten, 18 Euro\n",
      "Roman\n",
      "Vom Kampf gegen den Geschichtsverlust\n",
      "«Sie zittert, während sie ihn betrachtet. Das ist ihr \n",
      "Mann. Das ist ihr persönliches Monster.» Ukraine im \n",
      "Jahr 2015. Vom Schlachtfeld aus dem Donbas kehrt \n",
      "ein Archäologe zurück, dessen Vergangenheit kom-\n",
      "plett verschüttet ist: Sein Gesicht ist zur Unkennt-\n",
      "lichkeit verstümmelt. Sein Gedächtnis hat er verloren. \n",
      "Die  Archivarin Romana erkennt in ihm ihren  Bohdan. \n",
      "Aber es ist nicht die Geschichte von Bohdan. Es ist die \n",
      " Geschichte von Romana, die es zu ihrer  Obsession \n",
      "macht, Bohdans Erinnerung wiederzugewinnen. Ist \n",
      "dieser Mann wirklich Bohdan? Kann er oder will er \n",
      "sich nicht erinnern? Oder ist er nach dem, was er  erlebt \n",
      "hat, nicht mehr Bohdan? \n",
      "Die Autorin Sofia Andruchowytsch stattet ihre Pro-\n",
      "tagonistin mit ihrem Talent aus, Menschen zu begeg-\n",
      "nen und sie zu beschreiben. Die Übersetzer:innen \n",
      " Alexander Kratochvil und Maria Weissenböck ver-\n",
      "orten diese Erinnerung einfühlsam in Kyjiw, nicht \n",
      "in Kiew. \n",
      "Sofia Andruchowytsch ist bereits mit ihrem Roman \n",
      "Der Papierjunge (2016) der Durchbruch gelungen. Die \n",
      "Geschichte von Romana ist der erzählgewaltige Auf-\n",
      "takt einer Trilogie über ein Jahrhundert ukrainischer \n",
      " Geschichte. In deutschsprachiger Übersetzung wer-\n",
      "den uns auch die Frauen Uljana und Sofia im Herbst \n",
      "2023 und Herbst 2024 ihre Geschichten erzählen.\n",
      "flom\n",
      "Lyrik\n",
      "Abgekanzlert\n",
      "Was bleibt am Ende von einem Kanzler übrig? Was von \n",
      "seinem politischen Wirken bleibt historisch relevant, \n",
      "ohne Namen zu nennen? Möglicherweise sind es nicht \n",
      "Handlungen, sondern die Art des Herrschens, die es \n",
      "wert ist, festgehalten zu werden. Im dritten und letz-\n",
      "ten Band seiner Kanzlergedichte sind Gerhard Ruiss \n",
      "die (dennoch bekannten) Namen der Protagonist:innen \n",
      "egal. In Kanzlerreste. Das Kanzlerneueste protokolliert \n",
      "er die politische Lage der Alpenrepublik zwischen 2018 \n",
      "und 2023. «Ich habe mich gefragt, wie politische Dich-\n",
      "tung heute noch möglich ist», sagt Ruiss, der neben sei-\n",
      "ner Tätigkeit als Autor und Musiker auch Geschäfts-\n",
      "führer der IG Autorinnen Autoren ist. Ruiss ging der \n",
      "Frage nach, wie politische Aussagen – von Schüssel bis \n",
      "Nehammer – klingen, «wenn man sie auf ein  anderes \n",
      "Terrain holt, in den Bereich der Literatur. Was bleibt an \n",
      "Substanz übrig und was wird einfach lächerlich?» Im \n",
      "literarischen Kontext geben sich viele politische Aus-\n",
      "sagen selbst der Lächerlichkeit preis – und  Gerhard \n",
      "Ruiss protokolliert sie pointiert mit spitzer Feder. Er \n",
      "bezeichnet die Archetypen, lässt sie sich genussvoll auf \n",
      "der Zunge zergehen und verdichtet sie zu einer Zeit-\n",
      "kapsel der laufenden Ereignisse.\n",
      "Christoph Fellmer\n",
      "ANSA SAUERMANN\n",
      "Du kriegst was du brauchst (CD, vinyl)\n",
      "(lotterlabel)\n",
      "www.ansasauermann.de\n",
      "Der ansa, seinerzeit noch hinter der mauer in Dresden als \n",
      "andré Sauermann geborgen, hat bereits in vorpandemischen \n",
      "Zeiten seinen lebensmittelpunkt von der elbe- in die Donau-\n",
      "metropole verlegt. verstrickungen mit dem land mit dem a \n",
      " begleiteten seinen bisherigen musikalischen lebenslauf.  Unter \n",
      "der Regie von Paul Gallister veröffentlichte er 2017 sein  Debüt \n",
      "Weisse Liebe, bevor er sich mit Trümmerlotte (2020) in den Hän-\n",
      "den von Herwig Zamernik wiederfand. Die Sperrstunden stopp-\n",
      "ten den zu erwartenden erfolgslauf des zweiten aufgusses. \n",
      "verliebt und frisch verheiratet nimmt der ansa einen neuen \n",
      "anlauf, lässt sein Herz baumeln und sich von der liebe treiben: \n",
      "«Halt dich fest, so gut du kannst, ich bitte um den nächsten \n",
      "Tanz …», romantisch versponnene, schwingende bis  treibende \n",
      "Pop- lamourhatscher, die, wie schon der Titel verspricht, alles \n",
      " haben, was wir wollen.\n",
      "lama\n",
      "Lösungen zu Seite 27\n",
      "D\n",
      "U\n",
      "I\n",
      "D\n",
      "P\n",
      "N\n",
      "B\n",
      "U\n",
      "S\n",
      "E\n",
      "R\n",
      "T\n",
      "E\n",
      "S\n",
      "R\n",
      "E\n",
      "A\n",
      "S\n",
      "N\n",
      "O\n",
      "Z\n",
      "R\n",
      "M\n",
      "T\n",
      "V\n",
      "T\n",
      "E\n",
      "K\n",
      "C\n",
      "A\n",
      "D\n",
      "S\n",
      "R\n",
      "E\n",
      "G\n",
      "E\n",
      "D\n",
      "Z\n",
      "L\n",
      "U\n",
      "K\n",
      "B\n",
      "K\n",
      "S\n",
      "L\n",
      "N\n",
      "T\n",
      "S\n",
      "E\n",
      "O\n",
      "H\n",
      "C\n",
      "A\n",
      "B\n",
      "V\n",
      "I\n",
      "T\n",
      "L\n",
      "G\n",
      "I\n",
      "F\n",
      "T\n",
      "H\n",
      "S\n",
      "W O\n",
      "B\n",
      "F\n",
      "E\n",
      "U\n",
      "L\n",
      "Z\n",
      "SE\n",
      "EA\n",
      "BR\n",
      "VK\n",
      "II\n",
      "O\n",
      "W\n",
      "HE\n",
      "EB\n",
      "KS\n",
      "N\n",
      "R\n",
      "M\n",
      "W\n",
      "I\n",
      "E\n",
      "S\n",
      "E\n",
      "V\n",
      "F\n",
      "D\n",
      "ie kurzen und Kürzest-Formen der \n",
      "Literatur bringen’s auf den Punkt, \n",
      "sie vermeiden Geschwafel und \n",
      "kommen ohne Füllwörter aus. Im Litera-\n",
      "turbetrieb und auf dem Markt kommen \n",
      "sie ironischerweise dennoch zu kurz. \n",
      "Auch Wettbewerbe etwa für Kürzestge-\n",
      "schichten gibt es kaum. Deshalb haben \n",
      "Sonja Kral und Veronika Hallwirth von \n",
      "Treffpunkt Schreiben den FLASHbewerb \n",
      "2023: Der Schreibwettbewerb für Flash \n",
      "Fiction und Lyrik ausgeschrieben. «Auf-\n",
      "blitzen» lautet das Thema des Bewerbs, \n",
      "bei dem bis 31. Mai noch Texte mit  einer \n",
      "Länge von mindestens 50 bis höchsten \n",
      "500 Wörtern eingereicht werden kön-\n",
      "nen. Gewinnen können Teilnehmer:innen \n",
      "keinen Blumentopf, sondern z. B. eine \n",
      "Buchveröffentlichung (1. Preis), einen \n",
      "Gutschein für Schreibworkshops oder \n",
      "feine Goodie Bags. Die besten Texte wer-\n",
      "den in einer Anthologie veröffentlicht, \n",
      " deren Verkaufsreinerlös dem Augustin \n",
      "zugutekommt.\n",
      "Alle Infos und Teilnahmebedingun-\n",
      "gen unter www.treffpunktschreiben.at/\n",
      "tag/aufblitzen.\n",
      "JL\n",
      "I\n",
      "n jungen Jahren verschlang ich das \n",
      "Buch mehrmals. Der Film war auch \n",
      "nicht schlecht, dann kam Rebecca als \n",
      "Musical nach Wien ins Raimund Thea-\n",
      "ter. Sofort besorgte ich Karten mit meiner \n",
      "Schwester. Wir zogen uns hübsch an und \n",
      "gingen voller Stolz ins Theater. \n",
      "Diese tolle Liebesgeschichte dreht sich \n",
      "um Schloss Manderley, Maxim de  Winter \n",
      "und seine verstorbene Frau Rebecca. In \n",
      "Monte Carlo lernt de Winter die Gesell-\n",
      "schafterin (Erzählerin) «Ich» kennen, \n",
      "sie verlieben sich Hals über Kopf. Er hei-\n",
      "ratet sie kurzerhand und bringt sie nach \n",
      "Manderley. «Ich» kommt glücklich dort \n",
      "an, aber dann beginnt ihr schwerer Kampf \n",
      "gegen die Haushälterin Mrs. Danvers und \n",
      "die tote  Rebecca. Sie spürt überall ihre \n",
      "Anwesenheit. \n",
      "Mit prächtiger Ausstattung wird die \n",
      "Produktion aufgeführt, es gibt wunder-\n",
      "schöne Melodien, Szenen voll Spannung \n",
      "und Spezialeffekte, die überraschen. Die \n",
      "Sänger:innen sind der Wahnsinn und \n",
      "reißen dich mit mit ihren Stimmen. Ich \n",
      " konnte gar nicht erwarten, dass die  Pause \n",
      "endlich vorbei war und das Musical weiter-\n",
      "ging. Der zweite Teil war genauso faszinie-\n",
      "rend und ging mir richtig unter die Haut. \n",
      " Werde mir das Musical ganz sicher noch-\n",
      "mals  anschauen, denn der Gesang, das Büh-\n",
      "nenbild und auch das Live-Orchester wa-\n",
      "ren berauschend.\n",
      "Sandra Yildiz\n",
      "Raimund Theater\n",
      "Vorstellungen bis Jänner 2024\n",
      "6., Wallgasse 18-20\n",
      "www.musicalvienna.at\n",
      "Schreibwettbewerb «Aufblitzen»\n",
      "In Kürze\n",
      "Aus der KulturPASSage\n",
      "Rebecca\n",
      "Wertstoffe\n",
      "Fundstücke sind in diesem Frühlingssemester der augustin-\n",
      "Geschichtenwerkstatt der Baustoff zum Fabrizieren von Text- \n",
      "und Bildcollagen. am 17. mai von 15 bis 17 Uhr laden wir zu \n",
      "einer speziellen Schreib- und Bastelsession in die augustin-\n",
      "lounge: Wortklaubereien und -klebereien aus einem beson-\n",
      "deren Wertstoff, nämlich alten augustin-ausgaben. Bei der \n",
      "Geschichtenwerkstatt am 14. Juni (15 bis 17 Uhr), geht es mit \n",
      "Brigitta Höpler ums erkunden der augustin-Umgebung im \n",
      "5. Bezirk. eintritt frei, mitmachen können alle, die lust und \n",
      "Zeit zum Schreiben und kreativen Tun haben. ort: 5., Rein-\n",
      "prechtsdorfer Straße 31, im Hof.\n",
      "www.augustin.or.at/projekte/schreibwerkstatt\n",
      "Wertsteigerung\n",
      "Circular Potentials heißt das Symposium der agentur  Kreative \n",
      "Räume Wien (14. – 15. Juni). Thema ist der mehrwert, der \n",
      "durch Zwischennutzung leerstehender immobilien entsteht. \n",
      "Sind die Potenziale, leerstand für Kunst und Kultur zu nützen, \n",
      "bis er abgerissen oder zu luxusapartments umgebaut wird, \n",
      "wirklich «zirkulär» oder drehen sich die Diskussionen um sta-\n",
      "bile, leistbare Räume für künstlerische Praxis eher im Kreis? \n",
      "Das Sprechen von der «Zwischennutzung als Wirtschafts-\n",
      "faktor» ist jedenfalls eines, das die Debatten und Kämpfe \n",
      "der 2000er-Jahre abgelöst hat. Kunst wird nicht mehr gegen \n",
      "den vorwurf des Gentrifizierungstreibers verteidigt, sondern \n",
      "für ihre Funktion als motor und innovator «sowohl in der Be-\n",
      "standstadt als auch in Stadtentwicklungsgebieten» geehrt. \n",
      "www.kreativeraeumewien.at\n",
      "Volle KonZentRAtion\n",
      "Foto: VBW Deen Van Meer\n",
      "Mrs. Danvers (Willemijn Verkaik) lässt Lady de \n",
      "Winter (Nienke Latten) spüren, dass sie an ihre \n",
      "frühere Herrin Rebecca nicht heranreicht\n",
      "Der Kulturpass ermöglicht Menschen mit \n",
      "geringem Einkommen, kostenlos Kultur-\n",
      "einrichtungen und -veranstaltungen zu \n",
      " besuchen. www.hungeraufkunstundkultur.at\n",
      "\n"
     ]
    }
   ],
   "source": [
    "src = fitz.open(\"../PyMuPDF_playground/574_augustin_fertig_kontrolle.pdf\")\n",
    "new_doc = fitz.open()  # empty output PDF\n",
    "\n",
    "page = src.load_page(10)\n",
    "print(page.get_text())  # get text from page"
   ]
  },
  {
   "cell_type": "markdown",
   "metadata": {},
   "source": [
    "# Split double page in two single pages"
   ]
  },
  {
   "cell_type": "markdown",
   "metadata": {},
   "source": [
    "Save each single page as an own pdf and as an image"
   ]
  },
  {
   "cell_type": "markdown",
   "metadata": {},
   "source": [
    "# On each page"
   ]
  },
  {
   "cell_type": "markdown",
   "metadata": {},
   "source": [
    "## Extract category like \"editorial\", \"cover\" etc"
   ]
  },
  {
   "cell_type": "markdown",
   "metadata": {},
   "source": [
    "This can be done easily via get_text by rect"
   ]
  },
  {
   "cell_type": "markdown",
   "metadata": {},
   "source": [
    "## Check for text on page "
   ]
  },
  {
   "cell_type": "markdown",
   "metadata": {},
   "source": [
    "Hardcode a rectangle where text is usually stored on pages where it can be anticipated? "
   ]
  },
  {
   "cell_type": "markdown",
   "metadata": {},
   "source": [
    "### 1. Check for capitalized letters"
   ]
  },
  {
   "cell_type": "markdown",
   "metadata": {},
   "source": [
    "If there is a letter in different color than black and bigger font size than 50, there is a text to extract"
   ]
  },
  {
   "cell_type": "markdown",
   "metadata": {},
   "source": [
    "### 2. Check for Heading "
   ]
  },
  {
   "cell_type": "markdown",
   "metadata": {},
   "source": [
    "If true, extract it"
   ]
  },
  {
   "cell_type": "markdown",
   "metadata": {},
   "source": [
    "### 3. Check for Excerpt"
   ]
  },
  {
   "cell_type": "markdown",
   "metadata": {},
   "source": [
    "Also look for quotes written in italics and bigger than normal text to include to subheading -> Ask Augustin what to do"
   ]
  },
  {
   "cell_type": "markdown",
   "metadata": {},
   "source": [
    "What to do when there are more than one quote? -> Ask Augustin"
   ]
  },
  {
   "cell_type": "markdown",
   "metadata": {},
   "source": [
    "### 3. Check for ending square ■"
   ]
  },
  {
   "cell_type": "markdown",
   "metadata": {},
   "source": [
    "If ■ is not on same page figure out if text remains on next page or ended without ■ and an author shortcut"
   ]
  },
  {
   "cell_type": "markdown",
   "metadata": {},
   "source": [
    "### 4. Check for author"
   ]
  },
  {
   "cell_type": "markdown",
   "metadata": {},
   "source": [
    "Put credits, photographer etc. to excerpt"
   ]
  },
  {
   "cell_type": "markdown",
   "metadata": {},
   "source": [
    "### 5. Extract text"
   ]
  },
  {
   "cell_type": "markdown",
   "metadata": {},
   "source": [
    "Nice feature: Before extracting check if in the text there are words in bold. If true, keep them bold."
   ]
  },
  {
   "cell_type": "markdown",
   "metadata": {},
   "source": []
  }
 ],
 "metadata": {
  "kernelspec": {
   "display_name": "base",
   "language": "python",
   "name": "python3"
  },
  "language_info": {
   "codemirror_mode": {
    "name": "ipython",
    "version": 3
   },
   "file_extension": ".py",
   "mimetype": "text/x-python",
   "name": "python",
   "nbconvert_exporter": "python",
   "pygments_lexer": "ipython3",
   "version": "3.10.12"
  },
  "orig_nbformat": 4
 },
 "nbformat": 4,
 "nbformat_minor": 2
}
