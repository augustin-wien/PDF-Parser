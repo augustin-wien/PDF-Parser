{
 "cells": [
  {
   "cell_type": "code",
   "execution_count": 10,
   "metadata": {},
   "outputs": [],
   "source": [
    "# Modules for PDF extraction -> PyMuPDF\n",
    "import base64\n",
    "\n",
    "# Modules for Wordpress REST API\n",
    "import json\n",
    "import os\n",
    "import re\n",
    "import fitz\n",
    "import requests\n",
    "from dotenv import load_dotenv"
   ]
  },
  {
   "cell_type": "code",
   "execution_count": 12,
   "metadata": {},
   "outputs": [],
   "source": [
    "# Load environment variables\n",
    "load_dotenv()\n",
    "global_save_path = os.environ.get(\"SAVE_PATH\")\n",
    "path_to_file = (\n",
    "    global_save_path + \"570_augustin_fertig_kontrolle/570_augustin_fertig_kontrolle.pdf\"\n",
    ")\n",
    "\n",
    "\"\"\"Save the cover page of the PDF file as a PNG image.\"\"\"\n",
    "src = fitz.open(path_to_file)\n",
    "for index, page in enumerate(src):\n",
    "    # skip first page\n",
    "    if index == 0:\n",
    "        continue\n",
    "\n",
    "    images = page.get_images(full=True)\n",
    "    for img_index, image in enumerate(images):\n",
    "        image_index = image[0]\n",
    "        base_image = src.extract_image(image_index)\n",
    "        image_bytes = base_image[\"image\"]\n",
    "\n",
    "        # Save the image to a file\n",
    "        image_filename = f\"{global_save_path}570_augustin_fertig_kontrolle/page_{index + 1}_img_{img_index + 1}.png\"\n",
    "        with open(image_filename, \"wb\") as image_file:\n",
    "            image_file.write(image_bytes)\n",
    "\n",
    "src.close()"
   ]
  },
  {
   "cell_type": "code",
   "execution_count": null,
   "metadata": {},
   "outputs": [],
   "source": [
    "# Upload one image to Wordpress\n",
    "from utils import requests\n",
    "\n",
    "# Get the image\n",
    "image_filename = f\"{global_save_path}570_augustin_fertig_kontrolle/page_1_img_1.png\"\n",
    "\n",
    "# Upload the image\n",
    "image_id, image_src = requests.upload_image(image_filename, \"page_1_img_1.png\")\n",
    "\n",
    "# Upload a post with the image\n",
    "post_id = requests.upload_post(\n",
    "    title=\"Test post\",\n",
    "    content=\"This is a test post\",\n",
    "    featured_media=image_id,\n",
    "    status=\"publish\",\n",
    ")"
   ]
  }
 ],
 "metadata": {
  "kernelspec": {
   "display_name": "base",
   "language": "python",
   "name": "python3"
  },
  "language_info": {
   "codemirror_mode": {
    "name": "ipython",
    "version": 3
   },
   "file_extension": ".py",
   "mimetype": "text/x-python",
   "name": "python",
   "nbconvert_exporter": "python",
   "pygments_lexer": "ipython3",
   "version": "3.11.4"
  },
  "orig_nbformat": 4
 },
 "nbformat": 4,
 "nbformat_minor": 2
}
