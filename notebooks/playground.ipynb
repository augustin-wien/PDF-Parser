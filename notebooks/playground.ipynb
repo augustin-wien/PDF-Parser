{
 "cells": [
  {
   "cell_type": "code",
   "execution_count": 15,
   "metadata": {},
   "outputs": [
    {
     "name": "stdout",
     "output_type": "stream",
     "text": [
      "http://localhost:10004/wp-json/wp/v2/\n"
     ]
    }
   ],
   "source": [
    "# Modules for PDF extraction -> PyMuPDF\n",
    "import base64\n",
    "\n",
    "# Modules for Wordpress REST API\n",
    "import json\n",
    "import os\n",
    "import re\n",
    "import fitz\n",
    "import requests\n",
    "from utils import upload_image\n",
    "\n",
    "path_to_file=\"./570_Augustin_fertig_kontrolle.pdf\"\n",
    "\n",
    "\"\"\"Save the cover page of the PDF file as a PNG image.\"\"\"\n",
    "src = fitz.open(path_to_file)\n",
    "\n",
    "page = src.load_page(0)\n",
    "pix = page.get_pixmap()  # render page to an image\n",
    "number_in_dir = [int(s) for s in re.findall(r\"\\d+\", path_to_file)]\n",
    "print(number_in_dir)\n",
    "# if len(number_in_dir) != 1:\n",
    "#     raise ValueError(\"No number found in directory name\")\n",
    "# image_title = \"coverpage-version-%i\" % (page.number, number_in_dir[0])\n",
    "# image_path = \"sample_data/page-%i-Version-%i.png\" % (page.number, number_in_dir[0])\n",
    "# pix.save(\n",
    "#     image_path,\n",
    "# )\n",
    "\n",
    "# upload_image(image_path, image_title)"
   ]
  },
  {
   "cell_type": "code",
   "execution_count": null,
   "metadata": {},
   "outputs": [],
   "source": []
  }
 ],
 "metadata": {
  "kernelspec": {
   "display_name": "base",
   "language": "python",
   "name": "python3"
  },
  "language_info": {
   "codemirror_mode": {
    "name": "ipython",
    "version": 3
   },
   "file_extension": ".py",
   "mimetype": "text/x-python",
   "name": "python",
   "nbconvert_exporter": "python",
   "pygments_lexer": "ipython3",
   "version": "3.10.12"
  },
  "orig_nbformat": 4
 },
 "nbformat": 4,
 "nbformat_minor": 2
}
