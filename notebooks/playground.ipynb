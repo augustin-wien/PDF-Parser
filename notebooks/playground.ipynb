{
 "cells": [
  {
   "cell_type": "code",
   "execution_count": 10,
   "metadata": {},
   "outputs": [],
   "source": [
    "# Modules for Wordpress REST API\n",
    "import requests\n",
    "from dotenv import load_dotenv"
   ]
  },
  {
   "cell_type": "code",
   "execution_count": 13,
   "metadata": {},
   "outputs": [],
   "source": [
    "# Load environment variables\n",
    "load_dotenv()\n",
    "global_save_path = os.environ.get(\"SAVE_PATH\")\n",
    "path_to_file= global_save_path + \"570_augustin_fertig_kontrolle/570_augustin_fertig_kontrolle.pdf\"\n",
    "\n",
    "\"\"\"Save the cover page of the PDF file as a PNG image.\"\"\"\n",
    "src = fitz.open(path_to_file)\n",
    "for index, page in enumerate(src):\n",
    "    # skip first page\n",
    "    if index == 0:\n",
    "        continue"
   ]
  },
  {
   "cell_type": "code",
   "execution_count": null,
   "metadata": {},
   "outputs": [],
   "source": [
    "image_id = upload_image(\"/home/funny/Pictures/leon.jpg\", \"Leon.jpg\")\n",
    "\n",
    "readable_text = f'''\n",
    "<!-- wp:image \"id\":{image_id},\"sizeSlug\":\"full\",\"linkDestination\":\"none\" -->\n",
    "<figure class=\"wp-block-image size-full\"><img src=\"http://augustin.local/wp-content/uploads/2023/12/github_image_108-2.jpeg\" alt=\"\" class=\"wp-image-73\"/></figure>\n",
    "<!-- /wp:image -->\n",
    "'''\n",
    "\n",
    "meta_information = {'title': 'Test', 'author': 'Leon', 'photograph': 'Leon', 'protocol': 'Leon'}\n",
    "\n",
    "upload_post(meta_information, readable_text, image_id)\n"
   ]
  }
 ],
 "metadata": {
  "kernelspec": {
   "display_name": "base",
   "language": "python",
   "name": "python3"
  },
  "language_info": {
   "codemirror_mode": {
    "name": "ipython",
    "version": 3
   },
   "file_extension": ".py",
   "mimetype": "text/x-python",
   "name": "python",
   "nbconvert_exporter": "python",
   "pygments_lexer": "ipython3",
   "version": "3.11.4"
  },
  "orig_nbformat": 4
 },
 "nbformat": 4,
 "nbformat_minor": 2
}
