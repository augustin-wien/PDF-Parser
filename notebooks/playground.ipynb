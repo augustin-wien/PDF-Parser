{
 "cells": [
  {
   "cell_type": "code",
   "execution_count": 10,
   "metadata": {},
   "outputs": [],
   "source": [
    "# Modules for Wordpress REST API\n",
    "import requests\n",
    "from dotenv import load_dotenv"
   ]
  },
  {
   "cell_type": "code",
   "execution_count": 13,
   "metadata": {},
   "outputs": [],
   "source": [
    "# Load environment variables\n",
    "load_dotenv()\n",
    "global_save_path = os.environ.get(\"SAVE_PATH\")\n",
    "path_to_file = (\n",
    "    global_save_path + \"570_augustin_fertig_kontrolle/570_augustin_fertig_kontrolle.pdf\"\n",
    ")\n",
    "\n",
    "\n",
    "def upload_post(meta_information, readable_text, image_id):\n",
    "    \"\"\"Upload the post via the Wordpress API.\"\"\"\n",
    "    plugin_Utility = PluginUtility\n",
    "    url = plugin_Utility.get_global_url() + \"posts\"\n",
    "\n",
    "    header = generate_auth_header()\n",
    "\n",
    "    post = {\n",
    "        \"title\": meta_information[\"title\"],\n",
    "        \"status\": \"publish\",\n",
    "        \"content\": readable_text,\n",
    "        \"excerpt\": meta_information[\"author\"]\n",
    "        + \" \"\n",
    "        + meta_information[\"photograph\"]\n",
    "        + \" \"\n",
    "        + meta_information[\"protocol\"],\n",
    "        \"post_type\": \"articles\",\n",
    "        \"featured_media\": image_id,\n",
    "    }\n",
    "\n",
    "    response = requests.post(url, headers=header, json=post, timeout=5)\n",
    "\n",
    "    if response.status_code not in (200, 201):\n",
    "        raise HTTPException(\n",
    "            status_code=400,\n",
    "            detail=\"Post could not be uploaded!\"\n",
    "            + str(response.status_code)\n",
    "            + str(response.content),\n",
    "        )\n",
    "\n",
    "    return response"
   ]
  },
  {
   "cell_type": "code",
   "execution_count": null,
   "metadata": {},
   "outputs": [],
   "source": [
    "image_id = upload_image(\"/home/funny/Pictures/leon.jpg\", \"Leon.jpg\")\n",
    "\n",
    "readable_text = f\"\"\"\n",
    "<!-- wp:image \"id\":{image_id},\"sizeSlug\":\"full\",\"linkDestination\":\"none\" -->\n",
    "<figure class=\"wp-block-image size-full\"><img src=\"http://augustin.local/wp-content/uploads/2023/12/github_image_108-2.jpeg\" alt=\"\" class=\"wp-image-73\"/></figure>\n",
    "<!-- /wp:image -->\n",
    "\"\"\"\n",
    "\n",
    "meta_information = {\n",
    "    \"title\": \"Test\",\n",
    "    \"author\": \"Leon\",\n",
    "    \"photograph\": \"Leon\",\n",
    "    \"protocol\": \"Leon\",\n",
    "}\n",
    "\n",
    "upload_post(meta_information, readable_text, image_id)"
   ]
  }
 ],
 "metadata": {
  "kernelspec": {
   "display_name": "base",
   "language": "python",
   "name": "python3"
  },
  "language_info": {
   "codemirror_mode": {
    "name": "ipython",
    "version": 3
   },
   "file_extension": ".py",
   "mimetype": "text/x-python",
   "name": "python",
   "nbconvert_exporter": "python",
   "pygments_lexer": "ipython3",
   "version": "3.11.4"
  },
  "orig_nbformat": 4
 },
 "nbformat": 4,
 "nbformat_minor": 2
}
