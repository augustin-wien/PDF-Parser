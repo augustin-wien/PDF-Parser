{
 "cells": [
  {
   "cell_type": "code",
   "execution_count": 3,
   "metadata": {},
   "outputs": [
    {
     "ename": "ModuleNotFoundError",
     "evalue": "No module named 'utils.requests'; 'utils' is not a package",
     "output_type": "error",
     "traceback": [
      "\u001b[0;31m---------------------------------------------------------------------------\u001b[0m",
      "\u001b[0;31mModuleNotFoundError\u001b[0m                       Traceback (most recent call last)",
      "\u001b[1;32m/home/funny/Documents/Projects/230701-Parsing-Tool/augustin-plugin/utils/playground.ipynb Cell 1\u001b[0m line \u001b[0;36m3\n\u001b[1;32m      <a href='vscode-notebook-cell:/home/funny/Documents/Projects/230701-Parsing-Tool/augustin-plugin/utils/playground.ipynb#W2sZmlsZQ%3D%3D?line=0'>1</a>\u001b[0m \u001b[39m# Modules for Wordpress REST API\u001b[39;00m\n\u001b[1;32m      <a href='vscode-notebook-cell:/home/funny/Documents/Projects/230701-Parsing-Tool/augustin-plugin/utils/playground.ipynb#W2sZmlsZQ%3D%3D?line=1'>2</a>\u001b[0m \u001b[39mimport\u001b[39;00m \u001b[39mrequests\u001b[39;00m\n\u001b[0;32m----> <a href='vscode-notebook-cell:/home/funny/Documents/Projects/230701-Parsing-Tool/augustin-plugin/utils/playground.ipynb#W2sZmlsZQ%3D%3D?line=2'>3</a>\u001b[0m \u001b[39mfrom\u001b[39;00m \u001b[39mutils\u001b[39;00m \u001b[39mimport\u001b[39;00m PluginUtility\n\u001b[1;32m      <a href='vscode-notebook-cell:/home/funny/Documents/Projects/230701-Parsing-Tool/augustin-plugin/utils/playground.ipynb#W2sZmlsZQ%3D%3D?line=3'>4</a>\u001b[0m \u001b[39mfrom\u001b[39;00m \u001b[39mrequests\u001b[39;00m \u001b[39mimport\u001b[39;00m generate_auth_header, upload_image\n\u001b[1;32m      <a href='vscode-notebook-cell:/home/funny/Documents/Projects/230701-Parsing-Tool/augustin-plugin/utils/playground.ipynb#W2sZmlsZQ%3D%3D?line=5'>6</a>\u001b[0m \u001b[39mdef\u001b[39;00m \u001b[39mupload_post\u001b[39m(meta_information, readable_text, image_id):\n",
      "File \u001b[0;32m~/Documents/Projects/230701-Parsing-Tool/augustin-plugin/utils/utils.py:6\u001b[0m\n\u001b[1;32m      4\u001b[0m \u001b[39mimport\u001b[39;00m \u001b[39mfitz\u001b[39;00m\n\u001b[1;32m      5\u001b[0m \u001b[39mfrom\u001b[39;00m \u001b[39mdotenv\u001b[39;00m \u001b[39mimport\u001b[39;00m load_dotenv\n\u001b[0;32m----> 6\u001b[0m \u001b[39mfrom\u001b[39;00m \u001b[39mutils\u001b[39;00m\u001b[39m.\u001b[39;00m\u001b[39mrequests\u001b[39;00m \u001b[39mimport\u001b[39;00m upload_image\n\u001b[1;32m      9\u001b[0m \u001b[39mclass\u001b[39;00m \u001b[39mPluginUtility\u001b[39;00m:\n\u001b[1;32m     10\u001b[0m \u001b[39m    \u001b[39m\u001b[39m\"\"\"Common utility functions for the plugin.\"\"\"\u001b[39;00m\n",
      "\u001b[0;31mModuleNotFoundError\u001b[0m: No module named 'utils.requests'; 'utils' is not a package"
     ]
    }
   ],
   "source": [
    "# Modules for Wordpress REST API\n",
    "import requests\n",
    "from utils import PluginUtility\n",
    "from requests import generate_auth_header, upload_image\n",
    "\n",
    "def upload_post(meta_information, readable_text, image_id):\n",
    "    \"\"\"Upload the post via the Wordpress API.\"\"\"\n",
    "    plugin_Utility = PluginUtility\n",
    "    url = plugin_Utility.get_global_url() + \"posts\"\n",
    "\n",
    "    header = generate_auth_header()\n",
    "\n",
    "    post = {\n",
    "        \"title\": meta_information[\"title\"],\n",
    "        \"status\": \"publish\",\n",
    "        \"content\": readable_text,\n",
    "        \"excerpt\": meta_information[\"author\"]\n",
    "        + \" \"\n",
    "        + meta_information[\"photograph\"]\n",
    "        + \" \"\n",
    "        + meta_information[\"protocol\"],\n",
    "        \"post_type\": \"articles\",\n",
    "        \"featured_media\": image_id,\n",
    "    }\n",
    "\n",
    "    response = requests.post(url, headers=header, json=post, timeout=5)\n",
    "\n",
    "    if response.status_code not in (200, 201):\n",
    "        raise HTTPException(\n",
    "            status_code=400,\n",
    "            detail=\"Post could not be uploaded!\"\n",
    "            + str(response.status_code)\n",
    "            + str(response.content),\n",
    "        )\n",
    "\n",
    "    return response"
   ]
  },
  {
   "cell_type": "code",
   "execution_count": null,
   "metadata": {},
   "outputs": [],
   "source": [
    "image_id = upload_image(\"/home/funny/Pictures/leon.jpg\", \"Leon.jpg\")\n",
    "\n",
    "readable_text = f'''\n",
    "<!-- wp:image \"id\":{image_id},\"sizeSlug\":\"full\",\"linkDestination\":\"none\" -->\n",
    "<figure class=\"wp-block-image size-full\"><img src=\"http://augustin.local/wp-content/uploads/2023/12/github_image_108-2.jpeg\" alt=\"\" class=\"wp-image-73\"/></figure>\n",
    "<!-- /wp:image -->\n",
    "'''\n",
    "\n",
    "meta_information = {'title': 'Test', 'author': 'Leon', 'photograph': 'Leon', 'protocol': 'Leon'}\n",
    "\n",
    "upload_post(meta_information, readable_text, image_id)\n"
   ]
  }
 ],
 "metadata": {
  "kernelspec": {
   "display_name": "base",
   "language": "python",
   "name": "python3"
  },
  "language_info": {
   "codemirror_mode": {
    "name": "ipython",
    "version": 3
   },
   "file_extension": ".py",
   "mimetype": "text/x-python",
   "name": "python",
   "nbconvert_exporter": "python",
   "pygments_lexer": "ipython3",
   "version": "3.11.4"
  },
  "orig_nbformat": 4
 },
 "nbformat": 4,
 "nbformat_minor": 2
}
