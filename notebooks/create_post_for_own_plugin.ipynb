{
 "cells": [
  {
   "cell_type": "code",
   "execution_count": 1,
   "metadata": {},
   "outputs": [],
   "source": [
    "# Modules for Wordpress REST API\n",
    "import sys, os\n",
    "\n",
    "sys.path.append(\"/home/funny/Documents/Projects/230701-Parsing-Tool/augustin-plugin/\")\n",
    "from utils.requests import generate_auth_header, check_for_category\n",
    "import requests\n",
    "from dotenv import load_dotenv\n",
    "from fastapi import HTTPException"
   ]
  },
  {
   "cell_type": "code",
   "execution_count": 24,
   "metadata": {},
   "outputs": [],
   "source": [
    "# Load environment variables\n",
    "load_dotenv()\n",
    "global_save_path = os.environ.get(\"SAVE_PATH\")\n",
    "path_to_file = (\n",
    "    global_save_path + \"570_augustin_fertig_kontrolle/570_augustin_fertig_kontrolle.pdf\"\n",
    ")\n",
    "sample_image_id = os.environ.get(\"SAMPLE_IMAGE_ID\")\n",
    "\n",
    "\n",
    "def upload_post(url):\n",
    "    \"\"\"Upload the post via the Wordpress API.\"\"\"\n",
    "\n",
    "    header = generate_auth_header()\n",
    "\n",
    "    category_number = check_for_category(\"augustinchen\")\n",
    "    print(category_number)\n",
    "\n",
    "    post = {\n",
    "        \"title\": \"Test title\",\n",
    "        \"status\": \"publish\",\n",
    "        \"content\": \"This is a test post.\",\n",
    "        \"category\": [1],\n",
    "        \"category_papers\": 6,\n",
    "    }\n",
    "\n",
    "    response = requests.post(url, headers=header, json=post, timeout=5)\n",
    "\n",
    "    if response.status_code not in (200, 201):\n",
    "        raise HTTPException(\n",
    "            status_code=400,\n",
    "            detail=\"Post could not be uploaded!\"\n",
    "            + str(response.status_code)\n",
    "            + str(response.content),\n",
    "        )\n",
    "\n",
    "    return response"
   ]
  },
  {
   "cell_type": "markdown",
   "metadata": {},
   "source": [
    "## Next Steps\n",
    "1. Create new papers_category such as \"456\"\n",
    "2. Find out how to add missing parameter such as `\"papers_category\":\"456\"` for each articles"
   ]
  },
  {
   "cell_type": "code",
   "execution_count": 25,
   "metadata": {},
   "outputs": [
    {
     "name": "stdout",
     "output_type": "stream",
     "text": [
      "16\n"
     ]
    },
    {
     "data": {
      "text/plain": [
       "<Response [201]>"
      ]
     },
     "execution_count": 25,
     "metadata": {},
     "output_type": "execute_result"
    }
   ],
   "source": [
    "url_for_posts = os.environ.get(\"WORDPRESS_URL\") + \"articles/\"\n",
    "\n",
    "upload_post(url_for_posts)"
   ]
  },
  {
   "cell_type": "code",
   "execution_count": 28,
   "metadata": {},
   "outputs": [
    {
     "name": "stdout",
     "output_type": "stream",
     "text": [
      "201\n"
     ]
    }
   ],
   "source": [
    "# Create new papers category\n",
    "url_for_categories = os.environ.get(\"WORDPRESS_URL\") + \"category_papers/\"\n",
    "\n",
    "category = {\n",
    "    \"name\": \"645\",\n",
    "    \"description\": \"Kategorie für die Augustinchen\",\n",
    "    \"parent\": 6,\n",
    "}\n",
    "\n",
    "header = generate_auth_header()\n",
    "\n",
    "response = requests.post(url_for_categories, headers=header, json=category, timeout=5)\n",
    "\n",
    "print(response.status_code)"
   ]
  },
  {
   "cell_type": "code",
   "execution_count": null,
   "metadata": {},
   "outputs": [],
   "source": []
  }
 ],
 "metadata": {
  "kernelspec": {
   "display_name": "parser",
   "language": "python",
   "name": "python3"
  },
  "language_info": {
   "codemirror_mode": {
    "name": "ipython",
    "version": 3
   },
   "file_extension": ".py",
   "mimetype": "text/x-python",
   "name": "python",
   "nbconvert_exporter": "python",
   "pygments_lexer": "ipython3",
   "version": "3.11.6"
  }
 },
 "nbformat": 4,
 "nbformat_minor": 2
}
