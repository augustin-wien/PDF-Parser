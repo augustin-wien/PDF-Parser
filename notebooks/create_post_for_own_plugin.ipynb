{
 "cells": [
  {
   "cell_type": "code",
   "execution_count": 1,
   "metadata": {},
   "outputs": [],
   "source": [
    "# Modules for Wordpress REST API\n",
    "import sys, os\n",
    "\n",
    "sys.path.append(\"/home/funny/Documents/Projects/Augustin-Parser/augustin-plugin/\")\n",
    "from utils.requests import generate_auth_header, check_for_category\n",
    "import requests\n",
    "from dotenv import load_dotenv\n",
    "from fastapi import HTTPException"
   ]
  },
  {
   "cell_type": "code",
   "execution_count": 2,
   "metadata": {},
   "outputs": [],
   "source": [
    "# Load environment variables\n",
    "load_dotenv()\n",
    "global_save_path = os.environ.get(\"SAVE_PATH\")\n",
    "path_to_file = (\n",
    "    global_save_path + \"570_augustin_fertig_kontrolle/570_augustin_fertig_kontrolle.pdf\"\n",
    ")\n",
    "sample_image_id = os.environ.get(\"SAMPLE_IMAGE_ID\")\n",
    "\n",
    "\n",
    "def upload_post(url):\n",
    "    \"\"\"Upload the post via the Wordpress API.\"\"\"\n",
    "\n",
    "    header = generate_auth_header()\n",
    "\n",
    "    category_number = check_for_category(\"augustinchen\")\n",
    "    print(category_number)\n",
    "\n",
    "    post = {\n",
    "        \"title\": \"Test\",\n",
    "        \"status\": \"publish\",\n",
    "        \"content\": \"This is a test post.\",\n",
    "        \"post_type\": \"articles\",\n",
    "        \"category\": [category_number],\n",
    "    }\n",
    "\n",
    "    response = requests.post(url, headers=header, json=post, timeout=5)\n",
    "\n",
    "    if response.status_code not in (200, 201):\n",
    "        raise HTTPException(\n",
    "            status_code=400,\n",
    "            detail=\"Post could not be uploaded!\"\n",
    "            + str(response.status_code)\n",
    "            + str(response.content),\n",
    "        )\n",
    "\n",
    "    return response"
   ]
  },
  {
   "cell_type": "markdown",
   "metadata": {},
   "source": [
    "## Next Steps\n",
    "1. Create new papers_category such as \"456\"\n",
    "2. Find out how to add missing parameter such as `\"papers_category\":\"456\"` for each articles"
   ]
  },
  {
   "cell_type": "code",
   "execution_count": 4,
   "metadata": {},
   "outputs": [
    {
     "name": "stdout",
     "output_type": "stream",
     "text": [
      "16\n"
     ]
    },
    {
     "data": {
      "text/plain": [
       "<Response [201]>"
      ]
     },
     "execution_count": 4,
     "metadata": {},
     "output_type": "execute_result"
    }
   ],
   "source": [
    "url_for_posts = os.environ.get(\"WORDPRESS_URL\") + \"posts\"\n",
    "\n",
    "upload_post(url_for_posts)"
   ]
  },
  {
   "cell_type": "markdown",
   "metadata": {},
   "source": []
  },
  {
   "cell_type": "code",
   "execution_count": 1,
   "metadata": {},
   "outputs": [
    {
     "name": "stdout",
     "output_type": "stream",
     "text": [
      "<!DOCTYPE html>\n",
      "<html lang=\"en-US\" xml:lang=\"en-US\">\n",
      "<head>\n",
      "\t<meta name=\"viewport\" \n",
      "      content=\"width=device-width\" />\n",
      "\t<meta http-equiv=\"Content-Type\" content=\"text/html; charset=utf-8\" />\n",
      "\t<meta name=\"robots\" content=\"noindex,nofollow\" />\n",
      "\t<title>WordPress &rsaquo; Installation</title>\n",
      "\t<link rel='stylesheet' id='dashicons-css' href='http://localhost:8090/wp-includes/css/dashicons.min.css?ver=6.4.3' type='text/css' media='all' />\n",
      "<link rel='stylesheet' id='buttons-css' href='http://localhost:8090/wp-includes/css/buttons.min.css?ver=6.4.3' type='text/css' media='all' />\n",
      "<link rel='stylesheet' id='forms-css' href='http://localhost:8090/wp-admin/css/forms.min.css?ver=6.4.3' type='text/css' media='all' />\n",
      "<link rel='stylesheet' id='l10n-css' href='http://localhost:8090/wp-admin/css/l10n.min.css?ver=6.4.3' type='text/css' media='all' />\n",
      "<link rel='stylesheet' id='install-css' href='http://localhost:8090/wp-admin/css/install.min.css?ver=6.4.3' type='text/css' media='all' />\n",
      "</head>\n",
      "<body class=\"wp-core-ui language-chooser\">\n",
      "<p id=\"logo\">WordPress</p>\n",
      "\n",
      "\t<form id=\"setup\" method=\"post\" action=\"?step=1\"><label class='screen-reader-text' for='language'>Select a default language</label>\n",
      "<select size='14' name='language' id='language'>\n",
      "<option value=\"\" lang=\"en\" selected=\"selected\" data-continue=\"Continue\" data-installed=\"1\">English (United States)</option>\n",
      "<option value=\"af\" lang=\"af\" data-continue=\"Gaan voort\">Afrikaans</option>\n",
      "<option value=\"am\" lang=\"am\" data-continue=\"áá¥á\">á áá­á</option>\n",
      "<option value=\"arg\" lang=\"an\" data-continue=\"Continar\">AragonÃ©s</option>\n",
      "<option value=\"ar\" lang=\"ar\" data-continue=\"ÙØªØ§Ø¨Ø¹Ø©\">Ø§ÙØ¹Ø±Ø¨ÙØ©</option>\n",
      "<option value=\"ary\" lang=\"ar\" data-continue=\"Ø§ÙÙØªØ§Ø¨Ø¹Ø©\">Ø§ÙØ¹Ø±Ø¨ÙØ© Ø§ÙÙØºØ±Ø¨ÙØ©</option>\n",
      "<option value=\"as\" lang=\"as\" data-continue=\"Continue\">à¦à¦¸à¦®à§à¦¯à¦¼à¦¾</option>\n",
      "<option value=\"azb\" lang=\"az\" data-continue=\"Continue\">Ú¯Ø¤ÙØ¦Û Ø¢Ø°Ø±Ø¨Ø§ÛØ¬Ø§Ù</option>\n",
      "<option value=\"az\" lang=\"az\" data-continue=\"Davam\">AzÉrbaycan dili</option>\n",
      "<option value=\"bel\" lang=\"be\" data-continue=\"ÐÑÐ°ÑÑÐ³Ð½ÑÑÑ\">ÐÐµÐ»Ð°ÑÑÑÐºÐ°Ñ Ð¼Ð¾Ð²Ð°</option>\n",
      "<option value=\"bg_BG\" lang=\"bg\" data-continue=\"ÐÐ°Ð¿ÑÐµÐ´\">ÐÑÐ»Ð³Ð°ÑÑÐºÐ¸</option>\n",
      "<option value=\"bn_BD\" lang=\"bn\" data-continue=\"à¦à¦¾à¦²à¦¿à§à§ à¦¯à¦¾à¦¨\">à¦¬à¦¾à¦à¦²à¦¾</option>\n",
      "<option value=\"bo\" lang=\"bo\" data-continue=\"à½à½´à¼à½à½à½´à½à¼à½à½´à¼\">à½à½¼à½à¼à½¡à½²à½</option>\n",
      "<option value=\"bs_BA\" lang=\"bs\" data-continue=\"Nastavi\">Bosanski</option>\n",
      "<option value=\"ca\" lang=\"ca\" data-continue=\"Continua\">CatalÃ </option>\n",
      "<option value=\"ceb\" lang=\"ceb\" data-continue=\"Padayun\">Cebuano</option>\n",
      "<option value=\"cs_CZ\" lang=\"cs\" data-continue=\"PokraÄovat\">ÄeÅ¡tina</option>\n",
      "<option value=\"cy\" lang=\"cy\" data-continue=\"Parhau\">Cymraeg</option>\n",
      "<option value=\"da_DK\" lang=\"da\" data-continue=\"FortsÃ¦t\">Dansk</option>\n",
      "<option value=\"de_AT\" lang=\"de\" data-continue=\"Weiter\">Deutsch (Ãsterreich)</option>\n",
      "<option value=\"de_CH\" lang=\"de\" data-continue=\"Weiter\">Deutsch (Schweiz)</option>\n",
      "<option value=\"de_CH_informal\" lang=\"de\" data-continue=\"Weiter\">Deutsch (Schweiz, Du)</option>\n",
      "<option value=\"de_DE_formal\" lang=\"de\" data-continue=\"Weiter\">Deutsch (Sie)</option>\n",
      "<option value=\"de_DE\" lang=\"de\" data-continue=\"Weiter\">Deutsch</option>\n",
      "<option value=\"dsb\" lang=\"dsb\" data-continue=\"Dalej\">DolnoserbÅ¡Äina</option>\n",
      "<option value=\"dzo\" lang=\"dz\" data-continue=\"Continue\">à½¢à¾«à½¼à½à¼à½</option>\n",
      "<option value=\"el\" lang=\"el\" data-continue=\"Î£ÏÎ½Î­ÏÎµÎ¹Î±\">ÎÎ»Î»Î·Î½Î¹ÎºÎ¬</option>\n",
      "<option value=\"en_CA\" lang=\"en\" data-continue=\"Continue\">English (Canada)</option>\n",
      "<option value=\"en_NZ\" lang=\"en\" data-continue=\"Continue\">English (New Zealand)</option>\n",
      "<option value=\"en_GB\" lang=\"en\" data-continue=\"Continue\">English (UK)</option>\n",
      "<option value=\"en_AU\" lang=\"en\" data-continue=\"Continue\">English (Australia)</option>\n",
      "<option value=\"en_ZA\" lang=\"en\" data-continue=\"Continue\">English (South Africa)</option>\n",
      "<option value=\"eo\" lang=\"eo\" data-continue=\"DaÅ­rigi\">Esperanto</option>\n",
      "<option value=\"es_ES\" lang=\"es\" data-continue=\"Continuar\">EspaÃ±ol</option>\n",
      "<option value=\"es_AR\" lang=\"es\" data-continue=\"Continuar\">EspaÃ±ol de Argentina</option>\n",
      "<option value=\"es_CR\" lang=\"es\" data-continue=\"Continuar\">EspaÃ±ol de Costa Rica</option>\n",
      "<option value=\"es_VE\" lang=\"es\" data-continue=\"Continuar\">EspaÃ±ol de Venezuela</option>\n",
      "<option value=\"es_EC\" lang=\"es\" data-continue=\"Continuar\">EspaÃ±ol de Ecuador</option>\n",
      "<option value=\"es_DO\" lang=\"es\" data-continue=\"Continuar\">EspaÃ±ol de RepÃºblica Dominicana</option>\n",
      "<option value=\"es_PE\" lang=\"es\" data-continue=\"Continuar\">EspaÃ±ol de PerÃº</option>\n",
      "<option value=\"es_UY\" lang=\"es\" data-continue=\"Continuar\">EspaÃ±ol de Uruguay</option>\n",
      "<option value=\"es_CL\" lang=\"es\" data-continue=\"Continuar\">EspaÃ±ol de Chile</option>\n",
      "<option value=\"es_PR\" lang=\"es\" data-continue=\"Continuar\">EspaÃ±ol de Puerto Rico</option>\n",
      "<option value=\"es_GT\" lang=\"es\" data-continue=\"Continuar\">EspaÃ±ol de Guatemala</option>\n",
      "<option value=\"es_CO\" lang=\"es\" data-continue=\"Continuar\">EspaÃ±ol de Colombia</option>\n",
      "<option value=\"es_MX\" lang=\"es\" data-continue=\"Continuar\">EspaÃ±ol de MÃ©xico</option>\n",
      "<option value=\"et\" lang=\"et\" data-continue=\"JÃ¤tka\">Eesti</option>\n",
      "<option value=\"eu\" lang=\"eu\" data-continue=\"Jarraitu\">Euskara</option>\n",
      "<option value=\"fa_IR\" lang=\"fa\" data-continue=\"Ø§Ø¯Ø§ÙÙ\">ÙØ§Ø±Ø³Û</option>\n",
      "<option value=\"fa_AF\" lang=\"fa\" data-continue=\"Ø§Ø¯Ø§ÙÙ\">(ÙØ§Ø±Ø³Û (Ø§ÙØºØ§ÙØ³ØªØ§Ù</option>\n",
      "<option value=\"fi\" lang=\"fi\" data-continue=\"Jatka\">Suomi</option>\n",
      "<option value=\"fr_BE\" lang=\"fr\" data-continue=\"Continuer\">FranÃ§ais de Belgique</option>\n",
      "<option value=\"fr_CA\" lang=\"fr\" data-continue=\"Continuer\">FranÃ§ais du Canada</option>\n",
      "<option value=\"fr_FR\" lang=\"fr\" data-continue=\"Continuer\">FranÃ§ais</option>\n",
      "<option value=\"fur\" lang=\"fur\" data-continue=\"Continue\">Friulian</option>\n",
      "<option value=\"fy\" lang=\"fy\" data-continue=\"Trochgean\">Frysk</option>\n",
      "<option value=\"gd\" lang=\"gd\" data-continue=\"Lean air adhart\">GÃ idhlig</option>\n",
      "<option value=\"gl_ES\" lang=\"gl\" data-continue=\"Continuar\">Galego</option>\n",
      "<option value=\"gu\" lang=\"gu\" data-continue=\"àªàª¾àª²à« àª°àª¾àªà«\">àªà«àªàª°àª¾àª¤à«</option>\n",
      "<option value=\"haz\" lang=\"haz\" data-continue=\"Ø§Ø¯Ø§ÙÙ\">ÙØ²Ø§Ø±Ù Ú¯Û</option>\n",
      "<option value=\"he_IL\" lang=\"he\" data-continue=\"×××©×\">×¢Ö´×Ö°×¨Ö´××ª</option>\n",
      "<option value=\"hi_IN\" lang=\"hi\" data-continue=\"à¤à¤¾à¤°à¥ à¤°à¤à¥à¤\">à¤¹à¤¿à¤¨à¥à¤¦à¥</option>\n",
      "<option value=\"hr\" lang=\"hr\" data-continue=\"Nastavi\">Hrvatski</option>\n",
      "<option value=\"hsb\" lang=\"hsb\" data-continue=\"Dale\">HornjoserbÅ¡Äina</option>\n",
      "<option value=\"hu_HU\" lang=\"hu\" data-continue=\"FolytatÃ¡s\">Magyar</option>\n",
      "<option value=\"hy\" lang=\"hy\" data-continue=\"ÕÕ¡ÖÕ¸ÖÕ¶Õ¡Õ¯Õ¥Õ¬\">ÕÕ¡ÕµÕ¥ÖÕ¥Õ¶</option>\n",
      "<option value=\"id_ID\" lang=\"id\" data-continue=\"Lanjutkan\">Bahasa Indonesia</option>\n",
      "<option value=\"is_IS\" lang=\"is\" data-continue=\"Ãfram\">Ãslenska</option>\n",
      "<option value=\"it_IT\" lang=\"it\" data-continue=\"Continua\">Italiano</option>\n",
      "<option value=\"ja\" lang=\"ja\" data-continue=\"æ¬¡ã¸\">æ¥æ¬èª</option>\n",
      "<option value=\"jv_ID\" lang=\"jv\" data-continue=\"NerusakÃ©\">Basa Jawa</option>\n",
      "<option value=\"ka_GE\" lang=\"ka\" data-continue=\"áááá á«ááááá\">á¥áá áá£áá</option>\n",
      "<option value=\"kab\" lang=\"kab\" data-continue=\"Kemmel\">Taqbaylit</option>\n",
      "<option value=\"kk\" lang=\"kk\" data-continue=\"ÐÐ°Ð»ÒÐ°ÑÑÑÑÑ\">ÒÐ°Ð·Ð°Ò ÑÑÐ»Ñ</option>\n",
      "<option value=\"km\" lang=\"km\" data-continue=\"áááá\">áá¶áá¶ááááá</option>\n",
      "<option value=\"kn\" lang=\"kn\" data-continue=\"à²®à³à²à²¦à³à²µà²°à²¿à²¸à³\">à²à²¨à³à²¨à²¡</option>\n",
      "<option value=\"ko_KR\" lang=\"ko\" data-continue=\"ê³ì\">íêµ­ì´</option>\n",
      "<option value=\"ckb\" lang=\"ku\" data-continue=\"Ø¨ÙâØ±Ø¯ÙâÙØ§Ù Ø¨Ùâ\">ÙÙØ±Ø¯Ûâ</option>\n",
      "<option value=\"kir\" lang=\"ky\" data-continue=\"Ð£Ð»Ð°Ð½ÑÑÑ\">ÐÑÑÐ³ÑÐ·ÑÐ°</option>\n",
      "<option value=\"lo\" lang=\"lo\" data-continue=\"àºà»à»âà»àº\">àºàº²àºªàº²àº¥àº²àº§</option>\n",
      "<option value=\"lt_LT\" lang=\"lt\" data-continue=\"TÄsti\">LietuviÅ³ kalba</option>\n",
      "<option value=\"lv\" lang=\"lv\" data-continue=\"TurpinÄt\">LatvieÅ¡u valoda</option>\n",
      "<option value=\"mk_MK\" lang=\"mk\" data-continue=\"ÐÑÐ¾Ð´Ð¾Ð»Ð¶Ð¸\">ÐÐ°ÐºÐµÐ´Ð¾Ð½ÑÐºÐ¸ ÑÐ°Ð·Ð¸Ðº</option>\n",
      "<option value=\"ml_IN\" lang=\"ml\" data-continue=\"à´¤àµà´à´°àµà´\">à´®à´²à´¯à´¾à´³à´</option>\n",
      "<option value=\"mn\" lang=\"mn\" data-continue=\"Continue\">ÐÐ¾Ð½Ð³Ð¾Ð»</option>\n",
      "<option value=\"mr\" lang=\"mr\" data-continue=\"à¤¸à¥à¤°à¥ à¤ à¥à¤µà¤¾\">à¤®à¤°à¤¾à¤ à¥</option>\n",
      "<option value=\"ms_MY\" lang=\"ms\" data-continue=\"Teruskan\">Bahasa Melayu</option>\n",
      "<option value=\"my_MM\" lang=\"my\" data-continue=\"áááºáááºáá¯ááºáá±á¬ááºáá«á\">ááá¬áá¬</option>\n",
      "<option value=\"nb_NO\" lang=\"nb\" data-continue=\"Fortsett\">Norsk bokmÃ¥l</option>\n",
      "<option value=\"ne_NP\" lang=\"ne\" data-continue=\"à¤à¤¾à¤°à¥ à¤°à¤¾à¤à¥à¤¨à¥à¤¹à¥à¤¸à¥\">à¤¨à¥à¤ªà¤¾à¤²à¥</option>\n",
      "<option value=\"nl_BE\" lang=\"nl\" data-continue=\"Doorgaan\">Nederlands (BelgiÃ«)</option>\n",
      "<option value=\"nl_NL\" lang=\"nl\" data-continue=\"Doorgaan\">Nederlands</option>\n",
      "<option value=\"nl_NL_formal\" lang=\"nl\" data-continue=\"Doorgaan\">Nederlands (Formeel)</option>\n",
      "<option value=\"nn_NO\" lang=\"nn\" data-continue=\"Hald fram\">Norsk nynorsk</option>\n",
      "<option value=\"oci\" lang=\"oc\" data-continue=\"Contunhar\">Occitan</option>\n",
      "<option value=\"pa_IN\" lang=\"pa\" data-continue=\"à¨à¨¾à¨°à© à¨°à©±à¨à©\">à¨ªà©°à¨à¨¾à¨¬à©</option>\n",
      "<option value=\"pl_PL\" lang=\"pl\" data-continue=\"Kontynuuj\">Polski</option>\n",
      "<option value=\"ps\" lang=\"ps\" data-continue=\"Ø¯ÙØ§Ù ÙØ±Ú©ÚÙ\">Ù¾ÚØªÙ</option>\n",
      "<option value=\"pt_BR\" lang=\"pt\" data-continue=\"Continuar\">PortuguÃªs do Brasil</option>\n",
      "<option value=\"pt_AO\" lang=\"pt\" data-continue=\"Continuar\">PortuguÃªs de Angola</option>\n",
      "<option value=\"pt_PT\" lang=\"pt\" data-continue=\"Continuar\">PortuguÃªs</option>\n",
      "<option value=\"pt_PT_ao90\" lang=\"pt\" data-continue=\"Continuar\">PortuguÃªs (AO90)</option>\n",
      "<option value=\"rhg\" lang=\"rhg\" data-continue=\"Continue\">RuÃ¡inga</option>\n",
      "<option value=\"ro_RO\" lang=\"ro\" data-continue=\"ContinuÄ\">RomÃ¢nÄ</option>\n",
      "<option value=\"ru_RU\" lang=\"ru\" data-continue=\"ÐÑÐ¾Ð´Ð¾Ð»Ð¶Ð¸ÑÑ\">Ð ÑÑÑÐºÐ¸Ð¹</option>\n",
      "<option value=\"sah\" lang=\"sah\" data-continue=\"Ð¡Ð°Ð»ÒÐ°Ð°\">Ð¡Ð°ÑÐ°Ð»ÑÑ</option>\n",
      "<option value=\"snd\" lang=\"sd\" data-continue=\"Ø§Ú³ØªÙ ÙÙÙ\">Ø³ÙÚÙ</option>\n",
      "<option value=\"si_LK\" lang=\"si\" data-continue=\"à¶¯à·à¶à¶§à¶¸ à¶à¶»à¶à·à¶± à¶ºà¶±à·à¶±\">à·à·à¶à·à¶½</option>\n",
      "<option value=\"sk_SK\" lang=\"sk\" data-continue=\"PokraÄovaÅ¥\">SlovenÄina</option>\n",
      "<option value=\"skr\" lang=\"skr\" data-continue=\"Ø¬Ø§Ø±Û Ø±Ú©Ú¾Ù\">Ø³Ø±Ø§Ø¦ÛÚ©Û</option>\n",
      "<option value=\"sl_SI\" lang=\"sl\" data-continue=\"Nadaljuj\">SlovenÅ¡Äina</option>\n",
      "<option value=\"sq\" lang=\"sq\" data-continue=\"Vazhdo\">Shqip</option>\n",
      "<option value=\"sr_RS\" lang=\"sr\" data-continue=\"ÐÐ°ÑÑÐ°Ð²Ð¸\">Ð¡ÑÐ¿ÑÐºÐ¸ ÑÐµÐ·Ð¸Ðº</option>\n",
      "<option value=\"sv_SE\" lang=\"sv\" data-continue=\"FortsÃ¤tt\">Svenska</option>\n",
      "<option value=\"sw\" lang=\"sw\" data-continue=\"Endelea\">Kiswahili</option>\n",
      "<option value=\"szl\" lang=\"szl\" data-continue=\"KÅntynuowaÄ\">ÅlÅnskÅ gÅdka</option>\n",
      "<option value=\"ta_IN\" lang=\"ta\" data-continue=\"à®¤à¯à®à®°à®µà¯à®®à¯\">à®¤à®®à®¿à®´à¯</option>\n",
      "<option value=\"ta_LK\" lang=\"ta\" data-continue=\"à®¤à¯à®à®°à¯à®\">à®¤à®®à®¿à®´à¯</option>\n",
      "<option value=\"te\" lang=\"te\" data-continue=\"à°à±à°¨à°¸à°¾à°à°¿à°à°à±\">à°¤à±à°²à±à°à±</option>\n",
      "<option value=\"th\" lang=\"th\" data-continue=\"à¸à¹à¸­à¹à¸\">à¹à¸à¸¢</option>\n",
      "<option value=\"tl\" lang=\"tl\" data-continue=\"Magpatuloy\">Tagalog</option>\n",
      "<option value=\"tr_TR\" lang=\"tr\" data-continue=\"Devam\">TÃ¼rkÃ§e</option>\n",
      "<option value=\"tt_RU\" lang=\"tt\" data-continue=\"Ð´ÓÐ²Ð°Ð¼ Ð¸ÑÒ¯\">Ð¢Ð°ÑÐ°Ñ ÑÐµÐ»Ðµ</option>\n",
      "<option value=\"tah\" lang=\"ty\" data-continue=\"Continue\">Reo Tahiti</option>\n",
      "<option value=\"ug_CN\" lang=\"ug\" data-continue=\"Ø¯Ø§ÛØ§ÙÙØ§Ø´ØªÛØ±ÛØ´\">Ø¦ÛÙØºÛØ±ÚÛ</option>\n",
      "<option value=\"uk\" lang=\"uk\" data-continue=\"ÐÑÐ¾Ð´Ð¾Ð²Ð¶Ð¸ÑÐ¸\">Ð£ÐºÑÐ°ÑÐ½ÑÑÐºÐ°</option>\n",
      "<option value=\"ur\" lang=\"ur\" data-continue=\"Ø¬Ø§Ø±Û Ø±Ú©Ú¾ÛÚº\">Ø§Ø±Ø¯Ù</option>\n",
      "<option value=\"uz_UZ\" lang=\"uz\" data-continue=\"Davom etish\">Oâzbekcha</option>\n",
      "<option value=\"vi\" lang=\"vi\" data-continue=\"Tiáº¿p tá»¥c\">Tiáº¿ng Viá»t</option>\n",
      "<option value=\"zh_CN\" lang=\"zh\" data-continue=\"ç»§ç»­\">ç®ä½ä¸­æ</option>\n",
      "<option value=\"zh_HK\" lang=\"zh\" data-continue=\"ç¹¼çº\">é¦æ¸¯ä¸­æ</option>\n",
      "<option value=\"zh_TW\" lang=\"zh\" data-continue=\"ç¹¼çº\">ç¹é«ä¸­æ</option>\n",
      "</select>\n",
      "<p class=\"step\"><span class=\"spinner\"></span><input id=\"language-continue\" type=\"submit\" class=\"button button-primary button-large\" value=\"Continue\" /></p></form><script type=\"text/javascript\">var t = document.getElementById('weblog_title'); if (t){ t.focus(); }</script>\n",
      "\t<script type=\"text/javascript\" src=\"http://localhost:8090/wp-includes/js/jquery/jquery.min.js?ver=3.7.1\" id=\"jquery-core-js\"></script>\n",
      "<script type=\"text/javascript\" src=\"http://localhost:8090/wp-includes/js/jquery/jquery-migrate.min.js?ver=3.4.1\" id=\"jquery-migrate-js\"></script>\n",
      "<script type=\"text/javascript\" src=\"http://localhost:8090/wp-admin/js/language-chooser.min.js?ver=6.4.3\" id=\"language-chooser-js\"></script>\n",
      "<script type=\"text/javascript\">\n",
      "jQuery( function( $ ) {\n",
      "\t$( '.hide-if-no-js' ).removeClass( 'hide-if-no-js' );\n",
      "} );\n",
      "</script>\n",
      "</body>\n",
      "</html>\n",
      "\n"
     ]
    }
   ],
   "source": [
    "print(\n",
    "    \"\"\"<!DOCTYPE html>\\n<html lang=\"en-US\" xml:lang=\"en-US\">\\n<head>\\n\\t<meta name=\"viewport\"\n",
    "      content=\"width=device-width\" />\\n\\t<meta http-equiv=\"Content-Type\" content=\"text/html; charset=utf-8\" />\\n\\t<meta name=\"robots\" content=\"noindex,nofollow\" />\\n\\t<title>WordPress &rsaquo; Installation</title>\\n\\t<link rel=\\'stylesheet\\' id=\\'dashicons-css\\' href=\\'http://localhost:8090/wp-includes/css/dashicons.min.css?ver=6.4.3\\' type=\\'text/css\\' media=\\'all\\' />\\n<link rel=\\'stylesheet\\' id=\\'buttons-css\\' href=\\'http://localhost:8090/wp-includes/css/buttons.min.css?ver=6.4.3\\' type=\\'text/css\\' media=\\'all\\' />\\n<link rel=\\'stylesheet\\' id=\\'forms-css\\' href=\\'http://localhost:8090/wp-admin/css/forms.min.css?ver=6.4.3\\' type=\\'text/css\\' media=\\'all\\' />\\n<link rel=\\'stylesheet\\' id=\\'l10n-css\\' href=\\'http://localhost:8090/wp-admin/css/l10n.min.css?ver=6.4.3\\' type=\\'text/css\\' media=\\'all\\' />\\n<link rel=\\'stylesheet\\' id=\\'install-css\\' href=\\'http://localhost:8090/wp-admin/css/install.min.css?ver=6.4.3\\' type=\\'text/css\\' media=\\'all\\' />\\n</head>\\n<body class=\"wp-core-ui language-chooser\">\\n<p id=\"logo\">WordPress</p>\\n\\n\\t<form id=\"setup\" method=\"post\" action=\"?step=1\"><label class=\\'screen-reader-text\\' for=\\'language\\'>Select a default language</label>\\n<select size=\\'14\\' name=\\'language\\' id=\\'language\\'>\\n<option value=\"\" lang=\"en\" selected=\"selected\" data-continue=\"Continue\" data-installed=\"1\">English (United States)</option>\\n<option value=\"af\" lang=\"af\" data-continue=\"Gaan voort\">Afrikaans</option>\\n<option value=\"am\" lang=\"am\" data-continue=\"\\xe1\\x89\\x80\\xe1\\x8c\\xa5\\xe1\\x88\\x8d\">\\xe1\\x8a\\xa0\\xe1\\x88\\x9b\\xe1\\x88\\xad\\xe1\\x8a\\x9b</option>\\n<option value=\"arg\" lang=\"an\" data-continue=\"Continar\">Aragon\\xc3\\xa9s</option>\\n<option value=\"ar\" lang=\"ar\" data-continue=\"\\xd9\\x85\\xd8\\xaa\\xd8\\xa7\\xd8\\xa8\\xd8\\xb9\\xd8\\xa9\">\\xd8\\xa7\\xd9\\x84\\xd8\\xb9\\xd8\\xb1\\xd8\\xa8\\xd9\\x8a\\xd8\\xa9</option>\\n<option value=\"ary\" lang=\"ar\" data-continue=\"\\xd8\\xa7\\xd9\\x84\\xd9\\x85\\xd8\\xaa\\xd8\\xa7\\xd8\\xa8\\xd8\\xb9\\xd8\\xa9\">\\xd8\\xa7\\xd9\\x84\\xd8\\xb9\\xd8\\xb1\\xd8\\xa8\\xd9\\x8a\\xd8\\xa9 \\xd8\\xa7\\xd9\\x84\\xd9\\x85\\xd8\\xba\\xd8\\xb1\\xd8\\xa8\\xd9\\x8a\\xd8\\xa9</option>\\n<option value=\"as\" lang=\"as\" data-continue=\"Continue\">\\xe0\\xa6\\x85\\xe0\\xa6\\xb8\\xe0\\xa6\\xae\\xe0\\xa7\\x80\\xe0\\xa6\\xaf\\xe0\\xa6\\xbc\\xe0\\xa6\\xbe</option>\\n<option value=\"azb\" lang=\"az\" data-continue=\"Continue\">\\xda\\xaf\\xd8\\xa4\\xd9\\x86\\xd8\\xa6\\xdb\\x8c \\xd8\\xa2\\xd8\\xb0\\xd8\\xb1\\xd8\\xa8\\xd8\\xa7\\xdb\\x8c\\xd8\\xac\\xd8\\xa7\\xd9\\x86</option>\\n<option value=\"az\" lang=\"az\" data-continue=\"Davam\">Az\\xc9\\x99rbaycan dili</option>\\n<option value=\"bel\" lang=\"be\" data-continue=\"\\xd0\\x9f\\xd1\\x80\\xd0\\xb0\\xd1\\x86\\xd1\\x8f\\xd0\\xb3\\xd0\\xbd\\xd1\\x83\\xd1\\x86\\xd1\\x8c\">\\xd0\\x91\\xd0\\xb5\\xd0\\xbb\\xd0\\xb0\\xd1\\x80\\xd1\\x83\\xd1\\x81\\xd0\\xba\\xd0\\xb0\\xd1\\x8f \\xd0\\xbc\\xd0\\xbe\\xd0\\xb2\\xd0\\xb0</option>\\n<option value=\"bg_BG\" lang=\"bg\" data-continue=\"\\xd0\\x9d\\xd0\\xb0\\xd0\\xbf\\xd1\\x80\\xd0\\xb5\\xd0\\xb4\">\\xd0\\x91\\xd1\\x8a\\xd0\\xbb\\xd0\\xb3\\xd0\\xb0\\xd1\\x80\\xd1\\x81\\xd0\\xba\\xd0\\xb8</option>\\n<option value=\"bn_BD\" lang=\"bn\" data-continue=\"\\xe0\\xa6\\x9a\\xe0\\xa6\\xbe\\xe0\\xa6\\xb2\\xe0\\xa6\\xbf\\xe0\\xa7\\x9f\\xe0\\xa7\\x87 \\xe0\\xa6\\xaf\\xe0\\xa6\\xbe\\xe0\\xa6\\xa8\">\\xe0\\xa6\\xac\\xe0\\xa6\\xbe\\xe0\\xa6\\x82\\xe0\\xa6\\xb2\\xe0\\xa6\\xbe</option>\\n<option value=\"bo\" lang=\"bo\" data-continue=\"\\xe0\\xbd\\x98\\xe0\\xbd\\xb4\\xe0\\xbc\\x8b\\xe0\\xbd\\x98\\xe0\\xbd\\x90\\xe0\\xbd\\xb4\\xe0\\xbd\\x91\\xe0\\xbc\\x8b\\xe0\\xbd\\x91\\xe0\\xbd\\xb4\\xe0\\xbc\\x8d\">\\xe0\\xbd\\x96\\xe0\\xbd\\xbc\\xe0\\xbd\\x91\\xe0\\xbc\\x8b\\xe0\\xbd\\xa1\\xe0\\xbd\\xb2\\xe0\\xbd\\x82</option>\\n<option value=\"bs_BA\" lang=\"bs\" data-continue=\"Nastavi\">Bosanski</option>\\n<option value=\"ca\" lang=\"ca\" data-continue=\"Continua\">Catal\\xc3\\xa0</option>\\n<option value=\"ceb\" lang=\"ceb\" data-continue=\"Padayun\">Cebuano</option>\\n<option value=\"cs_CZ\" lang=\"cs\" data-continue=\"Pokra\\xc4\\x8dovat\">\\xc4\\x8ce\\xc5\\xa1tina</option>\\n<option value=\"cy\" lang=\"cy\" data-continue=\"Parhau\">Cymraeg</option>\\n<option value=\"da_DK\" lang=\"da\" data-continue=\"Forts\\xc3\\xa6t\">Dansk</option>\\n<option value=\"de_AT\" lang=\"de\" data-continue=\"Weiter\">Deutsch (\\xc3\\x96sterreich)</option>\\n<option value=\"de_CH\" lang=\"de\" data-continue=\"Weiter\">Deutsch (Schweiz)</option>\\n<option value=\"de_CH_informal\" lang=\"de\" data-continue=\"Weiter\">Deutsch (Schweiz, Du)</option>\\n<option value=\"de_DE_formal\" lang=\"de\" data-continue=\"Weiter\">Deutsch (Sie)</option>\\n<option value=\"de_DE\" lang=\"de\" data-continue=\"Weiter\">Deutsch</option>\\n<option value=\"dsb\" lang=\"dsb\" data-continue=\"Dalej\">Dolnoserb\\xc5\\xa1\\xc4\\x87ina</option>\\n<option value=\"dzo\" lang=\"dz\" data-continue=\"Continue\">\\xe0\\xbd\\xa2\\xe0\\xbe\\xab\\xe0\\xbd\\xbc\\xe0\\xbd\\x84\\xe0\\xbc\\x8b\\xe0\\xbd\\x81</option>\\n<option value=\"el\" lang=\"el\" data-continue=\"\\xce\\xa3\\xcf\\x85\\xce\\xbd\\xce\\xad\\xcf\\x87\\xce\\xb5\\xce\\xb9\\xce\\xb1\">\\xce\\x95\\xce\\xbb\\xce\\xbb\\xce\\xb7\\xce\\xbd\\xce\\xb9\\xce\\xba\\xce\\xac</option>\\n<option value=\"en_CA\" lang=\"en\" data-continue=\"Continue\">English (Canada)</option>\\n<option value=\"en_NZ\" lang=\"en\" data-continue=\"Continue\">English (New Zealand)</option>\\n<option value=\"en_GB\" lang=\"en\" data-continue=\"Continue\">English (UK)</option>\\n<option value=\"en_AU\" lang=\"en\" data-continue=\"Continue\">English (Australia)</option>\\n<option value=\"en_ZA\" lang=\"en\" data-continue=\"Continue\">English (South Africa)</option>\\n<option value=\"eo\" lang=\"eo\" data-continue=\"Da\\xc5\\xadrigi\">Esperanto</option>\\n<option value=\"es_ES\" lang=\"es\" data-continue=\"Continuar\">Espa\\xc3\\xb1ol</option>\\n<option value=\"es_AR\" lang=\"es\" data-continue=\"Continuar\">Espa\\xc3\\xb1ol de Argentina</option>\\n<option value=\"es_CR\" lang=\"es\" data-continue=\"Continuar\">Espa\\xc3\\xb1ol de Costa Rica</option>\\n<option value=\"es_VE\" lang=\"es\" data-continue=\"Continuar\">Espa\\xc3\\xb1ol de Venezuela</option>\\n<option value=\"es_EC\" lang=\"es\" data-continue=\"Continuar\">Espa\\xc3\\xb1ol de Ecuador</option>\\n<option value=\"es_DO\" lang=\"es\" data-continue=\"Continuar\">Espa\\xc3\\xb1ol de Rep\\xc3\\xbablica Dominicana</option>\\n<option value=\"es_PE\" lang=\"es\" data-continue=\"Continuar\">Espa\\xc3\\xb1ol de Per\\xc3\\xba</option>\\n<option value=\"es_UY\" lang=\"es\" data-continue=\"Continuar\">Espa\\xc3\\xb1ol de Uruguay</option>\\n<option value=\"es_CL\" lang=\"es\" data-continue=\"Continuar\">Espa\\xc3\\xb1ol de Chile</option>\\n<option value=\"es_PR\" lang=\"es\" data-continue=\"Continuar\">Espa\\xc3\\xb1ol de Puerto Rico</option>\\n<option value=\"es_GT\" lang=\"es\" data-continue=\"Continuar\">Espa\\xc3\\xb1ol de Guatemala</option>\\n<option value=\"es_CO\" lang=\"es\" data-continue=\"Continuar\">Espa\\xc3\\xb1ol de Colombia</option>\\n<option value=\"es_MX\" lang=\"es\" data-continue=\"Continuar\">Espa\\xc3\\xb1ol de M\\xc3\\xa9xico</option>\\n<option value=\"et\" lang=\"et\" data-continue=\"J\\xc3\\xa4tka\">Eesti</option>\\n<option value=\"eu\" lang=\"eu\" data-continue=\"Jarraitu\">Euskara</option>\\n<option value=\"fa_IR\" lang=\"fa\" data-continue=\"\\xd8\\xa7\\xd8\\xaf\\xd8\\xa7\\xd9\\x85\\xd9\\x87\">\\xd9\\x81\\xd8\\xa7\\xd8\\xb1\\xd8\\xb3\\xdb\\x8c</option>\\n<option value=\"fa_AF\" lang=\"fa\" data-continue=\"\\xd8\\xa7\\xd8\\xaf\\xd8\\xa7\\xd9\\x85\\xd9\\x87\">(\\xd9\\x81\\xd8\\xa7\\xd8\\xb1\\xd8\\xb3\\xdb\\x8c (\\xd8\\xa7\\xd9\\x81\\xd8\\xba\\xd8\\xa7\\xd9\\x86\\xd8\\xb3\\xd8\\xaa\\xd8\\xa7\\xd9\\x86</option>\\n<option value=\"fi\" lang=\"fi\" data-continue=\"Jatka\">Suomi</option>\\n<option value=\"fr_BE\" lang=\"fr\" data-continue=\"Continuer\">Fran\\xc3\\xa7ais de Belgique</option>\\n<option value=\"fr_CA\" lang=\"fr\" data-continue=\"Continuer\">Fran\\xc3\\xa7ais du Canada</option>\\n<option value=\"fr_FR\" lang=\"fr\" data-continue=\"Continuer\">Fran\\xc3\\xa7ais</option>\\n<option value=\"fur\" lang=\"fur\" data-continue=\"Continue\">Friulian</option>\\n<option value=\"fy\" lang=\"fy\" data-continue=\"Trochgean\">Frysk</option>\\n<option value=\"gd\" lang=\"gd\" data-continue=\"Lean air adhart\">G\\xc3\\xa0idhlig</option>\\n<option value=\"gl_ES\" lang=\"gl\" data-continue=\"Continuar\">Galego</option>\\n<option value=\"gu\" lang=\"gu\" data-continue=\"\\xe0\\xaa\\x9a\\xe0\\xaa\\xbe\\xe0\\xaa\\xb2\\xe0\\xab\\x81 \\xe0\\xaa\\xb0\\xe0\\xaa\\xbe\\xe0\\xaa\\x96\\xe0\\xab\\x8b\">\\xe0\\xaa\\x97\\xe0\\xab\\x81\\xe0\\xaa\\x9c\\xe0\\xaa\\xb0\\xe0\\xaa\\xbe\\xe0\\xaa\\xa4\\xe0\\xab\\x80</option>\\n<option value=\"haz\" lang=\"haz\" data-continue=\"\\xd8\\xa7\\xd8\\xaf\\xd8\\xa7\\xd9\\x85\\xd9\\x87\">\\xd9\\x87\\xd8\\xb2\\xd8\\xa7\\xd8\\xb1\\xd9\\x87 \\xda\\xaf\\xdb\\x8c</option>\\n<option value=\"he_IL\" lang=\"he\" data-continue=\"\\xd7\\x94\\xd7\\x9e\\xd7\\xa9\\xd7\\x9a\">\\xd7\\xa2\\xd6\\xb4\\xd7\\x91\\xd6\\xb0\\xd7\\xa8\\xd6\\xb4\\xd7\\x99\\xd7\\xaa</option>\\n<option value=\"hi_IN\" lang=\"hi\" data-continue=\"\\xe0\\xa4\\x9c\\xe0\\xa4\\xbe\\xe0\\xa4\\xb0\\xe0\\xa5\\x80 \\xe0\\xa4\\xb0\\xe0\\xa4\\x96\\xe0\\xa5\\x87\\xe0\\xa4\\x82\">\\xe0\\xa4\\xb9\\xe0\\xa4\\xbf\\xe0\\xa4\\xa8\\xe0\\xa5\\x8d\\xe0\\xa4\\xa6\\xe0\\xa5\\x80</option>\\n<option value=\"hr\" lang=\"hr\" data-continue=\"Nastavi\">Hrvatski</option>\\n<option value=\"hsb\" lang=\"hsb\" data-continue=\"Dale\">Hornjoserb\\xc5\\xa1\\xc4\\x87ina</option>\\n<option value=\"hu_HU\" lang=\"hu\" data-continue=\"Folytat\\xc3\\xa1s\">Magyar</option>\\n<option value=\"hy\" lang=\"hy\" data-continue=\"\\xd5\\x87\\xd5\\xa1\\xd6\\x80\\xd5\\xb8\\xd6\\x82\\xd5\\xb6\\xd5\\xa1\\xd5\\xaf\\xd5\\xa5\\xd5\\xac\">\\xd5\\x80\\xd5\\xa1\\xd5\\xb5\\xd5\\xa5\\xd6\\x80\\xd5\\xa5\\xd5\\xb6</option>\\n<option value=\"id_ID\" lang=\"id\" data-continue=\"Lanjutkan\">Bahasa Indonesia</option>\\n<option value=\"is_IS\" lang=\"is\" data-continue=\"\\xc3\\x81fram\">\\xc3\\x8dslenska</option>\\n<option value=\"it_IT\" lang=\"it\" data-continue=\"Continua\">Italiano</option>\\n<option value=\"ja\" lang=\"ja\" data-continue=\"\\xe6\\xac\\xa1\\xe3\\x81\\xb8\">\\xe6\\x97\\xa5\\xe6\\x9c\\xac\\xe8\\xaa\\x9e</option>\\n<option value=\"jv_ID\" lang=\"jv\" data-continue=\"Nerusak\\xc3\\xa9\">Basa Jawa</option>\\n<option value=\"ka_GE\" lang=\"ka\" data-continue=\"\\xe1\\x83\\x92\\xe1\\x83\\x90\\xe1\\x83\\x92\\xe1\\x83\\xa0\\xe1\\x83\\xab\\xe1\\x83\\x94\\xe1\\x83\\x9a\\xe1\\x83\\x94\\xe1\\x83\\x91\\xe1\\x83\\x90\">\\xe1\\x83\\xa5\\xe1\\x83\\x90\\xe1\\x83\\xa0\\xe1\\x83\\x97\\xe1\\x83\\xa3\\xe1\\x83\\x9a\\xe1\\x83\\x98</option>\\n<option value=\"kab\" lang=\"kab\" data-continue=\"Kemmel\">Taqbaylit</option>\\n<option value=\"kk\" lang=\"kk\" data-continue=\"\\xd0\\x96\\xd0\\xb0\\xd0\\xbb\\xd2\\x93\\xd0\\xb0\\xd1\\x81\\xd1\\x82\\xd1\\x8b\\xd1\\x80\\xd1\\x83\">\\xd2\\x9a\\xd0\\xb0\\xd0\\xb7\\xd0\\xb0\\xd2\\x9b \\xd1\\x82\\xd1\\x96\\xd0\\xbb\\xd1\\x96</option>\\n<option value=\"km\" lang=\"km\" data-continue=\"\\xe1\\x9e\\x94\\xe1\\x9e\\x93\\xe1\\x9f\\x92\\xe1\\x9e\\x8f\">\\xe1\\x9e\\x97\\xe1\\x9e\\xb6\\xe1\\x9e\\x9f\\xe1\\x9e\\xb6\\xe1\\x9e\\x81\\xe1\\x9f\\x92\\xe1\\x9e\\x98\\xe1\\x9f\\x82\\xe1\\x9e\\x9a</option>\\n<option value=\"kn\" lang=\"kn\" data-continue=\"\\xe0\\xb2\\xae\\xe0\\xb3\\x81\\xe0\\xb2\\x82\\xe0\\xb2\\xa6\\xe0\\xb3\\x81\\xe0\\xb2\\xb5\\xe0\\xb2\\xb0\\xe0\\xb2\\xbf\\xe0\\xb2\\xb8\\xe0\\xb3\\x81\">\\xe0\\xb2\\x95\\xe0\\xb2\\xa8\\xe0\\xb3\\x8d\\xe0\\xb2\\xa8\\xe0\\xb2\\xa1</option>\\n<option value=\"ko_KR\" lang=\"ko\" data-continue=\"\\xea\\xb3\\x84\\xec\\x86\\x8d\">\\xed\\x95\\x9c\\xea\\xb5\\xad\\xec\\x96\\xb4</option>\\n<option value=\"ckb\" lang=\"ku\" data-continue=\"\\xd8\\xa8\\xd9\\x87\\xe2\\x80\\x8c\\xd8\\xb1\\xd8\\xaf\\xd9\\x87\\xe2\\x80\\x8c\\xd9\\x88\\xd8\\xa7\\xd9\\x85 \\xd8\\xa8\\xd9\\x87\\xe2\\x80\\x8c\">\\xd9\\x83\\xd9\\x88\\xd8\\xb1\\xd8\\xaf\\xdb\\x8c\\xe2\\x80\\x8e</option>\\n<option value=\"kir\" lang=\"ky\" data-continue=\"\\xd0\\xa3\\xd0\\xbb\\xd0\\xb0\\xd0\\xbd\\xd1\\x82\\xd1\\x83\\xd1\\x83\">\\xd0\\x9a\\xd1\\x8b\\xd1\\x80\\xd0\\xb3\\xd1\\x8b\\xd0\\xb7\\xd1\\x87\\xd0\\xb0</option>\\n<option value=\"lo\" lang=\"lo\" data-continue=\"\\xe0\\xba\\x95\\xe0\\xbb\\x8d\\xe0\\xbb\\x88\\xe2\\x80\\x8b\\xe0\\xbb\\x84\\xe0\\xba\\x9b\">\\xe0\\xba\\x9e\\xe0\\xba\\xb2\\xe0\\xba\\xaa\\xe0\\xba\\xb2\\xe0\\xba\\xa5\\xe0\\xba\\xb2\\xe0\\xba\\xa7</option>\\n<option value=\"lt_LT\" lang=\"lt\" data-continue=\"T\\xc4\\x99sti\">Lietuvi\\xc5\\xb3 kalba</option>\\n<option value=\"lv\" lang=\"lv\" data-continue=\"Turpin\\xc4\\x81t\">Latvie\\xc5\\xa1u valoda</option>\\n<option value=\"mk_MK\" lang=\"mk\" data-continue=\"\\xd0\\x9f\\xd1\\x80\\xd0\\xbe\\xd0\\xb4\\xd0\\xbe\\xd0\\xbb\\xd0\\xb6\\xd0\\xb8\">\\xd0\\x9c\\xd0\\xb0\\xd0\\xba\\xd0\\xb5\\xd0\\xb4\\xd0\\xbe\\xd0\\xbd\\xd1\\x81\\xd0\\xba\\xd0\\xb8 \\xd1\\x98\\xd0\\xb0\\xd0\\xb7\\xd0\\xb8\\xd0\\xba</option>\\n<option value=\"ml_IN\" lang=\"ml\" data-continue=\"\\xe0\\xb4\\xa4\\xe0\\xb5\\x81\\xe0\\xb4\\x9f\\xe0\\xb4\\xb0\\xe0\\xb5\\x81\\xe0\\xb4\\x95\">\\xe0\\xb4\\xae\\xe0\\xb4\\xb2\\xe0\\xb4\\xaf\\xe0\\xb4\\xbe\\xe0\\xb4\\xb3\\xe0\\xb4\\x82</option>\\n<option value=\"mn\" lang=\"mn\" data-continue=\"Continue\">\\xd0\\x9c\\xd0\\xbe\\xd0\\xbd\\xd0\\xb3\\xd0\\xbe\\xd0\\xbb</option>\\n<option value=\"mr\" lang=\"mr\" data-continue=\"\\xe0\\xa4\\xb8\\xe0\\xa5\\x81\\xe0\\xa4\\xb0\\xe0\\xa5\\x81 \\xe0\\xa4\\xa0\\xe0\\xa5\\x87\\xe0\\xa4\\xb5\\xe0\\xa4\\xbe\">\\xe0\\xa4\\xae\\xe0\\xa4\\xb0\\xe0\\xa4\\xbe\\xe0\\xa4\\xa0\\xe0\\xa5\\x80</option>\\n<option value=\"ms_MY\" lang=\"ms\" data-continue=\"Teruskan\">Bahasa Melayu</option>\\n<option value=\"my_MM\" lang=\"my\" data-continue=\"\\xe1\\x80\\x86\\xe1\\x80\\x80\\xe1\\x80\\xba\\xe1\\x80\\x9c\\xe1\\x80\\x80\\xe1\\x80\\xba\\xe1\\x80\\x9c\\xe1\\x80\\xaf\\xe1\\x80\\x95\\xe1\\x80\\xba\\xe1\\x80\\x86\\xe1\\x80\\xb1\\xe1\\x80\\xac\\xe1\\x80\\x84\\xe1\\x80\\xba\\xe1\\x80\\x95\\xe1\\x80\\xab\\xe1\\x81\\x8b\">\\xe1\\x80\\x97\\xe1\\x80\\x99\\xe1\\x80\\xac\\xe1\\x80\\x85\\xe1\\x80\\xac</option>\\n<option value=\"nb_NO\" lang=\"nb\" data-continue=\"Fortsett\">Norsk bokm\\xc3\\xa5l</option>\\n<option value=\"ne_NP\" lang=\"ne\" data-continue=\"\\xe0\\xa4\\x9c\\xe0\\xa4\\xbe\\xe0\\xa4\\xb0\\xe0\\xa5\\x80 \\xe0\\xa4\\xb0\\xe0\\xa4\\xbe\\xe0\\xa4\\x96\\xe0\\xa5\\x8d\\xe0\\xa4\\xa8\\xe0\\xa5\\x81\\xe0\\xa4\\xb9\\xe0\\xa5\\x8b\\xe0\\xa4\\xb8\\xe0\\xa5\\x8d\">\\xe0\\xa4\\xa8\\xe0\\xa5\\x87\\xe0\\xa4\\xaa\\xe0\\xa4\\xbe\\xe0\\xa4\\xb2\\xe0\\xa5\\x80</option>\\n<option value=\"nl_BE\" lang=\"nl\" data-continue=\"Doorgaan\">Nederlands (Belgi\\xc3\\xab)</option>\\n<option value=\"nl_NL\" lang=\"nl\" data-continue=\"Doorgaan\">Nederlands</option>\\n<option value=\"nl_NL_formal\" lang=\"nl\" data-continue=\"Doorgaan\">Nederlands (Formeel)</option>\\n<option value=\"nn_NO\" lang=\"nn\" data-continue=\"Hald fram\">Norsk nynorsk</option>\\n<option value=\"oci\" lang=\"oc\" data-continue=\"Contunhar\">Occitan</option>\\n<option value=\"pa_IN\" lang=\"pa\" data-continue=\"\\xe0\\xa8\\x9c\\xe0\\xa8\\xbe\\xe0\\xa8\\xb0\\xe0\\xa9\\x80 \\xe0\\xa8\\xb0\\xe0\\xa9\\xb1\\xe0\\xa8\\x96\\xe0\\xa9\\x8b\">\\xe0\\xa8\\xaa\\xe0\\xa9\\xb0\\xe0\\xa8\\x9c\\xe0\\xa8\\xbe\\xe0\\xa8\\xac\\xe0\\xa9\\x80</option>\\n<option value=\"pl_PL\" lang=\"pl\" data-continue=\"Kontynuuj\">Polski</option>\\n<option value=\"ps\" lang=\"ps\" data-continue=\"\\xd8\\xaf\\xd9\\x88\\xd8\\xa7\\xd9\\x85 \\xd9\\x88\\xd8\\xb1\\xda\\xa9\\xda\\x93\\xd9\\x87\">\\xd9\\xbe\\xda\\x9a\\xd8\\xaa\\xd9\\x88</option>\\n<option value=\"pt_BR\" lang=\"pt\" data-continue=\"Continuar\">Portugu\\xc3\\xaas do Brasil</option>\\n<option value=\"pt_AO\" lang=\"pt\" data-continue=\"Continuar\">Portugu\\xc3\\xaas de Angola</option>\\n<option value=\"pt_PT\" lang=\"pt\" data-continue=\"Continuar\">Portugu\\xc3\\xaas</option>\\n<option value=\"pt_PT_ao90\" lang=\"pt\" data-continue=\"Continuar\">Portugu\\xc3\\xaas (AO90)</option>\\n<option value=\"rhg\" lang=\"rhg\" data-continue=\"Continue\">Ru\\xc3\\xa1inga</option>\\n<option value=\"ro_RO\" lang=\"ro\" data-continue=\"Continu\\xc4\\x83\">Rom\\xc3\\xa2n\\xc4\\x83</option>\\n<option value=\"ru_RU\" lang=\"ru\" data-continue=\"\\xd0\\x9f\\xd1\\x80\\xd0\\xbe\\xd0\\xb4\\xd0\\xbe\\xd0\\xbb\\xd0\\xb6\\xd0\\xb8\\xd1\\x82\\xd1\\x8c\">\\xd0\\xa0\\xd1\\x83\\xd1\\x81\\xd1\\x81\\xd0\\xba\\xd0\\xb8\\xd0\\xb9</option>\\n<option value=\"sah\" lang=\"sah\" data-continue=\"\\xd0\\xa1\\xd0\\xb0\\xd0\\xbb\\xd2\\x95\\xd0\\xb0\\xd0\\xb0\">\\xd0\\xa1\\xd0\\xb0\\xd1\\x85\\xd0\\xb0\\xd0\\xbb\\xd1\\x8b\\xd1\\x8b</option>\\n<option value=\"snd\" lang=\"sd\" data-continue=\"\\xd8\\xa7\\xda\\xb3\\xd8\\xaa\\xd9\\x8a \\xd9\\x87\\xd9\\x84\\xd9\\x88\">\\xd8\\xb3\\xd9\\x86\\xda\\x8c\\xd9\\x8a</option>\\n<option value=\"si_LK\" lang=\"si\" data-continue=\"\\xe0\\xb6\\xaf\\xe0\\xb7\\x92\\xe0\\xb6\\x9c\\xe0\\xb6\\xa7\\xe0\\xb6\\xb8 \\xe0\\xb6\\x9a\\xe0\\xb6\\xbb\\xe0\\xb6\\x9c\\xe0\\xb7\\x99\\xe0\\xb6\\xb1 \\xe0\\xb6\\xba\\xe0\\xb6\\xb1\\xe0\\xb7\\x8a\\xe0\\xb6\\xb1\">\\xe0\\xb7\\x83\\xe0\\xb7\\x92\\xe0\\xb6\\x82\\xe0\\xb7\\x84\\xe0\\xb6\\xbd</option>\\n<option value=\"sk_SK\" lang=\"sk\" data-continue=\"Pokra\\xc4\\x8dova\\xc5\\xa5\">Sloven\\xc4\\x8dina</option>\\n<option value=\"skr\" lang=\"skr\" data-continue=\"\\xd8\\xac\\xd8\\xa7\\xd8\\xb1\\xdb\\x8c \\xd8\\xb1\\xda\\xa9\\xda\\xbe\\xd9\\x88\">\\xd8\\xb3\\xd8\\xb1\\xd8\\xa7\\xd8\\xa6\\xdb\\x8c\\xda\\xa9\\xdb\\x8c</option>\\n<option value=\"sl_SI\" lang=\"sl\" data-continue=\"Nadaljuj\">Sloven\\xc5\\xa1\\xc4\\x8dina</option>\\n<option value=\"sq\" lang=\"sq\" data-continue=\"Vazhdo\">Shqip</option>\\n<option value=\"sr_RS\" lang=\"sr\" data-continue=\"\\xd0\\x9d\\xd0\\xb0\\xd1\\x81\\xd1\\x82\\xd0\\xb0\\xd0\\xb2\\xd0\\xb8\">\\xd0\\xa1\\xd1\\x80\\xd0\\xbf\\xd1\\x81\\xd0\\xba\\xd0\\xb8 \\xd1\\x98\\xd0\\xb5\\xd0\\xb7\\xd0\\xb8\\xd0\\xba</option>\\n<option value=\"sv_SE\" lang=\"sv\" data-continue=\"Forts\\xc3\\xa4tt\">Svenska</option>\\n<option value=\"sw\" lang=\"sw\" data-continue=\"Endelea\">Kiswahili</option>\\n<option value=\"szl\" lang=\"szl\" data-continue=\"K\\xc5\\x8dntynuowa\\xc4\\x87\">\\xc5\\x9al\\xc5\\x8dnsk\\xc5\\x8f g\\xc5\\x8fdka</option>\\n<option value=\"ta_IN\" lang=\"ta\" data-continue=\"\\xe0\\xae\\xa4\\xe0\\xaf\\x8a\\xe0\\xae\\x9f\\xe0\\xae\\xb0\\xe0\\xae\\xb5\\xe0\\xaf\\x81\\xe0\\xae\\xae\\xe0\\xaf\\x8d\">\\xe0\\xae\\xa4\\xe0\\xae\\xae\\xe0\\xae\\xbf\\xe0\\xae\\xb4\\xe0\\xaf\\x8d</option>\\n<option value=\"ta_LK\" lang=\"ta\" data-continue=\"\\xe0\\xae\\xa4\\xe0\\xaf\\x8a\\xe0\\xae\\x9f\\xe0\\xae\\xb0\\xe0\\xaf\\x8d\\xe0\\xae\\x95\">\\xe0\\xae\\xa4\\xe0\\xae\\xae\\xe0\\xae\\xbf\\xe0\\xae\\xb4\\xe0\\xaf\\x8d</option>\\n<option value=\"te\" lang=\"te\" data-continue=\"\\xe0\\xb0\\x95\\xe0\\xb1\\x8a\\xe0\\xb0\\xa8\\xe0\\xb0\\xb8\\xe0\\xb0\\xbe\\xe0\\xb0\\x97\\xe0\\xb0\\xbf\\xe0\\xb0\\x82\\xe0\\xb0\\x9a\\xe0\\xb1\\x81\">\\xe0\\xb0\\xa4\\xe0\\xb1\\x86\\xe0\\xb0\\xb2\\xe0\\xb1\\x81\\xe0\\xb0\\x97\\xe0\\xb1\\x81</option>\\n<option value=\"th\" lang=\"th\" data-continue=\"\\xe0\\xb8\\x95\\xe0\\xb9\\x88\\xe0\\xb8\\xad\\xe0\\xb9\\x84\\xe0\\xb8\\x9b\">\\xe0\\xb9\\x84\\xe0\\xb8\\x97\\xe0\\xb8\\xa2</option>\\n<option value=\"tl\" lang=\"tl\" data-continue=\"Magpatuloy\">Tagalog</option>\\n<option value=\"tr_TR\" lang=\"tr\" data-continue=\"Devam\">T\\xc3\\xbcrk\\xc3\\xa7e</option>\\n<option value=\"tt_RU\" lang=\"tt\" data-continue=\"\\xd0\\xb4\\xd3\\x99\\xd0\\xb2\\xd0\\xb0\\xd0\\xbc \\xd0\\xb8\\xd1\\x82\\xd2\\xaf\">\\xd0\\xa2\\xd0\\xb0\\xd1\\x82\\xd0\\xb0\\xd1\\x80 \\xd1\\x82\\xd0\\xb5\\xd0\\xbb\\xd0\\xb5</option>\\n<option value=\"tah\" lang=\"ty\" data-continue=\"Continue\">Reo Tahiti</option>\\n<option value=\"ug_CN\" lang=\"ug\" data-continue=\"\\xd8\\xaf\\xd8\\xa7\\xdb\\x8b\\xd8\\xa7\\xd9\\x85\\xd9\\x84\\xd8\\xa7\\xd8\\xb4\\xd8\\xaa\\xdb\\x87\\xd8\\xb1\\xdb\\x87\\xd8\\xb4\">\\xd8\\xa6\\xdb\\x87\\xd9\\x8a\\xd8\\xba\\xdb\\x87\\xd8\\xb1\\xda\\x86\\xdb\\x95</option>\\n<option value=\"uk\" lang=\"uk\" data-continue=\"\\xd0\\x9f\\xd1\\x80\\xd0\\xbe\\xd0\\xb4\\xd0\\xbe\\xd0\\xb2\\xd0\\xb6\\xd0\\xb8\\xd1\\x82\\xd0\\xb8\">\\xd0\\xa3\\xd0\\xba\\xd1\\x80\\xd0\\xb0\\xd1\\x97\\xd0\\xbd\\xd1\\x81\\xd1\\x8c\\xd0\\xba\\xd0\\xb0</option>\\n<option value=\"ur\" lang=\"ur\" data-continue=\"\\xd8\\xac\\xd8\\xa7\\xd8\\xb1\\xdb\\x8c \\xd8\\xb1\\xda\\xa9\\xda\\xbe\\xdb\\x8c\\xda\\xba\">\\xd8\\xa7\\xd8\\xb1\\xd8\\xaf\\xd9\\x88</option>\\n<option value=\"uz_UZ\" lang=\"uz\" data-continue=\"Davom etish\">O\\xe2\\x80\\x98zbekcha</option>\\n<option value=\"vi\" lang=\"vi\" data-continue=\"Ti\\xe1\\xba\\xbfp t\\xe1\\xbb\\xa5c\">Ti\\xe1\\xba\\xbfng Vi\\xe1\\xbb\\x87t</option>\\n<option value=\"zh_CN\" lang=\"zh\" data-continue=\"\\xe7\\xbb\\xa7\\xe7\\xbb\\xad\">\\xe7\\xae\\x80\\xe4\\xbd\\x93\\xe4\\xb8\\xad\\xe6\\x96\\x87</option>\\n<option value=\"zh_HK\" lang=\"zh\" data-continue=\"\\xe7\\xb9\\xbc\\xe7\\xba\\x8c\">\\xe9\\xa6\\x99\\xe6\\xb8\\xaf\\xe4\\xb8\\xad\\xe6\\x96\\x87</option>\\n<option value=\"zh_TW\" lang=\"zh\" data-continue=\"\\xe7\\xb9\\xbc\\xe7\\xba\\x8c\">\\xe7\\xb9\\x81\\xe9\\xab\\x94\\xe4\\xb8\\xad\\xe6\\x96\\x87</option>\\n</select>\\n<p class=\"step\"><span class=\"spinner\"></span><input id=\"language-continue\" type=\"submit\" class=\"button button-primary button-large\" value=\"Continue\" /></p></form><script type=\"text/javascript\">var t = document.getElementById(\\'weblog_title\\'); if (t){ t.focus(); }</script>\\n\\t<script type=\"text/javascript\" src=\"http://localhost:8090/wp-includes/js/jquery/jquery.min.js?ver=3.7.1\" id=\"jquery-core-js\"></script>\\n<script type=\"text/javascript\" src=\"http://localhost:8090/wp-includes/js/jquery/jquery-migrate.min.js?ver=3.4.1\" id=\"jquery-migrate-js\"></script>\\n<script type=\"text/javascript\" src=\"http://localhost:8090/wp-admin/js/language-chooser.min.js?ver=6.4.3\" id=\"language-chooser-js\"></script>\\n<script type=\"text/javascript\">\\njQuery( function( $ ) {\\n\\t$( \\'.hide-if-no-js\\' ).removeClass( \\'hide-if-no-js\\' );\\n} );\\n</script>\\n</body>\\n</html>\\n\"\"\"\n",
    ")"
   ]
  },
  {
   "cell_type": "markdown",
   "metadata": {},
   "source": []
  }
 ],
 "metadata": {
  "kernelspec": {
   "display_name": "parser",
   "language": "python",
   "name": "python3"
  },
  "language_info": {
   "codemirror_mode": {
    "name": "ipython",
    "version": 3
   },
   "file_extension": ".py",
   "mimetype": "text/x-python",
   "name": "python",
   "nbconvert_exporter": "python",
   "pygments_lexer": "ipython3",
   "version": "3.11.6"
  }
 },
 "nbformat": 4,
 "nbformat_minor": 2
}
