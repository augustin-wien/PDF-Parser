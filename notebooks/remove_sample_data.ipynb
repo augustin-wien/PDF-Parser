{
 "cells": [
  {
   "cell_type": "code",
   "execution_count": 23,
   "metadata": {},
   "outputs": [],
   "source": [
    "import requests\n",
    "from requests.auth import HTTPBasicAuth\n",
    "from dotenv import load_dotenv\n",
    "import os\n",
    "from utils.requests import generate_auth_header\n",
    "import sys, os\n",
    "sys.path.append('/home/funny/Documents/Projects/230701-Parsing-Tool/augustin-plugin/')"
   ]
  },
  {
   "cell_type": "markdown",
   "metadata": {},
   "source": [
    "Executing the next cell will remove all posts and media (images) from your Wordpress page"
   ]
  },
  {
   "cell_type": "code",
   "execution_count": 25,
   "metadata": {},
   "outputs": [
    {
     "name": "stdout",
     "output_type": "stream",
     "text": [
      "posts: []\n",
      "media: []\n"
     ]
    }
   ],
   "source": [
    "load_dotenv()\n",
    "\n",
    "# Replace these with your WordPress site details\n",
    "wordpress_url = os.environ.get(\"WORDPRESS_URL\")\n",
    "header = generate_auth_header()\n",
    "\n",
    "# Function to get all posts\n",
    "def get_all_posts():\n",
    "    posts_url = f'{wordpress_url}posts?per_page=100'\n",
    "    response = requests.get(posts_url, headers=header, timeout=5)\n",
    "    return response.json()\n",
    "\n",
    "# Function to delete a post by ID\n",
    "def delete_post(post_id):\n",
    "    delete_url = f'{wordpress_url}posts/{post_id}'\n",
    "    response = requests.delete(delete_url, headers=header, timeout=5)\n",
    "    return response.status_code\n",
    "\n",
    "# Function to get all media (images)\n",
    "def get_all_media():\n",
    "    media_url = f'{wordpress_url}media?per_page=100'\n",
    "    response = requests.get(media_url, headers=header, timeout=5)\n",
    "    return response.json()\n",
    "\n",
    "# Function to delete media (image) by ID\n",
    "def delete_media(media_id):\n",
    "    delete_url = f'{wordpress_url}media/{media_id}?force=1'\n",
    "    response = requests.delete(delete_url, headers=header, timeout=5)\n",
    "    return response.status_code\n",
    "\n",
    "# Get and delete all posts\n",
    "posts = get_all_posts()\n",
    "print(f\"posts: {posts}\")\n",
    "\n",
    "# Delete all posts iterating over 100 posts at a time\n",
    "while posts != []:\n",
    "    for post in posts:\n",
    "        post_id = post['id']\n",
    "        delete_status = delete_post(post_id)\n",
    "        if delete_status in [200, 201]:\n",
    "            print(f\"Post {post_id} deleted successfully.\")\n",
    "        else:\n",
    "            print(f\"Failed to delete post {post_id}, status code: {delete_status}\")\n",
    "\n",
    "    posts = get_all_posts()\n",
    "\n",
    "# Get and delete all media (images)\n",
    "media = get_all_media()\n",
    "print(f\"media: {media}\")\n",
    "\n",
    "# Delete all media (images) iterating over 100 images at a time\n",
    "while media != []:\n",
    "    for media_item in media:\n",
    "        media_id = media_item['id']\n",
    "        delete_status = delete_media(media_id)\n",
    "        if delete_status in [200, 201]:\n",
    "            print(f\"Media {media_id} deleted successfully.\")\n",
    "        else:\n",
    "            print(f\"Failed to delete media {media_id}, status code: {delete_status}\")\n",
    "\n",
    "    media = get_all_media()\n"
   ]
  },
  {
   "cell_type": "code",
   "execution_count": null,
   "metadata": {},
   "outputs": [],
   "source": []
  }
 ],
 "metadata": {
  "kernelspec": {
   "display_name": "parser",
   "language": "python",
   "name": "python3"
  },
  "language_info": {
   "codemirror_mode": {
    "name": "ipython",
    "version": 3
   },
   "file_extension": ".py",
   "mimetype": "text/x-python",
   "name": "python",
   "nbconvert_exporter": "python",
   "pygments_lexer": "ipython3",
   "version": "3.11.4"
  }
 },
 "nbformat": 4,
 "nbformat_minor": 2
}
