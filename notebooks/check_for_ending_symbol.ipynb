{
 "cells": [
  {
   "cell_type": "code",
   "execution_count": 14,
   "metadata": {},
   "outputs": [],
   "source": [
    "import sys, os\n",
    "\n",
    "sys.path.append(\"/home/funny/Documents/Projects/230701-Parsing-Tool/augustin-plugin/\")\n",
    "from dotenv import load_dotenv\n",
    "import fitz\n"
   ]
  },
  {
   "cell_type": "code",
   "execution_count": 15,
   "metadata": {},
   "outputs": [],
   "source": [
    "# Load environment variables\n",
    "load_dotenv()\n",
    "global_save_path = os.environ.get(\"SAVE_PATH\")\n",
    "path_to_file = (\n",
    "    global_save_path + \"570_augustin_fertig_kontrolle/570_augustin_fertig_kontrolle.pdf\"\n",
    ")\n",
    "src = fitz.open(path_to_file)"
   ]
  },
  {
   "cell_type": "code",
   "execution_count": 16,
   "metadata": {},
   "outputs": [],
   "source": [
    "def extract_headlines(\n",
    "    page, starting_characters=None, headlines=None, searching_for_end=False\n",
    "):\n",
    "    \"\"\"Extract headlines from a PDF page.\"\"\"\n",
    "    ending_symbols = 0\n",
    "    text_instances = page.get_text(\"dict\", sort=True)[\"blocks\"]\n",
    "\n",
    "    if not text_instances:\n",
    "        return headlines, starting_characters, ending_symbols\n",
    "\n",
    "    for text in text_instances:\n",
    "        try:\n",
    "            for line in text[\"lines\"]:\n",
    "                for span in line[\"spans\"]:\n",
    "                    font_size = span[\"size\"]\n",
    "                    colour_code = f\"#{span['color']:06x}\"\n",
    "\n",
    "                    # Check if colour code is not black or dark brown since starting characters have version colour\n",
    "                    if colour_code != \"#2e2013\" and colour_code != \"#000000\":\n",
    "                        # ------ Starting characters check ------\n",
    "                        # Check if text is not a number, has less than 3 characters and is not ending character\n",
    "                        if (\n",
    "                            not span[\"text\"].isdigit()\n",
    "                            and len(span[\"text\"]) < 3\n",
    "                            and span[\"text\"] != \"■\"\n",
    "                        ):\n",
    "                            print(f\"Extracting starting character: {span['text']}\")\n",
    "                            if starting_characters is None:\n",
    "                                starting_characters = []\n",
    "                            if not searching_for_end:\n",
    "                                starting_characters.append(span[\"text\"].strip())\n",
    "                        # ------ Ending symbol check ------\n",
    "                        elif \"■\" in span[\"text\"]:\n",
    "                            print(f\"Extracting ending symbol: {span['text']}\")\n",
    "                            ending_symbols += 1\n",
    "\n",
    "                    # ------ Header check ------\n",
    "                    # Check if font is bold and font size is larger 12\n",
    "                    elif font_size > 12 or span[\"font\"] == \"AmasisMTStd-Bold\":\n",
    "                        print(f\"Extracting headline: {span['text'].strip()}\")\n",
    "                        if headlines is None:\n",
    "                            headlines = []\n",
    "                        if not searching_for_end:\n",
    "                            headlines.append(span[\"text\"].strip())\n",
    "        except KeyError:\n",
    "            pass\n",
    "\n",
    "    return headlines, starting_characters, ending_symbols\n"
   ]
  },
  {
   "cell_type": "code",
   "execution_count": 19,
   "metadata": {},
   "outputs": [],
   "source": [
    "def clean_text(raw_text, starting_characters):\n",
    "    \"\"\"Clean the text from unwanted newlines and hyphens.\"\"\"\n",
    "    found_starting_character = False\n",
    "\n",
    "    article = \"\"\n",
    "\n",
    "    for line in raw_text.split(\"\\n\"):\n",
    "        if found_starting_character:\n",
    "            # Clean text from unwanted hyphens and add newlines, if line is not empty\n",
    "            if line:\n",
    "                # If in the end of line is \".\" or \"!\" or \"?\" or \":\" keep newline\n",
    "                if line[-1] in [\".\", \"!\", \"?\", \":\"]:\n",
    "                    article += line + \"\\n\"\n",
    "                    continue\n",
    "                # If in the end of line is \"-\" delete hyphen and extra space before it\n",
    "                elif line and line[-1] == \"-\":\n",
    "                    article += line[:-1]\n",
    "                    continue\n",
    "            # If no checks are met, add line to article\n",
    "            article += line\n",
    "        # Start extracting article text with first starting character\n",
    "        if starting_characters[0] == line:\n",
    "            article += line\n",
    "            found_starting_character = True\n",
    "\n",
    "    # Format the string\n",
    "    article = list(article)\n",
    "    article_edit = article\n",
    "    for index, letter in enumerate(article):\n",
    "        if \" \" in letter and \" \" in article[index - 1]:\n",
    "            del article_edit[index]\n",
    "\n",
    "    return \"\".join(article_edit)"
   ]
  },
  {
   "cell_type": "code",
   "execution_count": 24,
   "metadata": {},
   "outputs": [
    {
     "name": "stdout",
     "output_type": "stream",
     "text": [
      "Extracting headline: 3\n",
      "Extracting headline: Bernd Pegritz\n",
      "Extracting headline: «Rätsel» lösen mit Bildern\n",
      "Extracting starting character: A\n",
      "Extracting headline: Mehr Spaß\n",
      "Extracting headline: macht’s auf\n",
      "Extracting headline: Papier\n",
      "Extracting ending symbol: ■\n",
      "Headlines: ['3', 'Bernd Pegritz', '«Rätsel» lösen mit Bildern', 'Mehr Spaß', 'macht’s auf', 'Papier']\n",
      "Starting characters: ['A']\n",
      "Ending symbols: 1\n",
      "Article: Anstatt die Hausaufgaben zu machen, habe ich als Kind mal das Logo von Mozilla Firefox nachgezeichnet. Irgendwann habe ich aufgeschnappt, dass es Leute gibt, die dafür bezahlt werden. Die Entscheidung Grafikdesigner zu werden, fiel früh, lange bevor ich wusste, was das genau ist.\n",
      "In Tirol geboren und aufgewachsen, zog ich für das Masterstudium in Kommunikationsdesign nach Saarbrücken in Deutschland. Im Studium habe ich immer mehr Illustration eingebaut. Nun geht die Entwicklung weiter mit Animation, weil ich es spannend finde, wenn die Zeichnungen zum Leben erwachen und man in einer ganz anderen Erzähl-Struktur denken muss.\n",
      "Ich bin wie ein «Rätsellöser», dabei sind meine Antworten keine Wörter, sondern Bilder. Diese Aufgabe, einen Inhalt auf den Punkt zu bringen und in einem oder in wenigen Bildern eine zusätzliche Ebene zu schaffen, das mag ich am liebsten. Ich beginne mit ganz kleinen Skizzen, nicht größer als Briefmarken. Sie werden immer größer, bis die Idee ganz abgebildet ist. So perfektionistisch wie ich bin, ist das ein gutes Tool, um mich nicht schon anfangs in Details zu verlieren. Meistens sind meine Arbeiten halb analog, halb digital gezeichnet – mehr Spaß macht’s auf Papier, es fühlt sich richtiger an. 2020 in Wien angekommen, habe ich mich dem Augustin als Illustrator angeboten, denn für mich ist der Augustin ein wichtiger Bestandteil dieser Stadt!\n",
      "So gerne ich in Wien lebe, brauche ich doch regelmäßig Natur. Einmal im Jahr kann ich im «Isolation Camp» auftanken: Für ein paar Tage kommen Kreativschaffende zusammen, ziehen sich in der Natur zurück, meistens auf einer Berghütte, weg von der Zivilisation, ohne Tagesablauf, Erwartungen oder Regeln. Jede:r bringt ihre:seine Materialien mit. Zeichnen, Malen, Musik, Fotografie, Goldschmieden, Kochen – alles dabei. Das mache ich extrem gerne, mit Gleichgesinnten der Kreativität freien Lauf lassen – ohne Alltagsablenkungen, mit viel Zeit. Am Ende des Camps fließen die Ergebnisse in eine Ausstellung oder in eine Platte.\n",
      "In der Stadt brauche ich einen Ort, an dem ich mich der Arbeit widme. Im Studio Hyrtl in Ottakring habe ich ihn gefunden. Skizzen mache ich aber auch in Kaffeehäusern oder unterwegs, denn am Schreibtisch ist der Blick immer gleich, gerade für die Ideenfindung brauche ich Abwechslung. Beim Radfahren fallen mir oft Lösungen für die «Rätsel» ein, wenn die Gedanken in Bewegung sind. ■Mehr Spaß macht’s auf Papier\n"
     ]
    }
   ],
   "source": [
    "for index, page in enumerate(src):\n",
    "    if index == 2:\n",
    "        headlines, starting_characters, ending_symbols = extract_headlines(page)\n",
    "        print(f\"Headlines: {headlines}\")\n",
    "        print(f\"Starting characters: {starting_characters}\")\n",
    "        print(f\"Ending symbols: {ending_symbols}\")\n",
    "        article = clean_text(page.get_text(\"text\"), starting_characters)\n",
    "        print(f\"Article: {article}\")"
   ]
  },
  {
   "cell_type": "code",
   "execution_count": null,
   "metadata": {},
   "outputs": [],
   "source": []
  }
 ],
 "metadata": {
  "kernelspec": {
   "display_name": "parser",
   "language": "python",
   "name": "python3"
  },
  "language_info": {
   "codemirror_mode": {
    "name": "ipython",
    "version": 3
   },
   "file_extension": ".py",
   "mimetype": "text/x-python",
   "name": "python",
   "nbconvert_exporter": "python",
   "pygments_lexer": "ipython3",
   "version": "3.11.4"
  }
 },
 "nbformat": 4,
 "nbformat_minor": 2
}
