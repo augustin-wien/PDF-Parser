{
 "cells": [
  {
   "cell_type": "code",
   "execution_count": 1,
   "metadata": {},
   "outputs": [],
   "source": [
    "# Import necessary libraries\n",
    "import base64\n",
    "import json\n",
    "import sys \n",
    "import os\n",
    "import fitz\n",
    "import requests\n",
    "import re\n",
    "from fitz import Document, Page, Rect"
   ]
  },
  {
   "cell_type": "markdown",
   "metadata": {},
   "source": [
    "# Load double page"
   ]
  },
  {
   "cell_type": "code",
   "execution_count": 56,
   "metadata": {},
   "outputs": [],
   "source": [
    "src = fitz.open(\"../PyMuPDF_playground/574_augustin_fertig_kontrolle.pdf\")\n",
    "new_doc = fitz.open()  # empty output PDF\n",
    "\n",
    "page = src.load_page(5)\n"
   ]
  },
  {
   "cell_type": "markdown",
   "metadata": {},
   "source": [
    "\n",
    "# Extract category of double page"
   ]
  },
  {
   "cell_type": "markdown",
   "metadata": {},
   "source": [
    "Create list of categories"
   ]
  },
  {
   "cell_type": "code",
   "execution_count": 76,
   "metadata": {},
   "outputs": [],
   "source": [
    "categories = ['editorial', 'augustiner:in', 'einsicht', 'das wahre leben', 'cover', 'tun & lassen', 'vorstadt', 'lokalmatador:in nº', 'vorstadt', 'art.ist.in', 'dichter innenteil', 'augustinchen']"
   ]
  },
  {
   "cell_type": "markdown",
   "metadata": {},
   "source": [
    "If same category, do not split into single pages.\n",
    "If different categories, split couble page into two single pages"
   ]
  },
  {
   "cell_type": "code",
   "execution_count": 79,
   "metadata": {},
   "outputs": [
    {
     "name": "stdout",
     "output_type": "stream",
     "text": [
      "\n",
      "\n",
      "\n",
      "das wahre leben \n",
      "\n",
      "einsicht\n",
      "Both categories on top\n"
     ]
    }
   ],
   "source": [
    "src = fitz.open(\"../PyMuPDF_playground/574_augustin_fertig_kontrolle.pdf\")\n",
    "new_doc = fitz.open()  # empty output PDF\n",
    "\n",
    "page = src.load_page(2)\n",
    "\n",
    "\n",
    "rect = fitz.Rect(0, 0, page.rect.width, 60)\n",
    "text = page.get_textbox(rect)\n",
    "# Only remove all digits if lokalmatador is not in the text\n",
    "if 'lokalmatador:in' not in text:\n",
    "    # Remove all digits from the text\n",
    "    result = ''.join(i for i in text if not i.isdigit())\n",
    "    # Remove all \\n from the text\n",
    "    #result = result.replace(' ', '')\n",
    "    result = result.lower()\n",
    "    print(result)\n",
    "else:\n",
    "    char_index_beginning = text.find('lokalmatador:in')\n",
    "    char_index_end = char_index_beginning + 22\n",
    "    lokalmatadorin = text[char_index_beginning:char_index_end]\n",
    "    text = text.replace(lokalmatadorin, '')\n",
    "    # Remove all digits from the text\n",
    "    result = ''.join(i for i in text if not i.isdigit())\n",
    "    # Remove all \\n from the text\n",
    "    #result = result.replace(' ', '')\n",
    "    result = result.lower()\n",
    "    print(result)\n",
    "i = 0\n",
    "for word in result.split('\\n'):\n",
    "    word = word.strip() \n",
    "    if word in categories:\n",
    "        i += 1\n",
    "\n",
    "if i == 2:\n",
    "    print('Both categories on top')\n",
    "elif i == 1:\n",
    "    print('One category on top')\n",
    "    # Execute code below to extract category from left side\n",
    "else:\n",
    "    raise Exception('No category on top')\n"
   ]
  },
  {
   "cell_type": "markdown",
   "metadata": {},
   "source": [
    "If in first print statement only one category has been found, check if category is written vertically on outer left side of page "
   ]
  },
  {
   "cell_type": "code",
   "execution_count": 33,
   "metadata": {},
   "outputs": [
    {
     "data": {
      "text/plain": [
       "'tun & lassen'"
      ]
     },
     "execution_count": 33,
     "metadata": {},
     "output_type": "execute_result"
    }
   ],
   "source": [
    "rect = fitz.Rect(0, 0, 50, page.rect.height)\n",
    "text = page.get_text(\"rect\", rect)\n",
    "# Remove all digits from the text\n",
    "result = ''.join(i for i in text if not i.isdigit())\n",
    "# Remove all \\n from the text\n",
    "result = result.replace('\\n', '')\n",
    "result = result.lower()\n",
    "result"
   ]
  },
  {
   "cell_type": "markdown",
   "metadata": {},
   "source": [
    "# Extract text from double page"
   ]
  },
  {
   "cell_type": "code",
   "execution_count": 167,
   "metadata": {},
   "outputs": [
    {
     "name": "stdout",
     "output_type": "stream",
     "text": [
      "Text: '«E' Font: 'Sentinel-Book' (serifed, proportional), size 56.6946, color #ea405b\n",
      "Main Title: 'Dem Frieden auf der Spur' Font: 'AmasisMTStd-Bold' (serifed, proportional, bold), size 36.8145, color #2e2013\n",
      "Main Title: 'Die gewaltfreie Lösung von Konflikten ' Font: 'AmasisMTStd-Bold' (serifed, proportional, bold), size 11.6814, color #2e2013\n",
      "Excerpt: ' ist eines der Hauptanliegen ' Font: 'MyriadPro-Regular' (serifed, proportional), size 10.3945, color #2e2013\n",
      "Excerpt: 'der Friedensforschung. Als Forschungszweig ohne akademische Lobby führt ' Font: 'MyriadPro-Regular' (serifed, proportional), size 10.3945, color #2e2013\n",
      "Excerpt: 'sie allerdings ein Schattendasein – selbst in der neutralen Alpenrepublik, der ' Font: 'MyriadPro-Regular' (serifed, proportional), size 10.3945, color #2e2013\n",
      "Excerpt: 'sie eigentlich ein großes Anliegen sein sollte. ' Font: 'MyriadPro-Regular' (serifed, proportional), size 10.3945, color #2e2013\n",
      "Excerpt: 'TEXT: CHRISTOPH FELLMER' Font: 'MyriadPro-Regular' (serifed, proportional), size 8.41457, color #2e2013\n",
      "Italic: '«Die Friedensforschung ' Font: 'AmasisMTStd-Italic' (italic, serifed, proportional), size 15, color #2e2013\n",
      "Italic: 'hat ähnlich der ' Font: 'AmasisMTStd-Italic' (italic, serifed, proportional), size 15, color #2e2013\n",
      "Italic: 'Genderforschung am ' Font: 'AmasisMTStd-Italic' (italic, serifed, proportional), size 15, color #2e2013\n",
      "Italic: 'Stigma des ' Font: 'AmasisMTStd-Italic' (italic, serifed, proportional), size 15, color #2e2013\n",
      "Italic: 'zivilgesellschaftlichen ' Font: 'AmasisMTStd-Italic' (italic, serifed, proportional), size 15, color #2e2013\n",
      "Italic: 'Aktivismus gelitten»' Font: 'AmasisMTStd-Italic' (italic, serifed, proportional), size 15, color #2e2013\n",
      "Excerpt: 'Claudia Brunner' Font: 'MyriadPro-Regular' (serifed, proportional), size 9.94987, color #2e2013\n"
     ]
    }
   ],
   "source": [
    "src = fitz.open(\"../PyMuPDF_playground/570_augustin_fertig_kontrolle.pdf\")\n",
    "new_doc = fitz.open()  # empty output PDF\n",
    "\n",
    "page = src.load_page(3)\n",
    "# Check for chars in different color than black and font size bigger than 50\n",
    "def flags_decomposer(flags):\n",
    "    \"\"\"Make font flags human readable.\"\"\"\n",
    "    l = []\n",
    "    if flags & 2 ** 0:\n",
    "        l.append(\"superscript\")\n",
    "    if flags & 2 ** 1:\n",
    "        l.append(\"italic\")\n",
    "    if flags & 2 ** 2:\n",
    "        l.append(\"serifed\")\n",
    "    else:\n",
    "        l.append(\"sans\")\n",
    "    if flags & 2 ** 3:\n",
    "        l.append(\"monospaced\")\n",
    "    else:\n",
    "        l.append(\"proportional\")\n",
    "    if flags & 2 ** 4:\n",
    "        l.append(\"bold\")\n",
    "    return \", \".join(l)\n",
    "\n",
    "\n",
    "# read page text as a dictionary, suppressing extra spaces in CJK fonts\n",
    "blocks = page.get_text(\"dict\", flags=11)[\"blocks\"]\n",
    "for b in blocks:  # iterate through the text blocks\n",
    "    for l in b[\"lines\"]:  # iterate through the text lines\n",
    "        for s in l[\"spans\"]:  # iterate through the text spans\n",
    "            font_properties = \"Font: '%s' (%s), size %g, color #%06x\" % (\n",
    "                s[\"font\"],  # font name\n",
    "                flags_decomposer(s[\"flags\"]),  # readable font flags\n",
    "                s[\"size\"],  # font size\n",
    "                s[\"color\"],  # font color\n",
    "            )\n",
    "            # print(\"Text: '%s'\" % s[\"text\"])  # simple print of text\n",
    "            # print(font_properties)\n",
    "            # if case to search for a text start \n",
    "            colour_code = \"#%06x\" % (s[\"color\"])\n",
    "            if colour_code != \"#2e2013\" and colour_code != \"#000000\":\n",
    "                if not s[\"text\"].isdigit() and len(s[\"text\"]) < 3 and s[\"text\"] != \"■\":\n",
    "                    print(\"Text: '%s'\" % s[\"text\"], font_properties)  \n",
    "                    starting_words = s[\"text\"]\n",
    "            \n",
    "            # TODO search for the word before the \"■\"\n",
    "            # if case to search for a text end with \"■\"\n",
    "            if colour_code != \"#2e2013\" and colour_code != \"#000000\" and s[\"text\"] == \"■\":\n",
    "                ending_words = s[\"text\"]\n",
    "                print(\"End: '%s'\" % s[\"text\"], s[\"color\"])  # simple print of text\n",
    "\n",
    "            # if case to search for a title\n",
    "            # if s[\"flags\"] & 2 ** 4:\n",
    "            #     print(\"Title: '%s'\" % s[\"text\"], font_properties)\n",
    "\n",
    "            if s[\"font\"] == \"AmasisMTStd-Bold\":\n",
    "                print(\"Main Title: '%s'\" % s[\"text\"], font_properties)\n",
    "\n",
    "            if s[\"font\"] == \"Sentinel-Medium\":\n",
    "                print(\"Second Title of Excerpt: '%s'\" % s[\"text\"], font_properties)\n",
    "\n",
    "            if s[\"font\"] == \"MyriadPro-Regular\" and s[\"text\"] not in categories:\n",
    "                print(\"Excerpt: '%s'\" % s[\"text\"], font_properties)\n",
    "\n",
    "            # if case to search for quotes \n",
    "            # TODO how to handle author name below the quote written in bold\n",
    "            if s[\"flags\"] & 2 ** 1 and s[\"font\"] == \"AmasisMTStd-Italic\":\n",
    "                print(\"Italic: '%s'\" % s[\"text\"], font_properties)\n",
    "\n"
   ]
  },
  {
   "cell_type": "markdown",
   "metadata": {},
   "source": [
    "# Angehensweise zur Extrahierung des Cover-Texts\n",
    "1. Nimm den gesamten Text von `page.get_text(\"text\")`\n",
    "2. Bestimme Titel, Ausschnitt, Zitate, Bildunterschriften, Credits (Author, Foto etc.)\n",
    "3. Lösche schrittweise Passagen aus dem Text, die nicht Teil des Inhalts sind (Titel, Ausschnitt...) -> Inhalt muss zwischen diesen Passagen liegen\n",
    "4. Abhängig, ob auf der gleichen Seite schon der Text endet durch ein \"■\", muss der Text mit der zweiten Seite zusammengeknüpft werden\n",
    "5. Sende das Cover Bild auf der linken Seite als Hauptbild mit und füge die restlich Bilder mit an"
   ]
  },
  {
   "cell_type": "markdown",
   "metadata": {},
   "source": [
    "# Split double page in two single pages"
   ]
  },
  {
   "cell_type": "code",
   "execution_count": null,
   "metadata": {},
   "outputs": [],
   "source": [
    "r = page.rect\n",
    "d = fitz.Rect(\n",
    "    # CropBox displacement if being set\n",
    "    page.cropbox_position,\n",
    "    page.cropbox_position,\n",
    ")  # starting at (0, 0)\n",
    "\n",
    "r1 = r\n",
    "r1.x1 = r1.x1 / 2  # left side of double page\n",
    "r2 = r1 + (r1.width, 0, r1.width, 0)  # right side of double page\n",
    "# r2 = r + (r.width / 2, 0, 0, 0)  # right side of double page\n",
    "\n",
    "r2 += d  # add the CropBox displacement\n",
    "new_page_left = new_doc.new_page(-1, width=r1.width, height=r1.height)\n",
    "new_page_left.show_pdf_page(\n",
    "    new_page_left.rect,\n",
    "    src,\n",
    "    page.number,\n",
    "    clip=r1,\n",
    ")"
   ]
  }
 ],
 "metadata": {
  "kernelspec": {
   "display_name": "base",
   "language": "python",
   "name": "python3"
  },
  "language_info": {
   "codemirror_mode": {
    "name": "ipython",
    "version": 3
   },
   "file_extension": ".py",
   "mimetype": "text/x-python",
   "name": "python",
   "nbconvert_exporter": "python",
   "pygments_lexer": "ipython3",
   "version": "3.10.12"
  },
  "orig_nbformat": 4
 },
 "nbformat": 4,
 "nbformat_minor": 2
}
