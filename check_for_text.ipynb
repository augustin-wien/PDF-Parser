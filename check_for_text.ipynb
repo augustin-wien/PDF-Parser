{
 "cells": [
  {
   "cell_type": "code",
   "execution_count": 114,
   "metadata": {},
   "outputs": [],
   "source": [
    "# Import necessary libraries\n",
    "import base64\n",
    "import json\n",
    "import sys \n",
    "import os\n",
    "import fitz\n",
    "import requests\n",
    "import re\n",
    "from fitz import Document, Page, Rect"
   ]
  },
  {
   "cell_type": "markdown",
   "metadata": {},
   "source": [
    "# Load double page"
   ]
  },
  {
   "cell_type": "code",
   "execution_count": 115,
   "metadata": {},
   "outputs": [],
   "source": [
    "src = fitz.open(\"../PyMuPDF_playground/574_augustin_fertig_kontrolle.pdf\")\n",
    "new_doc = fitz.open()  # empty output PDF\n",
    "\n",
    "page = src.load_page(5)\n"
   ]
  },
  {
   "cell_type": "markdown",
   "metadata": {},
   "source": [
    "\n",
    "# Extract category of double page"
   ]
  },
  {
   "cell_type": "markdown",
   "metadata": {},
   "source": [
    "Create list of categories"
   ]
  },
  {
   "cell_type": "code",
   "execution_count": 116,
   "metadata": {},
   "outputs": [],
   "source": [
    "categories = ['editorial', 'augustiner:in', 'einsicht', 'das wahre leben', 'cover', 'tun & lassen', 'vorstadt', 'lokalmatador:in nº', 'vorstadt', 'art.ist.in', 'dichter innenteil', 'augustinchen']"
   ]
  },
  {
   "cell_type": "markdown",
   "metadata": {},
   "source": [
    "If same category, do not split into single pages.\n",
    "If different categories, split couble page into two single pages"
   ]
  },
  {
   "cell_type": "code",
   "execution_count": 117,
   "metadata": {},
   "outputs": [
    {
     "name": "stdout",
     "output_type": "stream",
     "text": [
      "\n",
      "\n",
      "\n",
      "das wahre leben \n",
      "\n",
      "einsicht\n",
      "Both categories on top\n"
     ]
    }
   ],
   "source": [
    "src = fitz.open(\"../PyMuPDF_playground/574_augustin_fertig_kontrolle.pdf\")\n",
    "new_doc = fitz.open()  # empty output PDF\n",
    "\n",
    "page = src.load_page(2)\n",
    "\n",
    "\n",
    "rect = fitz.Rect(0, 0, page.rect.width, 60)\n",
    "text = page.get_textbox(rect)\n",
    "# Only remove all digits if lokalmatador is not in the text\n",
    "if 'lokalmatador:in' not in text:\n",
    "    # Remove all digits from the text\n",
    "    result = ''.join(i for i in text if not i.isdigit())\n",
    "    # Remove all \\n from the text\n",
    "    #result = result.replace(' ', '')\n",
    "    result = result.lower()\n",
    "    print(result)\n",
    "else:\n",
    "    char_index_beginning = text.find('lokalmatador:in')\n",
    "    char_index_end = char_index_beginning + 22\n",
    "    lokalmatadorin = text[char_index_beginning:char_index_end]\n",
    "    text = text.replace(lokalmatadorin, '')\n",
    "    # Remove all digits from the text\n",
    "    result = ''.join(i for i in text if not i.isdigit())\n",
    "    # Remove all \\n from the text\n",
    "    #result = result.replace(' ', '')\n",
    "    result = result.lower()\n",
    "    print(result)\n",
    "i = 0\n",
    "for word in result.split('\\n'):\n",
    "    word = word.strip() \n",
    "    if word in categories:\n",
    "        i += 1\n",
    "\n",
    "if i == 2:\n",
    "    print('Both categories on top')\n",
    "elif i == 1:\n",
    "    print('One category on top')\n",
    "    # Execute code below to extract category from left side\n",
    "else:\n",
    "    raise Exception('No category on top')\n"
   ]
  },
  {
   "cell_type": "markdown",
   "metadata": {},
   "source": [
    "If in first print statement only one category has been found, check if category is written vertically on outer left side of page "
   ]
  },
  {
   "cell_type": "code",
   "execution_count": 118,
   "metadata": {},
   "outputs": [
    {
     "data": {
      "text/plain": [
       "'soscgm'"
      ]
     },
     "execution_count": 118,
     "metadata": {},
     "output_type": "execute_result"
    }
   ],
   "source": [
    "rect = fitz.Rect(0, 0, 50, page.rect.height)\n",
    "text = page.get_text(\"rect\", rect)\n",
    "# Remove all digits from the text\n",
    "result = ''.join(i for i in text if not i.isdigit())\n",
    "# Remove all \\n from the text\n",
    "result = result.replace('\\n', '')\n",
    "result = result.lower()\n",
    "result"
   ]
  },
  {
   "cell_type": "markdown",
   "metadata": {},
   "source": [
    "# Extract text from double page"
   ]
  },
  {
   "cell_type": "code",
   "execution_count": 169,
   "metadata": {},
   "outputs": [
    {
     "name": "stdout",
     "output_type": "stream",
     "text": [
      "Main Title: Demokratisieren wir die Demokratie! Zufall, Los und Mitbestimmung.\n",
      "Excerpt:  Die repräsentative Demokratie ist nicht in der lage, angemessen auf die Unpässlichkeit des Planeten zu reagieren. Derweil bringen die schulstreikenden 15-Jährigen ihren eltern einen noch wenig gebrauchten Begriff bei: die aleatorische Demokratie.\n",
      "Credits:  ROBERT SOMMER BERND PEGRITZ \n",
      "Quotes: Mich macht zum Beispiel der Fluglärm zornig. Mir geht ein «Bürger:innenrat Flugverkehr» ab\n",
      "Starting Chars: D\n",
      "supposed to break a new line \n",
      "\n",
      "supposed to break a new line \n",
      "\n",
      "supposed to break a new line \n",
      "\n",
      "supposed to break a new line \n",
      "\n",
      "supposed to break a new line \n",
      "\n",
      "supposed to break a new line \n",
      "\n"
     ]
    }
   ],
   "source": [
    "src = fitz.open(\"../PyMuPDF_playground/574_augustin_fertig_kontrolle.pdf\")\n",
    "new_doc = fitz.open()  # empty output PDF\n",
    "\n",
    "page = src.load_page(3)\n",
    "# Check for chars in different color than black and font size bigger than 50\n",
    "def flags_decomposer(flags):\n",
    "    \"\"\"Make font flags human readable.\"\"\"\n",
    "    l = []\n",
    "    if flags & 2 ** 0:\n",
    "        l.append(\"superscript\")\n",
    "    if flags & 2 ** 1:\n",
    "        l.append(\"italic\")\n",
    "    if flags & 2 ** 2:\n",
    "        l.append(\"serifed\")\n",
    "    else:\n",
    "        l.append(\"sans\")\n",
    "    if flags & 2 ** 3:\n",
    "        l.append(\"monospaced\")\n",
    "    else:\n",
    "        l.append(\"proportional\")\n",
    "    if flags & 2 ** 4:\n",
    "        l.append(\"bold\")\n",
    "    return \", \".join(l)\n",
    "\n",
    "main_title = sub_title = excerpt = author = illustrator = photo_credits = quotes = original_photo_text = original_illustrator_text = original_author_text = starting_chars = \"\"\n",
    "font_size = 0\n",
    "\n",
    "# read page text as a dictionary, suppressing extra spaces in CJK fonts\n",
    "blocks = page.get_text(\"dict\", flags=11)[\"blocks\"]\n",
    "for b in blocks:  # iterate through the text blocks\n",
    "    for l in b[\"lines\"]:  # iterate through the text lines\n",
    "        for s in l[\"spans\"]:  # iterate through the text spans\n",
    "            font_properties = \"Font: '%s' (%s), size %g, color #%06x\" % (\n",
    "                s[\"font\"],  # font name\n",
    "                flags_decomposer(s[\"flags\"]),  # readable font flags\n",
    "                s[\"size\"],  # font size\n",
    "                s[\"color\"],  # font color\n",
    "            )\n",
    "            # print(\"Text: '%s'\" % s[\"text\"])  # simple print of text\n",
    "            # print(font_properties)\n",
    "            # if case to search for a text start \n",
    "            colour_code = \"#%06x\" % (s[\"color\"])\n",
    "            if colour_code != \"#2e2013\" and colour_code != \"#000000\":\n",
    "                if not s[\"text\"].isdigit() and len(s[\"text\"]) < 3 and s[\"text\"] != \"■\":\n",
    "                    starting_chars = s[\"text\"]\n",
    "            \n",
    "            # TODO search for the word before the \"■\"\n",
    "            # if case to search for a text end with \"■\"\n",
    "            # if colour_code != \"#2e2013\" and colour_code != \"#000000\" and s[\"text\"] == \"■\":\n",
    "            #     ending_words = s[\"text\"]\n",
    "            #     print(\"End: '%s'\" % s[\"text\"], s[\"color\"])  # simple print of text\n",
    "\n",
    "            # if case to search for a title\n",
    "            # if s[\"flags\"] & 2 ** 4:\n",
    "            #     print(\"Title: '%s'\" % s[\"text\"], font_properties)\n",
    "\n",
    "            if s[\"font\"] == \"AmasisMTStd-Bold\":\n",
    "                # Fill main_title with first line of main title\n",
    "                if main_title == \"\" and font_size == 0:\n",
    "                    main_title = s[\"text\"]\n",
    "                    font_size = s[\"size\"]\n",
    "                else:\n",
    "                    # Check if next line belongs to main title\n",
    "                    if s[\"size\"] == font_size:\n",
    "                        main_title += s[\"text\"]\n",
    "                    # This means that the next line is a subtitle\n",
    "                    else:\n",
    "                        sub_title = s[\"text\"]\n",
    "            \n",
    "            # This snippet is not for the cover page but for the following pages like \"tun&lassen\"\n",
    "            # if s[\"font\"] == \"Sentinel-Medium\":\n",
    "            #     print(\"Second Title of Excerpt: '%s'\" % s[\"text\"], font_properties)\n",
    "\n",
    "            if s[\"font\"] == \"MyriadPro-Regular\" and s[\"text\"] not in categories:\n",
    "                if \"text\" in s[\"text\"].lower():\n",
    "                    original_author_text = s[\"text\"]\n",
    "                    author = s[\"text\"].split(\":\")[1].upper()\n",
    "                elif \"illustration\" in s[\"text\"].lower():\n",
    "                    original_illustrator_text = s[\"text\"]\n",
    "                    illustrator = s[\"text\"].split(\":\")[1]\n",
    "                    illustrator = illustrator.strip().upper()\n",
    "                elif \"foto\" in s[\"text\"].lower():\n",
    "                    original_photo_text = s[\"text\"]\n",
    "                    photo_credits = s[\"text\"].split(\":\")[1].upper()\n",
    "                else:\n",
    "                    excerpt += s[\"text\"]\n",
    "                \n",
    "               \n",
    "            # if case to search for quotes \n",
    "            # TODO how to handle author name below the quote written in bold\n",
    "            if s[\"flags\"] & 2 ** 1 and s[\"font\"] == \"AmasisMTStd-Italic\" and s[\"size\"] == 17:\n",
    "                quotes += s[\"text\"]\n",
    "\n",
    "print(\"Main Title:\", main_title, sub_title)\n",
    "print(\"Excerpt:\", excerpt)\n",
    "print(\"Credits:\", author, illustrator, photo_credits)\n",
    "print(\"Quotes:\", quotes)\n",
    "print(\"Starting Chars:\", starting_chars)\n",
    "\n",
    "def determine(line):\n",
    "    # Remove numbers from text\n",
    "    if line.isdigit():\n",
    "        return False\n",
    "    # Remove category cover from text\n",
    "    elif \"cover\" in line.lower():\n",
    "        return False\n",
    "    else:\n",
    "        return True\n",
    "\n",
    "def find_starting_and_ending_point_of_text(article):\n",
    "    article = list(article)\n",
    "    article_edit = article\n",
    "    print(article)\n",
    "    for index, letter in enumerate(article):\n",
    "        print(\"letter\", letter, index)\n",
    "        if len(starting_chars) == 1:\n",
    "            if letter == starting_chars:\n",
    "                print(\"found starting char\")\n",
    "                del article_edit[:index-1]\n",
    "        elif len(starting_chars) == 2:\n",
    "            if letter == starting_chars[0] and article[index + 1] == starting_chars[1] and article[index + 2] == \"\\n\":\n",
    "                print(\"found starting chars\")\n",
    "                del article_edit[:index-1]\n",
    "        elif len(starting_chars) == 3:\n",
    "            if letter == starting_chars[0] and article[index + 1] == starting_chars[1] and article[index + 2] == starting_chars[2] and article[index + 3] == \"\\n\":\n",
    "                print(\"found starting chars\")\n",
    "                del article_edit[:index-1]\n",
    "        else:\n",
    "            print(\"No starting chars found\")\n",
    "        \n",
    "        if letter == \"■\":\n",
    "            print(\"found ending char\")\n",
    "            del article_edit[index:]\n",
    "            \n",
    "        print(\"Find func\", article_edit)\n",
    "        return article_edit\n",
    "\n",
    "\n",
    "def format_text(article):\n",
    "    # Format the string\n",
    "    article = list(article)\n",
    "    article_edit = article\n",
    "    for index, letter in enumerate(article):\n",
    "        # deletes newlines that are made up because of articles structure\n",
    "        if \"\\n\" in letter:\n",
    "            if (\n",
    "                \".\" in article[index - 1]\n",
    "                or \"!\" in article[index - 1]\n",
    "                or \"?\" in article[index - 1]\n",
    "                or \":\" in article[index - 1]\n",
    "            ):\n",
    "                print(\"supposed to break a new line\", letter)\n",
    "            elif \"-\" in article[index - 1]:\n",
    "\n",
    "                if \" \" in article[index - 1] and \" \" in article[index + 1]:\n",
    "                    # this hyphen has been set on purpose and stays\n",
    "                    print(\"hyphen has been set on purpose\")\n",
    "                else:\n",
    "                    # deletes hyphen on the index and the extra space before it\n",
    "                    del article_edit[index]\n",
    "                    del article_edit[index - 1]\n",
    "            else:\n",
    "                del article_edit[index]\n",
    "        # deletes double spaces\n",
    "        if \" \" in letter and \" \" in article[index - 1]:\n",
    "            del article_edit[index]\n",
    "\n",
    "    # to create a readable text for the article\n",
    "    readable_text = \"\"\n",
    "    for letter in article_edit:\n",
    "        readable_text += letter\n",
    "    \n",
    "    return readable_text\n",
    "\n",
    "\n",
    "\n",
    "whole_text = page.get_text(\"text\")\n",
    "\n",
    "# Find starting and ending point of text\n",
    "# whole_text = find_starting_and_ending_point_of_text(whole_text)\n",
    "\n",
    "# Format text\n",
    "output_text = format_text(whole_text)\n",
    "\n",
    "# TODO how to delete beginning number and category cover\n",
    "# whole_text[:] = [tup for tup in whole_text if determine(tup)]\n",
    "\n",
    "output_text = output_text.replace(main_title, \"\")\n",
    "output_text = output_text.replace(sub_title, \"\")\n",
    "output_text = output_text.replace(excerpt, \"\")\n",
    "if original_author_text != \"\":\n",
    "    output_text = output_text.replace(original_author_text, \"\")\n",
    "if original_illustrator_text != \"\":\n",
    "    output_text = output_text.replace(original_illustrator_text, \"\")\n",
    "if original_photo_text != \"\":\n",
    "    output_text = output_text.replace(original_photo_text, \"\")\n",
    "# TODO how to handle quotes\n",
    "# output_text = output_text.replace(quotes, \"\")\n",
    "\n"
   ]
  },
  {
   "cell_type": "markdown",
   "metadata": {},
   "source": [
    "Since there is no end found the text must be extracted and added together from the next page"
   ]
  },
  {
   "cell_type": "code",
   "execution_count": null,
   "metadata": {},
   "outputs": [],
   "source": [
    "src = fitz.open(\"../PyMuPDF_playground/574_augustin_fertig_kontrolle.pdf\")\n",
    "new_doc = fitz.open()  # empty output PDF\n",
    "\n",
    "page = src.load_page(4)"
   ]
  },
  {
   "cell_type": "markdown",
   "metadata": {},
   "source": [
    "## Bild Extrahierung mit Bildbeschreibung"
   ]
  },
  {
   "cell_type": "code",
   "execution_count": 120,
   "metadata": {},
   "outputs": [
    {
     "name": "stdout",
     "output_type": "stream",
     "text": [
      "['Das CND-Friedenssymbol (wie hier statt dem «O» in MORE) wurde zum ersten Mal vor 65 Jahren in London hochgehalten', '© nina thiel']\n",
      "caption,descirption:  Das CND-Friedenssymbol (wie hier statt dem «O» in MORE) wurde zum ersten Mal vor 65 Jahren in London hochgehalten © nina thiel\n",
      "['Claudia Brunner: Friedensforscherin', '© riccio.at, Klagenfurt']\n",
      "caption,descirption:  Claudia Brunner: Friedensforscherin © riccio.at, Klagenfurt\n",
      "['Werner Wintersteiner: Friedensforscher', 'foto: christoph fellmer']\n",
      "caption,descirption:  Werner Wintersteiner: Friedensforscher foto: christoph fellmer\n"
     ]
    }
   ],
   "source": [
    "global_path = (\n",
    "    \"/home/funny/Documents/Projects/230701-Parsing-Tool/augustin-plugin/sample_data/\"\n",
    ")\n",
    "\n",
    "global_url = \"http://localhost:10004/wp-json/wp/v2/\"\n",
    "\n",
    "def upload_image_notebook(image_path, image_subheaders):\n",
    "    \"\"\"Upload the image to the Wordpress media library.\"\"\"\n",
    "    url = global_url + \"media\"\n",
    "\n",
    "    user = \"lebe\"\n",
    "    password = \"gUwM J4pU sngD VHpk Cub7 quS2\"\n",
    "\n",
    "    credentials = user + \":\" + password\n",
    "\n",
    "    token = base64.b64encode(credentials.encode())\n",
    "\n",
    "    header = {\"Authorization\": \"Basic \" + token.decode(\"utf-8\")}\n",
    "\n",
    "    \n",
    "    # if case of 0 image_subheaders is not being covered since it is fine if there is no additional meta information\n",
    "    if (len(image_subheaders) == 1):\n",
    "        caption = image_subheaders[0]\n",
    "        print(caption)\n",
    "        media = {\"file\": open(image_path, \"rb\"), \"title\": caption}\n",
    "    elif (len(image_subheaders) == 2):\n",
    "        caption = image_subheaders[0]\n",
    "        description = image_subheaders[1]\n",
    "        print(\"caption,descirption: \",caption, description)\n",
    "        media = {\"file\": open(image_path, \"rb\"), \"title\": caption}\n",
    "    else:\n",
    "        raise Exception(\"More than 2 image subheaders found\", (len(image_subheaders)), image_subheaders)\n",
    "\n",
    "    response = requests.post(url, headers=header, files=media)\n",
    "\n",
    "    image_id = json.loads(response.content)[\"id\"]\n",
    "\n",
    "    return image_id\n",
    "\n",
    "# src = fitz.open(\"../PyMuPDF_playground/570_augustin_fertig_kontrolle.pdf\")\n",
    "src = fitz.open(\"./temp.pdf\")\n",
    "new_doc = fitz.open()  # empty output PDF\n",
    "\n",
    "page = src.load_page(3)\n",
    "\n",
    "pix = page.get_pixmap()  # render page to an image\n",
    "pix.save(\"page-%i.png\" % page.number) \n",
    "\n",
    "caption_list_for_removing_text = []\n",
    "items = page.get_images(full=True)\n",
    "for item in items:\n",
    "    xref = item[0]\n",
    "    rect = page.get_image_bbox(item)\n",
    "    rect.y1 = rect.y1 + 30\n",
    "    rect.x0 = rect.x0 - 10\n",
    "    rect.x1 = rect.x1 + 10\n",
    "    page.draw_rect(rect, color=fitz.utils.getColor('purple'))\n",
    "    src.save(\"temp.pdf\")\n",
    "    image_subheaders = page.get_textbox(rect).split(\"\\n\")\n",
    "    print(image_subheaders)\n",
    "    caption_list_for_removing_text.append(image_subheaders)\n",
    "    image = src.extract_image(xref)\n",
    "    image_name = src.name.split(\".\")[0] + \"_image_\" + str(xref)\n",
    "    image_path = os.path.join(\n",
    "        global_path,\n",
    "        image_name + \".\" + image[\"ext\"],\n",
    "    )\n",
    "    with open(\n",
    "        (image_path),\n",
    "        \"wb\",\n",
    "    ) as imgout:\n",
    "        imgout.write(image[\"image\"])\n",
    "        imgout.close()\n",
    "    \n",
    "    upload_image_notebook(image_path, image_subheaders)\n"
   ]
  },
  {
   "cell_type": "markdown",
   "metadata": {},
   "source": [
    "# Angehensweise zur Extrahierung des Cover-Texts\n",
    "1. Nimm den gesamten Text von `page.get_text(\"text\")`\n",
    "2. Bestimme Titel, Ausschnitt, Zitate, Bildunterschriften, Credits (Author, Foto etc.)\n",
    "3. Lösche schrittweise Passagen aus dem Text, die nicht Teil des Inhalts sind (Titel, Ausschnitt...) -> Inhalt muss zwischen diesen Passagen liegen\n",
    "4. Abhängig, ob auf der gleichen Seite schon der Text endet durch ein \"■\", muss der Text mit der zweiten Seite zusammengeknüpft werden\n",
    "5. Sende das Cover Bild auf der linken Seite als Hauptbild mit und füge die restlich Bilder mit an"
   ]
  },
  {
   "cell_type": "markdown",
   "metadata": {},
   "source": [
    "## TODO\n",
    "1. Schicke Bild-caption und -description mit hinzu [Source](https://developer.wordpress.org/rest-api/reference/media/#schema-caption)\n",
    "2. [Post](https://wordpress.org/support/topic/how-to-include-multiple-images-in-wordpress-wp-api-post/) that says multiple images in REST API Post-Request not possible"
   ]
  },
  {
   "cell_type": "markdown",
   "metadata": {},
   "source": [
    "# Split double page in two single pages"
   ]
  },
  {
   "cell_type": "code",
   "execution_count": 121,
   "metadata": {},
   "outputs": [
    {
     "data": {
      "text/plain": [
       "67"
      ]
     },
     "execution_count": 121,
     "metadata": {},
     "output_type": "execute_result"
    }
   ],
   "source": [
    "r = page.rect\n",
    "d = fitz.Rect(\n",
    "    # CropBox displacement if being set\n",
    "    page.cropbox_position,\n",
    "    page.cropbox_position,\n",
    ")  # starting at (0, 0)\n",
    "\n",
    "r1 = r\n",
    "r1.x1 = r1.x1 / 2  # left side of double page\n",
    "r2 = r1 + (r1.width, 0, r1.width, 0)  # right side of double page\n",
    "# r2 = r + (r.width / 2, 0, 0, 0)  # right side of double page\n",
    "\n",
    "r2 += d  # add the CropBox displacement\n",
    "new_page_left = new_doc.new_page(-1, width=r1.width, height=r1.height)\n",
    "new_page_left.show_pdf_page(\n",
    "    new_page_left.rect,\n",
    "    src,\n",
    "    page.number,\n",
    "    clip=r1,\n",
    ")"
   ]
  }
 ],
 "metadata": {
  "kernelspec": {
   "display_name": "base",
   "language": "python",
   "name": "python3"
  },
  "language_info": {
   "codemirror_mode": {
    "name": "ipython",
    "version": 3
   },
   "file_extension": ".py",
   "mimetype": "text/x-python",
   "name": "python",
   "nbconvert_exporter": "python",
   "pygments_lexer": "ipython3",
   "version": "3.10.12"
  },
  "orig_nbformat": 4
 },
 "nbformat": 4,
 "nbformat_minor": 2
}
